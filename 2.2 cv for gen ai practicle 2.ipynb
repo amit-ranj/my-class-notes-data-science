{
 "cells": [
  {
   "cell_type": "markdown",
   "id": "c2995ce3-b6f3-470c-8adc-a6f0b825ae72",
   "metadata": {},
   "source": [
    "# Introduction to opencv & image processing"
   ]
  },
  {
   "cell_type": "code",
   "execution_count": 3,
   "id": "f2c837fa-8f1e-4bd2-83f8-2f539fcc14e4",
   "metadata": {},
   "outputs": [
    {
     "name": "stdout",
     "output_type": "stream",
     "text": [
      "Collecting opencv-python\n",
      "  Downloading opencv_python-4.11.0.86-cp37-abi3-win_amd64.whl.metadata (20 kB)\n",
      "Requirement already satisfied: numpy>=1.21.2 in c:\\users\\amit\\anaconda3\\lib\\site-packages (from opencv-python) (1.26.4)\n",
      "Downloading opencv_python-4.11.0.86-cp37-abi3-win_amd64.whl (39.5 MB)\n",
      "   ---------------------------------------- 0.0/39.5 MB ? eta -:--:--\n",
      "   - -------------------------------------- 1.6/39.5 MB 9.3 MB/s eta 0:00:05\n",
      "   --- ------------------------------------ 3.4/39.5 MB 8.4 MB/s eta 0:00:05\n",
      "   ----- ---------------------------------- 5.0/39.5 MB 7.9 MB/s eta 0:00:05\n",
      "   ------ --------------------------------- 6.0/39.5 MB 7.2 MB/s eta 0:00:05\n",
      "   ------- -------------------------------- 7.6/39.5 MB 7.2 MB/s eta 0:00:05\n",
      "   --------- ------------------------------ 9.2/39.5 MB 7.2 MB/s eta 0:00:05\n",
      "   ---------- ----------------------------- 10.0/39.5 MB 6.7 MB/s eta 0:00:05\n",
      "   ----------- ---------------------------- 11.8/39.5 MB 6.8 MB/s eta 0:00:05\n",
      "   ------------- -------------------------- 13.4/39.5 MB 6.9 MB/s eta 0:00:04\n",
      "   --------------- ------------------------ 15.2/39.5 MB 7.0 MB/s eta 0:00:04\n",
      "   ---------------- ----------------------- 16.8/39.5 MB 7.1 MB/s eta 0:00:04\n",
      "   ------------------ --------------------- 18.4/39.5 MB 7.1 MB/s eta 0:00:03\n",
      "   -------------------- ------------------- 19.9/39.5 MB 7.1 MB/s eta 0:00:03\n",
      "   --------------------- ------------------ 21.5/39.5 MB 7.2 MB/s eta 0:00:03\n",
      "   ----------------------- ---------------- 22.8/39.5 MB 7.2 MB/s eta 0:00:03\n",
      "   ------------------------ --------------- 24.4/39.5 MB 7.2 MB/s eta 0:00:03\n",
      "   -------------------------- ------------- 26.2/39.5 MB 7.2 MB/s eta 0:00:02\n",
      "   ---------------------------- ----------- 27.8/39.5 MB 7.2 MB/s eta 0:00:02\n",
      "   ------------------------------ --------- 29.6/39.5 MB 7.3 MB/s eta 0:00:02\n",
      "   ------------------------------- -------- 31.2/39.5 MB 7.3 MB/s eta 0:00:02\n",
      "   --------------------------------- ------ 32.8/39.5 MB 7.3 MB/s eta 0:00:01\n",
      "   ---------------------------------- ----- 34.3/39.5 MB 7.3 MB/s eta 0:00:01\n",
      "   ----------------------------------- ---- 34.9/39.5 MB 7.1 MB/s eta 0:00:01\n",
      "   ----------------------------------- ---- 35.1/39.5 MB 6.9 MB/s eta 0:00:01\n",
      "   ------------------------------------ --- 36.2/39.5 MB 6.7 MB/s eta 0:00:01\n",
      "   -------------------------------------- - 38.0/39.5 MB 6.8 MB/s eta 0:00:01\n",
      "   ---------------------------------------  39.3/39.5 MB 6.8 MB/s eta 0:00:01\n",
      "   ---------------------------------------- 39.5/39.5 MB 6.7 MB/s eta 0:00:00\n",
      "Installing collected packages: opencv-python\n",
      "Successfully installed opencv-python-4.11.0.86\n",
      "Note: you may need to restart the kernel to use updated packages.\n"
     ]
    }
   ],
   "source": [
    "pip install opencv-python"
   ]
  },
  {
   "cell_type": "code",
   "execution_count": 1,
   "id": "8785352f-1e1f-4ec8-901c-796ce74c0470",
   "metadata": {},
   "outputs": [],
   "source": [
    "import numpy as np\n",
    "import matplotlib.pyplot as plt\n",
    "%matplotlib inline"
   ]
  },
  {
   "cell_type": "code",
   "execution_count": 3,
   "id": "4fb9f8b1-b7ac-42b6-8413-4d52a591fe00",
   "metadata": {},
   "outputs": [],
   "source": [
    "import cv2"
   ]
  },
  {
   "cell_type": "code",
   "execution_count": null,
   "id": "1e9abd86-c431-407f-82b9-47b245e9a13b",
   "metadata": {},
   "outputs": [],
   "source": []
  },
  {
   "cell_type": "code",
   "execution_count": null,
   "id": "dd27c035-0e51-49c3-8e3c-cc408fd5a6a8",
   "metadata": {},
   "outputs": [],
   "source": []
  },
  {
   "cell_type": "code",
   "execution_count": null,
   "id": "b544cca3-bbb5-4def-8bd7-633b66d474e0",
   "metadata": {},
   "outputs": [],
   "source": []
  },
  {
   "cell_type": "code",
   "execution_count": null,
   "id": "0bf5fe29-e46e-419c-ba3b-ae7e3e272d0b",
   "metadata": {},
   "outputs": [],
   "source": []
  },
  {
   "cell_type": "code",
   "execution_count": null,
   "id": "deb558d3-dae0-40aa-86d2-c53a60fc5063",
   "metadata": {},
   "outputs": [],
   "source": []
  },
  {
   "cell_type": "code",
   "execution_count": null,
   "id": "7fc9a5bb-c619-4054-80bf-11b42b204ecc",
   "metadata": {},
   "outputs": [],
   "source": []
  },
  {
   "cell_type": "code",
   "execution_count": null,
   "id": "4e743f31-82b2-47f7-8e49-028b31bc9c28",
   "metadata": {},
   "outputs": [],
   "source": []
  },
  {
   "cell_type": "code",
   "execution_count": null,
   "id": "0eafa961-3ebb-4bcc-8a35-89b9a53126f2",
   "metadata": {},
   "outputs": [],
   "source": []
  },
  {
   "cell_type": "code",
   "execution_count": null,
   "id": "2497ee48-9c82-4d61-b018-ee01cc65edd2",
   "metadata": {},
   "outputs": [],
   "source": []
  },
  {
   "cell_type": "code",
   "execution_count": null,
   "id": "d61df590-cead-49d2-89d0-b4d70d7d5da8",
   "metadata": {},
   "outputs": [],
   "source": []
  },
  {
   "cell_type": "code",
   "execution_count": null,
   "id": "ae982e2c-5457-4fad-ab7b-9953b9e6d5e3",
   "metadata": {},
   "outputs": [],
   "source": []
  },
  {
   "cell_type": "code",
   "execution_count": null,
   "id": "6fcad19b-07ad-49e2-ab37-94627d9e6e41",
   "metadata": {},
   "outputs": [],
   "source": []
  },
  {
   "cell_type": "code",
   "execution_count": null,
   "id": "8dd7e24b-ff48-4f7d-a977-a7e46e32ce9d",
   "metadata": {},
   "outputs": [],
   "source": []
  },
  {
   "cell_type": "code",
   "execution_count": null,
   "id": "f271e036-be01-4b87-abf7-014322b436f4",
   "metadata": {},
   "outputs": [],
   "source": []
  },
  {
   "cell_type": "code",
   "execution_count": null,
   "id": "415a4f1a-7c8e-49f2-a66d-27bbdc75785a",
   "metadata": {},
   "outputs": [],
   "source": []
  },
  {
   "cell_type": "code",
   "execution_count": null,
   "id": "e8e6c310-a2b9-4132-8077-c734361837c1",
   "metadata": {},
   "outputs": [],
   "source": []
  },
  {
   "cell_type": "code",
   "execution_count": null,
   "id": "c6b2ff66-1fe5-4edf-b0ef-d7f251f43e26",
   "metadata": {},
   "outputs": [],
   "source": []
  }
 ],
 "metadata": {
  "kernelspec": {
   "display_name": "Python 3 (ipykernel)",
   "language": "python",
   "name": "python3"
  },
  "language_info": {
   "codemirror_mode": {
    "name": "ipython",
    "version": 3
   },
   "file_extension": ".py",
   "mimetype": "text/x-python",
   "name": "python",
   "nbconvert_exporter": "python",
   "pygments_lexer": "ipython3",
   "version": "3.12.7"
  }
 },
 "nbformat": 4,
 "nbformat_minor": 5
}
