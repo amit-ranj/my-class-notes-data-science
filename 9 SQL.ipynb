{
 "cells": [
  {
   "cell_type": "markdown",
   "id": "c5c90755-73d3-4d7f-8dc8-f1e0a47c1141",
   "metadata": {},
   "source": [
    "# 5 April class 34"
   ]
  },
  {
   "cell_type": "markdown",
   "id": "dd8a6983-117a-4270-b147-7a2e93260bd5",
   "metadata": {},
   "source": [
    "mysql -u root -p \n",
    "\n",
    "to setup enivronment variable\n",
    "- step 1 start -env edit the system environment variable\n",
    "- step-2 environment variable\n",
    "- step-3 path in system variables...\n",
    "- step-4 edit path\n",
    "search path where sql is installed\n",
    "copy it \n",
    "click new at system variable path edit\n",
    "paste it\n",
    "apply\n",
    "\n",
    "in cmd type mysql -u root -p  to use sql in cmd\n",
    "-u user\n",
    "-p password\n"
   ]
  },
  {
   "cell_type": "markdown",
   "id": "4868375b-eaef-4f1d-9713-f7f1724071cb",
   "metadata": {},
   "source": [
    "\n",
    "mysql> show databases;\n",
    "\n",
    "+--------------------+\n",
    "| Database           |\n",
    "+--------------------+\n",
    "| information_schema |\n",
    "| mysql              |\n",
    "| performance_schema |\n",
    "| sys                |\n",
    "+--------------------+\n",
    "\n",
    "4 rows in set (0.00 sec)\n",
    "\n",
    "mysql> create database nit;\n",
    "\n",
    "Query OK, 1 row affected (0.03 sec)\n",
    "\n",
    "mysql> show databases;\n",
    "\n",
    "+--------------------+\n",
    "| Database           |\n",
    "+--------------------+\n",
    "| information_schema |\n",
    "| mysql              |\n",
    "| nit                |\n",
    "| performance_schema |\n",
    "| sys                |\n",
    "+--------------------+\n",
    "\n",
    "5 rows in set (0.00 sec)\n",
    "\n",
    "mysql> system cls"
   ]
  },
  {
   "cell_type": "markdown",
   "id": "ac024afd-085a-4b2c-9604-ea32765c3400",
   "metadata": {},
   "source": [
    "mysql> show databases;\n",
    "\n",
    "+--------------------+\n",
    "| Database           |\n",
    "+--------------------+\n",
    "| information_schema |\n",
    "| mysql              |\n",
    "| nit                |\n",
    "| performance_schema |\n",
    "| sys                |\n",
    "+--------------------+\n",
    "\n",
    "5 rows in set (0.00 sec)\n",
    "\n",
    "mysql> use nit\n",
    "\n",
    "Database changed\n",
    "\n",
    "mysql> create table student(\n",
    "\n",
    "    -> name varchar(30),\n",
    "    \n",
    "    -> id int not null primary key,\n",
    "    \n",
    "    -> address varchar(50),\n",
    "    \n",
    "    -> marks int);\n",
    "\n",
    "Query OK, 0 rows affected (0.07 sec)\n",
    "\n",
    "mysql>"
   ]
  }
 ],
 "metadata": {
  "kernelspec": {
   "display_name": "Python 3 (ipykernel)",
   "language": "python",
   "name": "python3"
  },
  "language_info": {
   "codemirror_mode": {
    "name": "ipython",
    "version": 3
   },
   "file_extension": ".py",
   "mimetype": "text/x-python",
   "name": "python",
   "nbconvert_exporter": "python",
   "pygments_lexer": "ipython3",
   "version": "3.12.7"
  }
 },
 "nbformat": 4,
 "nbformat_minor": 5
}
