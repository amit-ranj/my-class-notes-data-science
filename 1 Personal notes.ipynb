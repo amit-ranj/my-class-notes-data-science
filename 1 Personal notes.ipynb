{
 "cells": [
  {
   "cell_type": "markdown",
   "id": "c28c74a2-5b27-4ec3-89fb-e1d15a47382b",
   "metadata": {},
   "source": [
    "**IDE (INTEGRATED DEVELOPMENT ENVIRONMENT) =>**"
   ]
  },
  {
   "cell_type": "raw",
   "id": "97524161-07cc-47f7-a9fc-db2023339102",
   "metadata": {},
   "source": [
    "        -> using IDE - one can write code, run the code, debug the code\n",
    "        -> IDE takes care of interpreting the Python code, running python scripts, building executables, and debugging the applications.\n",
    "        -> An IDE enables programmers to combine the different aspects of writing a computer program.\n",
    "        -> if you wnated to be python developer only then you need to install (IDE -- PYCHARM)\n",
    "    "
   ]
  },
  {
   "cell_type": "markdown",
   "id": "a818ee81-01ab-4439-a916-833e46faf68c",
   "metadata": {},
   "source": [
    "**PYTHON INTERPRETER -->** **What is Python interpreter?**"
   ]
  },
  {
   "cell_type": "raw",
   "id": "1ac148e0-ab4c-4482-bcb1-120e7929d593",
   "metadata": {},
   "source": [
    "A python interpreter is a computer program that converts each high-level program statement\n",
    "                     into machine code. An interpreter translates the command that you write \n",
    "                        out into code that the computer can understand."
   ]
  },
  {
   "cell_type": "markdown",
   "id": "914f267f-609d-4a7a-8c13-88617a9d7b5e",
   "metadata": {},
   "source": [
    "**PYTHON INTERPRETER EXAMPLE -->** "
   ]
  },
  {
   "cell_type": "raw",
   "id": "b848e0c0-6b5d-49a4-bff7-91a50e9124a7",
   "metadata": {},
   "source": [
    "You write your Python code in a text file with a name like hello.py . How does that code Run? There is program installed on your computer named \"python3\" or \"python\", and its job is looking at and running your Python code. This type of program is called an \"interpreter\"."
   ]
  },
  {
   "cell_type": "markdown",
   "id": "4164c6ce-27b5-4998-8e2d-49fd1ac5bca8",
   "metadata": {},
   "source": [
    "**PYTHON INTERPRETER & COMPILER**\n",
    "Both compilers and interpreters are used to convert a program written in a high-level language into machine code understood by computers. "
   ]
  },
  {
   "cell_type": "markdown",
   "id": "f89f8b80-4139-41c0-bd10-9312b11f7f3c",
   "metadata": {},
   "source": [
    "**Interpreter -->**"
   ]
  },
  {
   "cell_type": "raw",
   "id": "ac4bd9d4-ec67-42d3-9c4e-a25ea23e3e31",
   "metadata": {},
   "source": [
    "-> Translates program one statement at a time\n",
    "    -> Interpreter run every line item\n",
    "    -> Execut the single, partial line of code\n",
    "    -> Easy for programming\n"
   ]
  },
  {
   "cell_type": "markdown",
   "id": "601b00fa-85c6-4a6c-ab65-31bb0637a72b",
   "metadata": {},
   "source": [
    "**Compiler -->**   "
   ]
  },
  {
   "cell_type": "raw",
   "id": "63e5c51e-6e97-432d-b8fd-60b8a6c10f79",
   "metadata": {},
   "source": [
    "    -> Scans the entire program and translates it as a whole into machine code.\n",
    "    -> No execution if an error occurs\n",
    "    -> you can not fix the bug (debug) line by line"
   ]
  },
  {
   "cell_type": "markdown",
   "id": "d26138ce-803e-4a92-8842-0fe4e5acf988",
   "metadata": {},
   "source": [
    "**Is Python an interpreter or compiler?**\n",
    "Python is an interpreted language, which means the source code of a Python program is converted into bytecode that is then executed by the\n",
    "Python virtual machine. Python is different from major compiled languages, such as C and C + +, as Python code is not required to be built\n",
    "and linked like code for these languages."
   ]
  },
  {
   "cell_type": "markdown",
   "id": "68c5675c-d251-4e75-a0a5-fb4e7c9724fc",
   "metadata": {},
   "source": [
    "**Anaconda**\n",
    "    Anaconda is a distribution of the Python and R programming languages for scientific computing (data science, machine learning applications,\n",
    "    large-scale data processing, predictive analytics, etc.), that aims to simplify package management and deployment"
   ]
  },
  {
   "cell_type": "markdown",
   "id": "9a971f18-17d2-468c-8cd7-030dbe7c215d",
   "metadata": {},
   "source": [
    "***Identifier***\n",
    "An identifier is a name given to entities like class, functions, variables, etc. It helps to differentiate one entity from another. "
   ]
  },
  {
   "cell_type": "code",
   "execution_count": 92,
   "id": "1e952aeb-0146-47a7-b762-e0a2730f4349",
   "metadata": {},
   "outputs": [
    {
     "data": {
      "text/plain": [
       "30"
      ]
     },
     "execution_count": 92,
     "metadata": {},
     "output_type": "execute_result"
    }
   ],
   "source": [
    "\n",
    "p = 20 \n",
    "p = p + 10 # Variable Overwriting \n",
    "p "
   ]
  },
  {
   "cell_type": "code",
   "execution_count": 94,
   "id": "f6b6edc1-2a76-4992-91fa-10e551e09dff",
   "metadata": {},
   "outputs": [],
   "source": [
    "import sys"
   ]
  },
  {
   "cell_type": "code",
   "execution_count": 96,
   "id": "c76d493c-90d5-4cda-946c-aeb3c51b9f4e",
   "metadata": {},
   "outputs": [
    {
     "data": {
      "text/plain": [
       "28"
      ]
     },
     "execution_count": 96,
     "metadata": {},
     "output_type": "execute_result"
    }
   ],
   "source": [
    "sys.getsizeof(int()) # size of integer object in bytes"
   ]
  },
  {
   "cell_type": "code",
   "execution_count": 98,
   "id": "41d029fa-5a16-44ad-abb6-cf83d7e1fac8",
   "metadata": {},
   "outputs": [
    {
     "data": {
      "text/plain": [
       "24"
      ]
     },
     "execution_count": 98,
     "metadata": {},
     "output_type": "execute_result"
    }
   ],
   "source": [
    "sys.getsizeof(float()) # size of float object in bytes "
   ]
  },
  {
   "cell_type": "code",
   "execution_count": 100,
   "id": "428e3bf8-1a36-4dc4-b907-89d8fe18fdfc",
   "metadata": {},
   "outputs": [
    {
     "data": {
      "text/plain": [
       "32"
      ]
     },
     "execution_count": 100,
     "metadata": {},
     "output_type": "execute_result"
    }
   ],
   "source": [
    "sys.getsizeof(complex()) # size of complex object in bytes "
   ]
  },
  {
   "cell_type": "code",
   "execution_count": null,
   "id": "69e94ba0-8c4b-4f94-a64c-518da842428c",
   "metadata": {},
   "outputs": [],
   "source": []
  },
  {
   "cell_type": "markdown",
   "id": "58b6e98d-4509-46f7-bc78-8bf4c204f000",
   "metadata": {},
   "source": [
    "# 26 FEB CLASS 5 \n",
    "        --> rules to define a variable in python\n",
    "                -> must start with alphabet or underscore _\n",
    "                -> can contain alphabet, digit and underscore\n",
    "                -> case sensitive - age, Age, AgE, AGE are different variables\n",
    "                -> can't be a pytho keyword\n",
    "        --> syntax:\n",
    "                variable_name = value\n",
    "**no need to define data type of a variable as a variable can have value of any data type and we don't have any term called constant in python as a variable in python can have any value at any instance of program**\n"
   ]
  },
  {
   "cell_type": "code",
   "execution_count": 2,
   "id": "38810d04-7547-493f-8de4-f3be6837a8e5",
   "metadata": {},
   "outputs": [
    {
     "name": "stdout",
     "output_type": "stream",
     "text": [
      "25\n"
     ]
    },
    {
     "data": {
      "text/plain": [
       "25"
      ]
     },
     "execution_count": 2,
     "metadata": {},
     "output_type": "execute_result"
    }
   ],
   "source": [
    "age = 25 # age is variable and its value is 25 which is integer \n",
    "print(age) # method 1 to get the output\n",
    "age # method 2 to get the output"
   ]
  },
  {
   "cell_type": "code",
   "execution_count": 4,
   "id": "42ca4256-1f49-4531-9224-176f9a1e693d",
   "metadata": {},
   "outputs": [
    {
     "name": "stdout",
     "output_type": "stream",
     "text": [
      "alice\n"
     ]
    }
   ],
   "source": [
    "name = \"alice\" # name variable has alice as value and the value is of string data type\n",
    "# always remember string must be enclose inside single quotation mark('string value') or double quotation mark(\"string value\") or triple quotation mark('''string value''')\n",
    "# triple quotation mark('''string value''') is used to when multiple lines or paragraph are to be typed.\n",
    "print(name)"
   ]
  },
  {
   "cell_type": "code",
   "execution_count": 97,
   "id": "31d33f3c-8b63-461f-a00f-1b059876f687",
   "metadata": {},
   "outputs": [
    {
     "name": "stdout",
     "output_type": "stream",
     "text": [
      "amit is this great.\n",
      "yes i am enjoying \n"
     ]
    }
   ],
   "source": [
    "a = \"\"\"amit is this great.\n",
    "yes i am enjoying \"\"\"\n",
    "print(a)\n",
    "# we can also use triple double quotes to write multiple lines at once."
   ]
  },
  {
   "cell_type": "code",
   "execution_count": 6,
   "id": "2412f2ea-2a7a-4da2-9736-b9c4582d19ab",
   "metadata": {},
   "outputs": [
    {
     "data": {
      "text/plain": [
       "3.2"
      ]
     },
     "execution_count": 6,
     "metadata": {},
     "output_type": "execute_result"
    }
   ],
   "source": [
    "price = 3.2 # price variable has 3.2 as float value\n",
    "price"
   ]
  },
  {
   "cell_type": "code",
   "execution_count": 8,
   "id": "2a5eb226-eeeb-4d9f-a66f-21e116ec5258",
   "metadata": {},
   "outputs": [
    {
     "data": {
      "text/plain": [
       "True"
      ]
     },
     "execution_count": 8,
     "metadata": {},
     "output_type": "execute_result"
    }
   ],
   "source": [
    "is_acrtive = True # is_acrtive is a variable to store boolean value True\n",
    "# boolean value - 'True' or 'False' -> T in true and F in false must be capital\n",
    "# the binary value of true is 1 and false is 0\n",
    "is_acrtive"
   ]
  },
  {
   "cell_type": "markdown",
   "id": "1775fc66-d32f-4c5a-82d5-c7f5fb1c0cd3",
   "metadata": {},
   "source": [
    "# using variables in expression"
   ]
  },
  {
   "cell_type": "code",
   "execution_count": 11,
   "id": "66af52ca-eb95-4cc4-8b61-7f8879f5db18",
   "metadata": {},
   "outputs": [
    {
     "name": "stdout",
     "output_type": "stream",
     "text": [
      "10\n"
     ]
    }
   ],
   "source": [
    "# value assigning\n",
    "a = 4\n",
    "b = 6\n",
    "# adding two variable and storing in variable named result\n",
    "result = a + b\n",
    "# printing the value store in result\n",
    "print(result)"
   ]
  },
  {
   "cell_type": "code",
   "execution_count": 13,
   "id": "bfa78c4a-3854-49ac-af47-e72fc62bd377",
   "metadata": {},
   "outputs": [],
   "source": [
    "# changing the value of a variable "
   ]
  },
  {
   "cell_type": "code",
   "execution_count": 15,
   "id": "2653d382-0965-4456-a697-4c3a8b3429d3",
   "metadata": {},
   "outputs": [
    {
     "name": "stdout",
     "output_type": "stream",
     "text": [
      "50\n"
     ]
    }
   ],
   "source": [
    "score = 50 # initial value to score is 50\n",
    "print(score)"
   ]
  },
  {
   "cell_type": "code",
   "execution_count": 17,
   "id": "caa0e531-55f4-439b-9f39-4e078d654e17",
   "metadata": {},
   "outputs": [
    {
     "name": "stdout",
     "output_type": "stream",
     "text": [
      "100\n"
     ]
    }
   ],
   "source": [
    "score = 100 # now the value of score is 100 (changed)\n",
    "print(score)"
   ]
  },
  {
   "cell_type": "markdown",
   "id": "9e0324b4-7799-4c92-9cb9-d51232d3e840",
   "metadata": {},
   "source": [
    "# concatenating strings\n",
    "# join(): Returns a concatenated string\n",
    "        The .join() method is used to combine elements of a list into a single string, using the specified separator.\n",
    "    Here, the separator is \"#, \" (hash followed by a comma and a space).\n",
    "    Each element in the web_tech list will be joined with this separator."
   ]
  },
  {
   "cell_type": "code",
   "execution_count": 3,
   "id": "a224236d-4aca-4adc-abd3-501609dc9706",
   "metadata": {},
   "outputs": [
    {
     "name": "stdout",
     "output_type": "stream",
     "text": [
      "Amit Ranjan\n",
      "HTML#, CSS#, JavaScript#, React\n",
      "HTML, CSS, JavaScript, React\n"
     ]
    }
   ],
   "source": [
    "# assigning string values to variables\n",
    "first_name = 'Amit'\n",
    "last_name = \"Ranjan\"\n",
    "\n",
    "# concatenation of above two string values\n",
    "full_name = first_name + \" \" + last_name\n",
    "print(full_name)\n",
    "\n",
    "web_tech = ['HTML', 'CSS', 'JavaScript', 'React']\n",
    "result = '#, '.join(web_tech) # separator is '#'\n",
    "print(result) # 'HTML# CSS# JavaScript# React'\n",
    "\n",
    "web_tech = ['HTML', 'CSS', 'JavaScript', 'React']\n",
    "result = ', '.join(web_tech) # separator is white space\n",
    "print(result) # 'HTML# CSS# JavaScript# React'"
   ]
  },
  {
   "cell_type": "markdown",
   "id": "99e8e17c-e686-49b3-8440-733a49ccb3f3",
   "metadata": {},
   "source": [
    "# using variales in a calculation"
   ]
  },
  {
   "cell_type": "code",
   "execution_count": 26,
   "id": "212b8fcb-2383-4c6b-a51c-c48ba8836bee",
   "metadata": {},
   "outputs": [
    {
     "name": "stdout",
     "output_type": "stream",
     "text": [
      "60\n"
     ]
    }
   ],
   "source": [
    "# assigning values to variables\n",
    "length = 10\n",
    "width = 6\n",
    "# calculating area of the rectangle\n",
    "area = length * width\n",
    "print(area)"
   ]
  },
  {
   "cell_type": "markdown",
   "id": "6c7843a3-3edd-4f30-b198-8a2473413347",
   "metadata": {},
   "source": [
    "# reassigning values to variables"
   ]
  },
  {
   "cell_type": "code",
   "execution_count": 31,
   "id": "708a4286-f1bd-44e8-8fee-b1aa0ac5fe80",
   "metadata": {},
   "outputs": [
    {
     "data": {
      "text/plain": [
       "10"
      ]
     },
     "execution_count": 31,
     "metadata": {},
     "output_type": "execute_result"
    }
   ],
   "source": [
    "x = 10 # initial value of x\n",
    "x"
   ]
  },
  {
   "cell_type": "code",
   "execution_count": 33,
   "id": "9977ed61-e352-45e2-8132-9aea77670131",
   "metadata": {},
   "outputs": [
    {
     "data": {
      "text/plain": [
       "20"
      ]
     },
     "execution_count": 33,
     "metadata": {},
     "output_type": "execute_result"
    }
   ],
   "source": [
    "x = 20 # reassigning a new value to x\n",
    "x"
   ]
  },
  {
   "cell_type": "code",
   "execution_count": 35,
   "id": "f0119cf8-fa8f-44a4-8682-167828b96f16",
   "metadata": {},
   "outputs": [],
   "source": [
    "# what will happen if we define multiple variable and pass multiple values to them\n",
    "a, b, c, d = 3,3.5,'amit',True"
   ]
  },
  {
   "cell_type": "code",
   "execution_count": 39,
   "id": "afc77630-5ff5-4934-b509-1ac9aeea34c4",
   "metadata": {},
   "outputs": [
    {
     "data": {
      "text/plain": [
       "True"
      ]
     },
     "execution_count": 39,
     "metadata": {},
     "output_type": "execute_result"
    }
   ],
   "source": [
    "a\n",
    "b\n",
    "c\n",
    "d\n",
    "# if typed in such a way python will execute all one by one but will show the last value of last variable executed"
   ]
  },
  {
   "cell_type": "code",
   "execution_count": 41,
   "id": "bfc1ec4d-9ead-421b-a20e-368195c92be9",
   "metadata": {},
   "outputs": [
    {
     "name": "stdout",
     "output_type": "stream",
     "text": [
      "3\n",
      "3.5\n",
      "amit\n",
      "True\n"
     ]
    }
   ],
   "source": [
    "# to print the value of all variable\n",
    "print(a)\n",
    "print(b)\n",
    "print(c)\n",
    "print(d)"
   ]
  },
  {
   "cell_type": "code",
   "execution_count": 43,
   "id": "847535fd-dcd5-404c-bfd0-a16daacf0773",
   "metadata": {},
   "outputs": [
    {
     "data": {
      "text/plain": [
       "['False',\n",
       " 'None',\n",
       " 'True',\n",
       " 'and',\n",
       " 'as',\n",
       " 'assert',\n",
       " 'async',\n",
       " 'await',\n",
       " 'break',\n",
       " 'class',\n",
       " 'continue',\n",
       " 'def',\n",
       " 'del',\n",
       " 'elif',\n",
       " 'else',\n",
       " 'except',\n",
       " 'finally',\n",
       " 'for',\n",
       " 'from',\n",
       " 'global',\n",
       " 'if',\n",
       " 'import',\n",
       " 'in',\n",
       " 'is',\n",
       " 'lambda',\n",
       " 'nonlocal',\n",
       " 'not',\n",
       " 'or',\n",
       " 'pass',\n",
       " 'raise',\n",
       " 'return',\n",
       " 'try',\n",
       " 'while',\n",
       " 'with',\n",
       " 'yield']"
      ]
     },
     "execution_count": 43,
     "metadata": {},
     "output_type": "execute_result"
    }
   ],
   "source": [
    "# important keywords\n",
    "import keyword\n",
    "keyword.kwlist"
   ]
  },
  {
   "cell_type": "markdown",
   "id": "2709f0f9-bcac-4e93-87dd-9be852e8514a",
   "metadata": {},
   "source": [
    "# CONCLUSION\n",
    "        -> variables can store any type of value or data and it can be changed as per the need\n",
    "        -> variables are dynamic -> they get determined by the type of value assigned to it. Means if an integer value is assigned to a variable then it is an integer variable.\n",
    "        -> values to the variable can be changed at any instance of programming."
   ]
  },
  {
   "cell_type": "code",
   "execution_count": null,
   "id": "c3a9fbc1-8cbc-40b1-ae8a-4290bdd2761f",
   "metadata": {},
   "outputs": [],
   "source": []
  },
  {
   "cell_type": "markdown",
   "id": "d251f5b8-b675-49b8-ba7e-6152d7b70c58",
   "metadata": {
    "jp-MarkdownHeadingCollapsed": true
   },
   "source": [
    "# 27 Feb class 6\n",
    "        "
   ]
  },
  {
   "cell_type": "markdown",
   "id": "92aa082b-b47e-4105-8c63-b8b8e8862fcb",
   "metadata": {},
   "source": [
    "# string operations\n",
    "    -> stings are immutable just like tuple()."
   ]
  },
  {
   "cell_type": "markdown",
   "id": "7727585b-f23a-4723-8204-f537a8e11c7b",
   "metadata": {},
   "source": [
    "# finding length of the variable -> len() function is not for int or float"
   ]
  },
  {
   "cell_type": "code",
   "execution_count": 156,
   "id": "27e054f4-3f2f-4f53-acd7-b23c0f773161",
   "metadata": {},
   "outputs": [
    {
     "data": {
      "text/plain": [
       "11"
      ]
     },
     "execution_count": 156,
     "metadata": {},
     "output_type": "execute_result"
    }
   ],
   "source": [
    "a = \"Amit Ranjan\"\n",
    "# finding length of the variable -> len() function is not for int or float\n",
    "len(a)"
   ]
  },
  {
   "cell_type": "markdown",
   "id": "491aa217-66aa-4e8f-b088-9b4d30b52d4b",
   "metadata": {},
   "source": [
    "# Unpacking characters"
   ]
  },
  {
   "cell_type": "code",
   "execution_count": 103,
   "id": "f0f07140-f979-4c2d-95fd-ad94b56b4ca7",
   "metadata": {},
   "outputs": [
    {
     "name": "stdout",
     "output_type": "stream",
     "text": [
      "P\n",
      "y\n",
      "t\n",
      "h\n",
      "o\n",
      "n\n"
     ]
    }
   ],
   "source": [
    "# Unpacking characters \n",
    "language = 'Python'\n",
    "a,b,c,d,e,f = language # unpacking sequence characters into variables\n",
    "print(a) # P\n",
    "print(b) # y\n",
    "print(c) # t \n",
    "print(d) # h\n",
    "print(e) # o\n",
    "print(f) # n"
   ]
  },
  {
   "cell_type": "markdown",
   "id": "4ef2f723-6b47-4476-a235-5577a6e13aac",
   "metadata": {},
   "source": [
    "# Accessing characters in strings by index"
   ]
  },
  {
   "cell_type": "code",
   "execution_count": 111,
   "id": "d5cc18a3-f330-4577-8916-171f5f6ceb0e",
   "metadata": {},
   "outputs": [
    {
     "name": "stdout",
     "output_type": "stream",
     "text": [
      "P\n",
      "y\n",
      "n\n",
      "n\n"
     ]
    }
   ],
   "source": [
    "# Accessing characters in strings by index\n",
    "language = 'Python'\n",
    "first_letter = language[0]\n",
    "print(first_letter) # P\n",
    "second_letter = language[1]\n",
    "print(second_letter) # y\n",
    "last_index = len(language) - 1\n",
    "last_letter = language[last_index]\n",
    "print(last_letter) # n\n",
    "print(language[-1]) # backward indexing in string"
   ]
  },
  {
   "cell_type": "markdown",
   "id": "06e5a257-df15-4f65-ae0a-4ec7cbe3741c",
   "metadata": {},
   "source": [
    "# Skipping character while splitting Python strings"
   ]
  },
  {
   "cell_type": "code",
   "execution_count": 158,
   "id": "2cfe9443-8abe-458e-8b5e-ffde8638fa23",
   "metadata": {},
   "outputs": [
    {
     "name": "stdout",
     "output_type": "stream",
     "text": [
      "Pto\n",
      "hon\n"
     ]
    }
   ],
   "source": [
    "# Skipping character while splitting Python strings\n",
    "language = 'Python'\n",
    "pto = language[0:6:2] # start form 0 (p) to 6 - 1 = 5 (n) and show every 2nd number\n",
    "print(pto) # pto\n",
    "print(language[-3:]) # start from -3 (h) to end (as no index is writen after colon(:))"
   ]
  },
  {
   "attachments": {
    "f77f04c7-d33f-4ae0-bc7a-7b2635023549.png": {
     "image/png": "[encoded data removed]"
    }
   },
   "cell_type": "markdown",
   "id": "7e398c83-e274-4aa4-8e2f-6f855d4d333f",
   "metadata": {},
   "source": [
    "# Escape sequence\n",
    "![image.png](attachment:f77f04c7-d33f-4ae0-bc7a-7b2635023549.png)"
   ]
  },
  {
   "cell_type": "code",
   "execution_count": 123,
   "id": "3d15c533-9475-4b92-8785-05269df7a282",
   "metadata": {},
   "outputs": [
    {
     "name": "stdout",
     "output_type": "stream",
     "text": [
      "I hope every one enjoying the python challenge.\n",
      "Do you ?\n",
      "Days\tTopics\tExercises\n",
      "Day 1\t3\t5\n",
      "Day 2\t3\t5\n",
      "Day 3\t3\t5\n",
      "Day 4\t3\t5\n",
      "This is a back slash  symbol (\\)\n",
      "In every programming language it starts with \"Hello, World!\"\n"
     ]
    }
   ],
   "source": [
    "# Escape sequence\n",
    "print('I hope every one enjoying the python challenge.\\nDo you ?') # line break -> \\n\n",
    "print('Days\\tTopics\\tExercises') # \\t for tab\n",
    "print('Day 1\\t3\\t5')\n",
    "print('Day 2\\t3\\t5')\n",
    "print('Day 3\\t3\\t5')\n",
    "print('Day 4\\t3\\t5')\n",
    "print('This is a back slash  symbol (\\\\)') # To write a back slash we use two back slash where first is for escape sequence\n",
    "print('In every programming language it starts with \\\"Hello, World!\\\"')"
   ]
  },
  {
   "cell_type": "code",
   "execution_count": 9,
   "id": "6e210d9d-c9e4-4ea3-953f-2a45376603e4",
   "metadata": {},
   "outputs": [
    {
     "ename": "SyntaxError",
     "evalue": "unterminated string literal (detected at line 1) (1538650457.py, line 1)",
     "output_type": "error",
     "traceback": [
      "\u001b[1;36m  Cell \u001b[1;32mIn[9], line 1\u001b[1;36m\u001b[0m\n\u001b[1;33m    print('max it's\"Technology\"')\u001b[0m\n\u001b[1;37m                               ^\u001b[0m\n\u001b[1;31mSyntaxError\u001b[0m\u001b[1;31m:\u001b[0m unterminated string literal (detected at line 1)\n"
     ]
    }
   ],
   "source": [
    "print('max it's\"Technology\"')"
   ]
  },
  {
   "cell_type": "code",
   "execution_count": 11,
   "id": "0874f270-5073-43be-b24f-dc406a0f9662",
   "metadata": {},
   "outputs": [
    {
     "name": "stdout",
     "output_type": "stream",
     "text": [
      "max it's\"Technology\"\n"
     ]
    }
   ],
   "source": [
    "print('max it\\'s\"Technology\"') #\\ has some special meaning to ignore the error"
   ]
  },
  {
   "cell_type": "markdown",
   "id": "b120d7ae-9bdf-48ec-a496-42014579bb18",
   "metadata": {},
   "source": [
    "# String Methods\n",
    "# capitalize(): Converts the first character of the string to Capital Letter\n"
   ]
  },
  {
   "cell_type": "code",
   "execution_count": 133,
   "id": "df096fe0-0a15-49ab-a96c-70fc9e063e29",
   "metadata": {},
   "outputs": [
    {
     "name": "stdout",
     "output_type": "stream",
     "text": [
      "Thirty days of python\n"
     ]
    }
   ],
   "source": [
    "challenge = 'thirty days of python'\n",
    "print(challenge.capitalize()) # 'Thirty days of python'"
   ]
  },
  {
   "cell_type": "markdown",
   "id": "f76b4224-8f7f-42af-814b-655be1860a69",
   "metadata": {},
   "source": [
    "# count(): returns occurrences of substring in string, count(substring, start=.., end=..)"
   ]
  },
  {
   "cell_type": "code",
   "execution_count": 144,
   "id": "04e9defd-6983-4253-8a14-4d54d175d339",
   "metadata": {},
   "outputs": [
    {
     "name": "stdout",
     "output_type": "stream",
     "text": [
      "3\n",
      "1\n",
      "2\n",
      "2\n"
     ]
    }
   ],
   "source": [
    "challenge = 'thirty days of python'\n",
    "print(challenge.count('y')) # 3\n",
    "print(challenge.count('y', 7, 14)) # 1 -> here start is 7 (p) and end is 14 - 1 =13( )\n",
    "print(challenge.count('y', 7, 17)) # 2 -> here start is 7 (p) and end is 17 - 1 =16(y)\n",
    "print(challenge.count('th')) # 2`"
   ]
  },
  {
   "cell_type": "markdown",
   "id": "576bfa56-9597-4a13-b604-a788218d6b4f",
   "metadata": {},
   "source": [
    "# endswith(): Checks if a string ends with a specified ending"
   ]
  },
  {
   "cell_type": "code",
   "execution_count": 151,
   "id": "ac8b3076-6194-4ad0-9ae0-64c850d3531c",
   "metadata": {},
   "outputs": [
    {
     "name": "stdout",
     "output_type": "stream",
     "text": [
      "True\n",
      "False\n",
      "False\n"
     ]
    }
   ],
   "source": [
    "challenge = 'thirty days of python'\n",
    "print(challenge.endswith('on'))   # True\n",
    "print(challenge.endswith('tion')) # False\n",
    "print(challenge.endswith('ON')) # False -> its case sensitive"
   ]
  },
  {
   "cell_type": "markdown",
   "id": "31892020-33c2-4f12-8ba7-f8df404a2a09",
   "metadata": {},
   "source": [
    "# expandtabs(): Replaces tab character with spaces, default tab size is 8. It takes tab size argument"
   ]
  },
  {
   "cell_type": "code",
   "execution_count": 165,
   "id": "90a8f767-a618-454f-93b7-7b20e3b816e9",
   "metadata": {},
   "outputs": [
    {
     "name": "stdout",
     "output_type": "stream",
     "text": [
      "thirty  days    of      python\n",
      "thirty    days      of        python\n"
     ]
    }
   ],
   "source": [
    "challenge = 'thirty\\tdays\\tof\\tpython'\n",
    "print(challenge.expandtabs())   # 'thirty  days    of      python'\n",
    "print(challenge.expandtabs(10)) # 'thirty    days      of        python'\n",
    "# inside parenthesis( ), value 10 is written which is the new size of tab specified."
   ]
  },
  {
   "cell_type": "markdown",
   "id": "e333df3f-6a93-47dc-a945-fdc11a0f8b95",
   "metadata": {},
   "source": [
    "# find(): Returns the index of first occurrence of substring\n"
   ]
  },
  {
   "cell_type": "code",
   "execution_count": 168,
   "id": "420c31a4-ea47-4fd2-a08a-7c4a68e56962",
   "metadata": {},
   "outputs": [
    {
     "name": "stdout",
     "output_type": "stream",
     "text": [
      "5\n",
      "0\n"
     ]
    }
   ],
   "source": [
    "challenge = 'thirty days of python'\n",
    "print(challenge.find('y'))  # 5\n",
    "print(challenge.find('th')) # 0"
   ]
  },
  {
   "cell_type": "markdown",
   "id": "8281faba-751c-4197-989c-cfa093cd54d4",
   "metadata": {},
   "source": [
    "# format()\tformats string into nicer output\n",
    "        The format() method in Python is used for string formatting, allowing you to insert variables into a string in a structured way."
   ]
  },
  {
   "cell_type": "code",
   "execution_count": 222,
   "id": "b9ee2794-d11f-417c-bb03-3091b0bce7e4",
   "metadata": {},
   "outputs": [
    {
     "name": "stdout",
     "output_type": "stream",
     "text": [
      "I am Asabeneh Yetayeh. I am a teacher. I live in Finland.\n"
     ]
    }
   ],
   "source": [
    "first_name = 'Asabeneh'\n",
    "last_name = 'Yetayeh'\n",
    "job = 'teacher'\n",
    "country = 'Finland'\n",
    "sentence = 'I am {} {}. I am a {}. I live in {}.'.format(first_name, last_name, job, country)\n",
    "print(sentence) # I am Asabeneh Yetayeh. I am a teacher. I live in Finland."
   ]
  },
  {
   "cell_type": "code",
   "execution_count": 224,
   "id": "84adf4f3-cc31-42e5-9ba4-702e02fa775f",
   "metadata": {},
   "outputs": [
    {
     "name": "stdout",
     "output_type": "stream",
     "text": [
      "The area of circle with radius 10 is 314.0\n"
     ]
    }
   ],
   "source": [
    "radius = 10\n",
    "pi = 3.14\n",
    "area = pi * (radius ** 2) # radius ** 2 means radius to the power 2 -> radius multiplied by itself\n",
    "result = 'The area of circle with radius {} is {}'.format(str(radius), str(area)) # str(radius) -> radius is in integer so converting it to string to use it in format\n",
    "print(result) # The area of circle with 10 is 314.0"
   ]
  },
  {
   "cell_type": "markdown",
   "id": "2f00fbb4-337c-4816-94a9-8c10f86cd52f",
   "metadata": {},
   "source": [
    "# index(): Returns the index of substring\n",
    "        # it returns the index of first occurance of the given substring\n",
    "        # The find() method in Python returns the index of the first occurrence of the specified substring. \n",
    "            If the substring is not found, it returns -1.\n",
    "\n",
    "        # to print the index of the first occurance of 't'\n",
    "        # The index() method in Python returns the index of the first occurrence of the specified substring. \n",
    "            If the substring is not found, it raises a ValueError.\n",
    "\n",
    "        # To find the last occurrence of 'y' in the string \"thirty days of python\", you can use either the .rfind() or .rindex() method\n"
   ]
  },
  {
   "cell_type": "code",
   "execution_count": 227,
   "id": "43bcc417-47fa-422e-925d-eff75c13a184",
   "metadata": {},
   "outputs": [
    {
     "name": "stdout",
     "output_type": "stream",
     "text": [
      "5\n",
      "0\n",
      "-1\n"
     ]
    }
   ],
   "source": [
    "challenge = 'thirty days of python'\n",
    "print(challenge.find('y'))  # 5\n",
    "print(challenge.find('th')) # 0\n",
    "# it returns the index of first occurance of the given substring\n",
    "# The find() method in Python returns the index of the first occurrence of the specified substring. If the substring is not found, it returns -1.\n",
    "print(challenge.find('x')) # as x is not in the string and can't be found so it will return -1"
   ]
  },
  {
   "cell_type": "code",
   "execution_count": 229,
   "id": "c43d99fb-b38f-4637-8df6-bd0324415a27",
   "metadata": {},
   "outputs": [
    {
     "name": "stdout",
     "output_type": "stream",
     "text": [
      "0\n"
     ]
    },
    {
     "ename": "ValueError",
     "evalue": "substring not found",
     "output_type": "error",
     "traceback": [
      "\u001b[1;31m---------------------------------------------------------------------------\u001b[0m",
      "\u001b[1;31mValueError\u001b[0m                                Traceback (most recent call last)",
      "Cell \u001b[1;32mIn[229], line 4\u001b[0m\n\u001b[0;32m      1\u001b[0m \u001b[38;5;28mprint\u001b[39m(challenge\u001b[38;5;241m.\u001b[39mindex(\u001b[38;5;124m'\u001b[39m\u001b[38;5;124mt\u001b[39m\u001b[38;5;124m'\u001b[39m))\n\u001b[0;32m      2\u001b[0m \u001b[38;5;66;03m# to print the index of the first occurance of 't'\u001b[39;00m\n\u001b[0;32m      3\u001b[0m \u001b[38;5;66;03m# The index() method in Python returns the index of the first occurrence of the specified substring. If the substring is not found, it raises a ValueError.\u001b[39;00m\n\u001b[1;32m----> 4\u001b[0m \u001b[38;5;28mprint\u001b[39m(challenge\u001b[38;5;241m.\u001b[39mindex(\u001b[38;5;124m'\u001b[39m\u001b[38;5;124mx\u001b[39m\u001b[38;5;124m'\u001b[39m))\n",
      "\u001b[1;31mValueError\u001b[0m: substring not found"
     ]
    }
   ],
   "source": [
    "print(challenge.index('t'))\n",
    "# to print the index of the first occurance of 't'\n",
    "# The index() method in Python returns the index of the first occurrence of the specified substring. If the substring is not found, it raises a ValueError.\n",
    "print(challenge.index('x')) # as x is not in the string hence ValueError will be the output"
   ]
  },
  {
   "cell_type": "code",
   "execution_count": 231,
   "id": "9930bf13-ea92-4fe5-9b57-ec384c214a46",
   "metadata": {},
   "outputs": [
    {
     "name": "stdout",
     "output_type": "stream",
     "text": [
      "18\n",
      "16\n"
     ]
    }
   ],
   "source": [
    "# To find the last occurrence of 'y' in the string \"thirty days of python\", you can use either the .rfind() or .rindex() method\n",
    "print(challenge.rindex('h'))\n",
    "print(challenge.rfind('y'))"
   ]
  },
  {
   "cell_type": "markdown",
   "id": "c9f23c8a-8b72-4bc7-9f3c-619e47aaf4f8",
   "metadata": {},
   "source": [
    "# isalnum(): Checks alphanumeric character\n",
    "    The .isalnum() method in Python checks if a string consists only of alphanumeric characters (letters and digits) without any spaces or special characters."
   ]
  },
  {
   "cell_type": "code",
   "execution_count": 185,
   "id": "8a3496e3-4e9d-4132-8edf-25dfea0e63a5",
   "metadata": {},
   "outputs": [
    {
     "name": "stdout",
     "output_type": "stream",
     "text": [
      "True\n"
     ]
    }
   ],
   "source": [
    "challenge = 'ThirtyDaysPython'\n",
    "print(challenge.isalnum()) # True"
   ]
  },
  {
   "cell_type": "code",
   "execution_count": 186,
   "id": "b5303c78-0d52-461b-9df6-3871b997d5ed",
   "metadata": {},
   "outputs": [
    {
     "name": "stdout",
     "output_type": "stream",
     "text": [
      "True\n"
     ]
    }
   ],
   "source": [
    "challenge = '30DaysPython'\n",
    "print(challenge.isalnum()) # True"
   ]
  },
  {
   "cell_type": "code",
   "execution_count": 189,
   "id": "ac297c52-cd05-4271-9c52-9e278163dd6b",
   "metadata": {},
   "outputs": [
    {
     "name": "stdout",
     "output_type": "stream",
     "text": [
      "False\n"
     ]
    }
   ],
   "source": [
    "challenge = 'thirty days of python'\n",
    "print(challenge.isalnum()) # False\n"
   ]
  },
  {
   "cell_type": "code",
   "execution_count": 191,
   "id": "ec95bca3-06ab-47ca-b7fc-437a247ad1c1",
   "metadata": {},
   "outputs": [
    {
     "name": "stdout",
     "output_type": "stream",
     "text": [
      "False\n"
     ]
    }
   ],
   "source": [
    "challenge = 'thirty days of python 2019'\n",
    "print(challenge.isalnum()) # False\n"
   ]
  },
  {
   "cell_type": "code",
   "execution_count": 234,
   "id": "960f07e5-9a03-4f0e-a81e-fe23b4bc2793",
   "metadata": {},
   "outputs": [
    {
     "name": "stdout",
     "output_type": "stream",
     "text": [
      "False\n"
     ]
    }
   ],
   "source": [
    "challenge = '30DaysPython.'\n",
    "print(challenge.isalnum()) # False"
   ]
  },
  {
   "cell_type": "markdown",
   "id": "d6806c97-abf5-42d9-922c-c1f8ff0f2743",
   "metadata": {},
   "source": [
    "# isalpha(): Checks if all characters are alphabets\n",
    "        checks that all characters in string are alphabets. no space no digit no special character should be there in the string"
   ]
  },
  {
   "cell_type": "code",
   "execution_count": 241,
   "id": "7cf4c94c-54c9-4d01-acc9-60000f7ec5b0",
   "metadata": {},
   "outputs": [
    {
     "name": "stdout",
     "output_type": "stream",
     "text": [
      "False\n",
      "False\n"
     ]
    }
   ],
   "source": [
    "challenge = 'thirty days of python'\n",
    "print(challenge.isalpha()) # False\n",
    "num = '123'\n",
    "print(num.isalpha())      # False"
   ]
  },
  {
   "cell_type": "code",
   "execution_count": 243,
   "id": "f2e42c5e-40eb-42b2-bb2b-6e86cecbd0da",
   "metadata": {},
   "outputs": [
    {
     "name": "stdout",
     "output_type": "stream",
     "text": [
      "True\n"
     ]
    }
   ],
   "source": [
    "challenge = 'thirtydaysofpython'\n",
    "print(challenge.isalpha())"
   ]
  },
  {
   "cell_type": "markdown",
   "id": "b702c65b-daec-49fa-b72b-c274036cdf19",
   "metadata": {},
   "source": [
    "# isdecimal(): Checks Decimal Characters\n",
    "        The .isdecimal() method in Python checks whether a string consists only of decimal digits (0-9) and no letters, spaces, or special characters. It returns True if all characters are decimal digits, otherwise False."
   ]
  },
  {
   "cell_type": "code",
   "execution_count": 248,
   "id": "c20e65e8-f365-4e3c-b4f4-0180c3a0a44d",
   "metadata": {},
   "outputs": [
    {
     "name": "stdout",
     "output_type": "stream",
     "text": [
      "True\n",
      "False\n"
     ]
    }
   ],
   "source": [
    "num = '10'\n",
    "print(num.isdecimal()) # True\n",
    "num = '10.5'\n",
    "print(num.isdecimal()) # False\n",
    "# here dot (.) -> special character in num makes it false as isdecimal() only works for whole numbers."
   ]
  },
  {
   "cell_type": "markdown",
   "id": "b87dfca3-d316-4247-8783-bc9fc868092c",
   "metadata": {},
   "source": [
    "# isdigit(): Checks Digit Characters"
   ]
  },
  {
   "cell_type": "code",
   "execution_count": 253,
   "id": "ec37b329-14ed-4682-a0a8-93e34f00f2de",
   "metadata": {},
   "outputs": [
    {
     "name": "stdout",
     "output_type": "stream",
     "text": [
      "False\n",
      "True\n"
     ]
    }
   ],
   "source": [
    "challenge = 'Thirty'\n",
    "print(challenge.isdigit()) # False\n",
    "challenge = '30'\n",
    "print(challenge.isdigit())   # True"
   ]
  },
  {
   "cell_type": "markdown",
   "id": "78fe7ac8-9908-4163-99fc-3c1672619518",
   "metadata": {},
   "source": [
    "# isidentifier():Checks for valid identifier means it check if a string is a valid variable name\n"
   ]
  },
  {
   "cell_type": "code",
   "execution_count": 256,
   "id": "4326c375-f5aa-47b0-93c0-6eaa8abcdde0",
   "metadata": {},
   "outputs": [
    {
     "name": "stdout",
     "output_type": "stream",
     "text": [
      "False\n",
      "True\n"
     ]
    }
   ],
   "source": [
    "challenge = '30DaysOfPython'\n",
    "print(challenge.isidentifier()) # False, because it starts with a number\n",
    "challenge = 'thirty_days_of_python'\n",
    "print(challenge.isidentifier()) # True\n"
   ]
  },
  {
   "cell_type": "markdown",
   "id": "88c77b33-4126-434b-b810-23fa465f3670",
   "metadata": {},
   "source": [
    "# islower():Checks if all alphabets in a string are lowercase\n",
    "            "
   ]
  },
  {
   "cell_type": "code",
   "execution_count": 259,
   "id": "b28f745f-c425-49f0-90be-33d1f2f8e77c",
   "metadata": {},
   "outputs": [
    {
     "name": "stdout",
     "output_type": "stream",
     "text": [
      "True\n",
      "False\n"
     ]
    }
   ],
   "source": [
    "challenge = 'thirty days of python'\n",
    "print(challenge.islower()) # True\n",
    "challenge = 'Thirty days of python'\n",
    "print(challenge.islower()) # False"
   ]
  },
  {
   "cell_type": "markdown",
   "id": "1d4c73ee-d055-44f3-9eb2-6a51d82c11c7",
   "metadata": {},
   "source": [
    "# isupper(): returns if all characters are uppercase characters"
   ]
  },
  {
   "cell_type": "code",
   "execution_count": 269,
   "id": "f3ded812-d969-4c48-a93b-32dc88b491be",
   "metadata": {},
   "outputs": [
    {
     "name": "stdout",
     "output_type": "stream",
     "text": [
      "False\n",
      "True\n",
      "False\n"
     ]
    }
   ],
   "source": [
    "challenge = 'thirty days of python'\n",
    "print(challenge.isupper()) #  False\n",
    "challenge = 'THIRTY DAYS OF PYTHON'\n",
    "print(challenge.isupper()) # True\n",
    "challenge = 'THIRTY DAYS Of PYTHON'\n",
    "print(challenge.isupper()) # False\n",
    "# all character must be uppercase"
   ]
  },
  {
   "cell_type": "markdown",
   "id": "ad250c97-aad8-4b61-a4ae-de889ae26303",
   "metadata": {},
   "source": [
    "# isnumeric():Checks numeric characters"
   ]
  },
  {
   "cell_type": "code",
   "execution_count": 265,
   "id": "6667f301-62ab-4f7c-b467-93adeefedd58",
   "metadata": {},
   "outputs": [
    {
     "name": "stdout",
     "output_type": "stream",
     "text": [
      "True\n",
      "False\n"
     ]
    }
   ],
   "source": [
    "num = '10'\n",
    "print(num.isnumeric())      # True\n",
    "print('ten'.isnumeric())    # False\n"
   ]
  },
  {
   "cell_type": "markdown",
   "id": "9447b93a-a940-460a-b3f6-fe3b3910ef9c",
   "metadata": {},
   "source": [
    "**similarly, we have**\n",
    "\n",
    "istitle() -> true if a string has first letter of each word capital\n",
    "\n",
    "isspace() -> true if string consists of only spaces, tabs, and new-lines."
   ]
  },
  {
   "cell_type": "markdown",
   "id": "5ac225b0-f557-44ea-a9e8-4a0dc9463cba",
   "metadata": {},
   "source": [
    "# strip(): Removes both leading and trailing characters\n",
    "    strip() \tBoth left & right ends\n",
    "    lstrip()\tLeft side (leading)\n",
    "    rstrip()\tRight side (trailing)"
   ]
  },
  {
   "cell_type": "code",
   "execution_count": 301,
   "id": "fb995e5d-e986-4ff2-9b0f-166235948c6d",
   "metadata": {},
   "outputs": [
    {
     "name": "stdout",
     "output_type": "stream",
     "text": [
      "thirty days of python\n"
     ]
    }
   ],
   "source": [
    "challenge = 'ythirty days of pythony'\n",
    "print(challenge.strip('y'))\n",
    "# here it removes y present at the start and end of the string"
   ]
  },
  {
   "cell_type": "code",
   "execution_count": 303,
   "id": "e207e28f-af02-4f1d-ba0f-021a5a07330c",
   "metadata": {},
   "outputs": [
    {
     "name": "stdout",
     "output_type": "stream",
     "text": [
      "thirty days of python\n"
     ]
    }
   ],
   "source": [
    "challenge = ' thirty days of python '\n",
    "print(challenge.strip()) # to remove the space from start and end of the string"
   ]
  },
  {
   "cell_type": "code",
   "execution_count": 305,
   "id": "a5ab43d0-7bb2-4c28-9767-5bca0722e60f",
   "metadata": {},
   "outputs": [
    {
     "name": "stdout",
     "output_type": "stream",
     "text": [
      "thirty days of pythony\n"
     ]
    }
   ],
   "source": [
    "challenge = 'ythirty days of pythony'\n",
    "print(challenge.lstrip('y'))\n",
    "# removes left side y (y present at the start)"
   ]
  },
  {
   "cell_type": "code",
   "execution_count": 307,
   "id": "2d072444-8664-4a3d-81ba-ae0bfa1fcddf",
   "metadata": {},
   "outputs": [
    {
     "name": "stdout",
     "output_type": "stream",
     "text": [
      "ythirty days of python\n"
     ]
    }
   ],
   "source": [
    "challenge = 'ythirty days of pythony'\n",
    "print(challenge.rstrip('y'))\n",
    "# removes right side y (y present at the end)"
   ]
  },
  {
   "cell_type": "markdown",
   "id": "c0b2bc2e-ffea-4e8b-9857-2c48070a7581",
   "metadata": {},
   "source": [
    "# replace(): Replaces substring inside"
   ]
  },
  {
   "cell_type": "code",
   "execution_count": 311,
   "id": "9d143189-8170-4030-bef0-0bac72ed637e",
   "metadata": {},
   "outputs": [
    {
     "name": "stdout",
     "output_type": "stream",
     "text": [
      "thirty days of coding\n"
     ]
    }
   ],
   "source": [
    "challenge = 'thirty days of python'\n",
    "print(challenge.replace('python', 'coding')) # 'thirty days of coding'"
   ]
  },
  {
   "cell_type": "markdown",
   "id": "1d1c0dbe-ef4b-494d-8b88-2f34d146f141",
   "metadata": {},
   "source": [
    "# split():Splits String from Left\n",
    "    The .split() method is used to split a string into a list of substrings, breaking at a specified separator. By default, it splits at whitespace.\n",
    "    syntax:\n",
    "        string.split(separator, maxsplit)"
   ]
  },
  {
   "cell_type": "code",
   "execution_count": 316,
   "id": "1e3de105-50db-480b-aad4-4f412bb228d8",
   "metadata": {},
   "outputs": [
    {
     "name": "stdout",
     "output_type": "stream",
     "text": [
      "['thirty', 'days', 'of', 'python']\n"
     ]
    }
   ],
   "source": [
    "challenge = 'thirty days of python'\n",
    "print(challenge.split()) # ['thirty', 'days', 'of', 'python']\n"
   ]
  },
  {
   "cell_type": "code",
   "execution_count": 318,
   "id": "111b71ce-4889-4a9a-ac7e-f1122f5746a7",
   "metadata": {},
   "outputs": [
    {
     "name": "stdout",
     "output_type": "stream",
     "text": [
      "['apple', 'banana', 'orange', 'grape']\n"
     ]
    }
   ],
   "source": [
    "text = \"apple,banana,orange,grape\"\n",
    "result = text.split(\",\")  # Split at commas\n",
    "print(result)\n"
   ]
  },
  {
   "cell_type": "code",
   "execution_count": 320,
   "id": "2966bcf6-bf5d-4962-846c-d682b41b5690",
   "metadata": {},
   "outputs": [
    {
     "name": "stdout",
     "output_type": "stream",
     "text": [
      "['one', 'two', 'three four five']\n"
     ]
    }
   ],
   "source": [
    "text = \"one two three four five\"\n",
    "result = text.split(\" \", 2)  # Split at space, max 2 splits\n",
    "print(result)\n"
   ]
  },
  {
   "cell_type": "code",
   "execution_count": 322,
   "id": "e3ad21dc-a9cb-4a99-a91e-ba7892befabb",
   "metadata": {},
   "outputs": [
    {
     "name": "stdout",
     "output_type": "stream",
     "text": [
      "['hello', 'world', 'python']\n"
     ]
    }
   ],
   "source": [
    "text = \"hello@world@python\"\n",
    "result = text.split(\"@\")\n",
    "print(result)\n"
   ]
  },
  {
   "cell_type": "markdown",
   "id": "d2b9614a-326c-4c28-a37f-85b5f0acedac",
   "metadata": {},
   "source": [
    "**title(): makes first letter of each word capital.**\n",
    "\n",
    "**upper(): makes all letter of each word capital.**\n",
    "\n",
    "**lower(): makes all letter of each word capital.**\n",
    "\n",
    "**capitalize(): makes first letter of sentence capital**"
   ]
  },
  {
   "cell_type": "code",
   "execution_count": 325,
   "id": "f3694e47-684a-48eb-9eb1-c287ef3f0460",
   "metadata": {},
   "outputs": [
    {
     "name": "stdout",
     "output_type": "stream",
     "text": [
      "Thirty Days Of Python\n"
     ]
    }
   ],
   "source": [
    "challenge = 'thirty days of python'\n",
    "print(challenge.title()) # Thirty Days Of Python"
   ]
  },
  {
   "cell_type": "code",
   "execution_count": 373,
   "id": "708239a2-ff95-42ed-9f8a-6417fda080dc",
   "metadata": {},
   "outputs": [
    {
     "name": "stdout",
     "output_type": "stream",
     "text": [
      "Thirty days of python\n"
     ]
    }
   ],
   "source": [
    "challenge = 'thirty days of python'\n",
    "print(challenge.capitalize())"
   ]
  },
  {
   "cell_type": "code",
   "execution_count": 353,
   "id": "89f1ac6e-2c75-45ba-a745-48b4f0b695fa",
   "metadata": {},
   "outputs": [
    {
     "name": "stdout",
     "output_type": "stream",
     "text": [
      "THIRTY DAYS OF PYTHON\n"
     ]
    }
   ],
   "source": [
    "challenge = 'thirty days of python'\n",
    "print(challenge.upper())"
   ]
  },
  {
   "cell_type": "code",
   "execution_count": 355,
   "id": "4ea2d520-8fb0-4f75-9e9d-186f8c6ca094",
   "metadata": {},
   "outputs": [
    {
     "name": "stdout",
     "output_type": "stream",
     "text": [
      "thirty days of python\n"
     ]
    }
   ],
   "source": [
    "challenge = 'thirty DAYS of PYTHON'\n",
    "print(challenge.lower())"
   ]
  },
  {
   "cell_type": "code",
   "execution_count": 329,
   "id": "59e997a7-1188-489b-ba34-2611bce67282",
   "metadata": {},
   "outputs": [
    {
     "name": "stdout",
     "output_type": "stream",
     "text": [
      "It'S A Beautiful Day\n",
      "It's A Beautiful Day\n"
     ]
    }
   ],
   "source": [
    "text = \"it's a beautiful day\"\n",
    "print(text.title())\n",
    "# it capitalizes letters after apostrophes (') too.\n",
    "# to correct this we use \n",
    "import string\n",
    "text = \"it's a beautiful day\"\n",
    "print(string.capwords(text))\n",
    "# capwords used to capitalize the first letter of each words in sentence."
   ]
  },
  {
   "cell_type": "markdown",
   "id": "4397324a-3f66-4d73-b74c-6d1374757cce",
   "metadata": {},
   "source": [
    "# swapcase(): it swaps the case of the letters in string\n",
    "        Uppercase letters become lowercase.\n",
    "        Lowercase letters become uppercase.\n",
    "        Number and special character remains unchanged."
   ]
  },
  {
   "cell_type": "code",
   "execution_count": 332,
   "id": "9d6a14cf-d133-41c3-80b8-4cf26806a9fe",
   "metadata": {},
   "outputs": [
    {
     "name": "stdout",
     "output_type": "stream",
     "text": [
      "THIRTY DAYS OF PYTHON\n",
      "tHIRTY dAYS oF pYTHON\n"
     ]
    }
   ],
   "source": [
    "challenge = 'thirty days of python'\n",
    "print(challenge.swapcase())   # THIRTY DAYS OF PYTHON\n",
    "challenge = 'Thirty Days Of Python'\n",
    "print(challenge.swapcase())  # tHIRTY dAYS oF pYTHON"
   ]
  },
  {
   "cell_type": "markdown",
   "id": "c4028d97-55c2-40d9-89af-760b13533b0e",
   "metadata": {},
   "source": [
    "**justifying text**\n",
    "\n",
    "        rjust(width) -> to justify to the right side by given width size\n",
    "\n",
    "        ljust(width) -> to justify to the left side by given width size\n",
    "        \n",
    "        center(width) -> to justif to the center by given width size"
   ]
  },
  {
   "cell_type": "code",
   "execution_count": 364,
   "id": "4505e83f-e12a-41f6-8c58-6209e6dd046b",
   "metadata": {},
   "outputs": [
    {
     "data": {
      "text/plain": [
       "'hello'"
      ]
     },
     "execution_count": 364,
     "metadata": {},
     "output_type": "execute_result"
    }
   ],
   "source": [
    "s = \"hello\"\n",
    "s"
   ]
  },
  {
   "cell_type": "code",
   "execution_count": 366,
   "id": "22ff8b39-4ce9-42f3-a243-5b49c6a7aea5",
   "metadata": {},
   "outputs": [
    {
     "data": {
      "text/plain": [
       "'                         hello'"
      ]
     },
     "execution_count": 366,
     "metadata": {},
     "output_type": "execute_result"
    }
   ],
   "source": [
    "s.rjust(30) # 30 spaces to right"
   ]
  },
  {
   "cell_type": "code",
   "execution_count": 368,
   "id": "5d859354-40c3-4ab5-8a89-c4544abdd739",
   "metadata": {},
   "outputs": [
    {
     "data": {
      "text/plain": [
       "'hello                                             '"
      ]
     },
     "execution_count": 368,
     "metadata": {},
     "output_type": "execute_result"
    }
   ],
   "source": [
    "s.ljust(50)"
   ]
  },
  {
   "cell_type": "code",
   "execution_count": 370,
   "id": "1a3aa193-9782-4089-8cf4-1ecca2ea58bd",
   "metadata": {},
   "outputs": [
    {
     "data": {
      "text/plain": [
       "'                 hello                  '"
      ]
     },
     "execution_count": 370,
     "metadata": {},
     "output_type": "execute_result"
    }
   ],
   "source": [
    "s.center(40)"
   ]
  },
  {
   "cell_type": "markdown",
   "id": "4b3996ff-117e-4bbc-a4b6-461676ca4826",
   "metadata": {},
   "source": [
    "# startswith(): Checks if String Starts with the Specified String\n",
    "    syntax:\n",
    "        string.startswith(prefix, start, end)\n",
    "    -> its case sensitive.\n",
    "    -> "
   ]
  },
  {
   "cell_type": "code",
   "execution_count": 336,
   "id": "16041ae0-49ee-46ac-9a1f-983866e1ed8b",
   "metadata": {},
   "outputs": [
    {
     "name": "stdout",
     "output_type": "stream",
     "text": [
      "True\n",
      "False\n"
     ]
    }
   ],
   "source": [
    "challenge = 'thirty days of python'\n",
    "print(challenge.startswith('thirty')) # True\n",
    "challenge = '30 days of python'\n",
    "print(challenge.startswith('thirty')) # False"
   ]
  },
  {
   "cell_type": "code",
   "execution_count": 338,
   "id": "eea6a653-a3dd-49bb-86ce-522e9e3753a2",
   "metadata": {},
   "outputs": [
    {
     "name": "stdout",
     "output_type": "stream",
     "text": [
      "True\n",
      "False\n"
     ]
    }
   ],
   "source": [
    "text = \"Python is fun\"\n",
    "print(text.startswith(\"is\", 7))   # True (checking from index 7)\n",
    "print(text.startswith(\"Python\", 1))  # False (checking from index 1)\n"
   ]
  },
  {
   "cell_type": "code",
   "execution_count": 342,
   "id": "b8a04414-edda-4cba-92b8-a08052e9463e",
   "metadata": {},
   "outputs": [
    {
     "name": "stdout",
     "output_type": "stream",
     "text": [
      "False\n",
      "False\n",
      "True\n"
     ]
    }
   ],
   "source": [
    "text = \"Python is fun\"\n",
    "print(text.startswith(\"py\",3,13))   # False (checking from index 0 to 13-1 = 12)\n",
    "print(text.startswith(\"Py\",0, 1))  # False (checking from index 0 to 1-1 = 0)\n",
    "print(text.startswith(\"Py\",0, 2))  # True (checking from index 0 to 2-1 = 0)\n"
   ]
  },
  {
   "cell_type": "code",
   "execution_count": 17,
   "id": "c5bfa3da-7054-45c7-888f-b5a698fabad9",
   "metadata": {},
   "outputs": [
    {
     "data": {
      "text/plain": [
       "'nitnitnitnitnit'"
      ]
     },
     "execution_count": 17,
     "metadata": {},
     "output_type": "execute_result"
    }
   ],
   "source": [
    "#5 time print\n",
    "5 * 'nit'"
   ]
  },
  {
   "cell_type": "code",
   "execution_count": 19,
   "id": "63c1a6de-4ace-4cfc-96df-d9fe52898f3c",
   "metadata": {},
   "outputs": [
    {
     "data": {
      "text/plain": [
       "' nit nit nit nit nit'"
      ]
     },
     "execution_count": 19,
     "metadata": {},
     "output_type": "execute_result"
    }
   ],
   "source": [
    "#5 time print\n",
    "5 * ' nit'"
   ]
  },
  {
   "cell_type": "markdown",
   "id": "5a0dbeed-9376-442e-8178-b09d32d6394a",
   "metadata": {},
   "source": [
    "**Raw strings**\n",
    "\n",
    " A raw string entirely ignores all escape characters and prints any backslash that appears\n",
    " in the string."
   ]
  },
  {
   "cell_type": "code",
   "execution_count": 335,
   "id": "02658178-27a4-4010-a5e2-98d19e778615",
   "metadata": {},
   "outputs": [
    {
     "name": "stdout",
     "output_type": "stream",
     "text": [
      "c:\\nit\n"
     ]
    }
   ],
   "source": [
    "print(r'c:\\nit') #raw string\n",
    "#  A raw string entirely ignores all escape characters and prints any backslash that appears in the string."
   ]
  },
  {
   "cell_type": "markdown",
   "id": "5969a32e-a384-4e90-96a1-d6272d807d1c",
   "metadata": {},
   "source": [
    "**replace()**"
   ]
  },
  {
   "cell_type": "code",
   "execution_count": 136,
   "id": "604a788e-e2ca-48c8-a93c-310e6436c376",
   "metadata": {},
   "outputs": [
    {
     "name": "stdout",
     "output_type": "stream",
     "text": [
      "heLlo\n"
     ]
    }
   ],
   "source": [
    "x = \"hello\"   \n",
    "y = x.replace(\"l\", \"L\", 1) #  x.replace(old, new, count=-1)\n",
    "# Return a copy with occurrences of substring old replaced by new.\n",
    "# if count = -1 means replace all occurences\n",
    "print(y)  "
   ]
  },
  {
   "cell_type": "markdown",
   "id": "d6cb79b0-0b7f-430e-a136-d81cf9e1f166",
   "metadata": {},
   "source": [
    "**min() & max()**\n",
    "\n",
    "shows smallest and largest character based on the ASCII code values of respective character"
   ]
  },
  {
   "cell_type": "code",
   "execution_count": 380,
   "id": "7cdd1fdc-26a5-44fb-a458-f9026750f679",
   "metadata": {},
   "outputs": [
    {
     "name": "stdout",
     "output_type": "stream",
     "text": [
      " \n",
      "y\n"
     ]
    }
   ],
   "source": [
    "challenge = 'thirty days of python'\n",
    "print(min(challenge)) # smallest character of string\n",
    "print(max(challenge)) # largest character of string"
   ]
  },
  {
   "cell_type": "code",
   "execution_count": 382,
   "id": "6b2ba74b-455d-47b1-b4e5-0a74a2e0e482",
   "metadata": {},
   "outputs": [
    {
     "name": "stdout",
     "output_type": "stream",
     "text": [
      "A\n",
      "t\n"
     ]
    }
   ],
   "source": [
    "challenge = 'Amit'\n",
    "print(min(challenge)) # smallest character of string\n",
    "print(max(challenge)) # largest character of string"
   ]
  },
  {
   "cell_type": "code",
   "execution_count": 384,
   "id": "59a906d4-ecf2-4eb1-9a16-74314dfec47a",
   "metadata": {},
   "outputs": [
    {
     "name": "stdout",
     "output_type": "stream",
     "text": [
      "a\n",
      "t\n"
     ]
    }
   ],
   "source": [
    "challenge = 'amit'\n",
    "print(min(challenge)) # smallest character of string\n",
    "print(max(challenge)) # largest character of string"
   ]
  },
  {
   "cell_type": "code",
   "execution_count": null,
   "id": "fa21a625-26e4-4c8a-9ec2-a2e911b6f0c4",
   "metadata": {
    "jupyter": {
     "source_hidden": true
    }
   },
   "outputs": [],
   "source": []
  },
  {
   "cell_type": "markdown",
   "id": "24755cf0-c755-4cc1-96d6-7c48cb9140d5",
   "metadata": {},
   "source": [
    "# 28th Feb 2025 class 7"
   ]
  },
  {
   "cell_type": "raw",
   "id": "76aa5cf0-74dc-488d-953e-cbe8ae91dd79",
   "metadata": {},
   "source": [
    "while writing a text or paragraph we use triple quotes '\" '\" to write multiple lines.\n",
    "topic - User defined functions\n",
    "        -> every functions ends with parenthesis ()\n",
    "        argument and parameters are same which is used to pass values to a function.\n",
    "        ->two types of parameters/arguments\n",
    "                -> fomal argument and actual argument\n",
    "\n",
    "topic - type casting\n",
    "        -> type casting means converting one data type to another\n",
    "                int(2.3) ---> output: 2\n",
    "                int(2.3, 1.3) ---> output: two arguments can't be passed\n",
    "                int(True) ---> output: 1 # it will take the binary representation of boolean True which is 1\n",
    "                int(False) ---> output: 0 # binary representation for false is 0\n",
    "                True + True ----> output: 2 \n",
    "                int(1 + 2J)  ----> output: error can't convert a complex to integer\n",
    "                int(\"10\") ----> output: 10\n",
    "                int(\"ten\") ----> output: error can't convert text string to integer\n",
    "                        *same applies for float*\n",
    "\n",
    "                complex(10) ---> output: 10 + 0j\n",
    "                complex(10,20) ---> output: 10 + 20j # 1st part is real and 2nd part is complex\n",
    "                complex(10,20,30) ---> output: error #complex takes 2 arguments.\n",
    "                complex(2.3,40) ---> output: 2.3 + 40j\n",
    "                complex(True,True) ---> output: 1 + 1j\n",
    "                complex(False) ---> output: 0J #anything added to zero results same\n",
    "                complex('10') ---> output: 10 + 0j # first part can be string numeral.\n",
    "                complex('10','10') ---> output: error # it can't take second (imaginary part) if first part is string.\n",
    "\n",
    "--------------------------------------------------------------------------------------------------------------------------------------------------------\n"
   ]
  },
  {
   "cell_type": "markdown",
   "id": "75d0ce9c-7057-469e-bbc5-d39bdaede39f",
   "metadata": {},
   "source": [
    "# my query output"
   ]
  },
  {
   "cell_type": "code",
   "execution_count": 10,
   "id": "ebd64efc-ced3-4788-a0da-2f5a8beb6605",
   "metadata": {},
   "outputs": [
    {
     "ename": "ValueError",
     "evalue": "invalid literal for int() with base 10: '10q'",
     "output_type": "error",
     "traceback": [
      "\u001b[1;31m---------------------------------------------------------------------------\u001b[0m",
      "\u001b[1;31mValueError\u001b[0m                                Traceback (most recent call last)",
      "Cell \u001b[1;32mIn[10], line 1\u001b[0m\n\u001b[1;32m----> 1\u001b[0m \u001b[38;5;28mint\u001b[39m(\u001b[38;5;124m\"\u001b[39m\u001b[38;5;124m10q\u001b[39m\u001b[38;5;124m\"\u001b[39m)\n",
      "\u001b[1;31mValueError\u001b[0m: invalid literal for int() with base 10: '10q'"
     ]
    }
   ],
   "source": [
    "int(\"10q\") #how it will work"
   ]
  },
  {
   "cell_type": "code",
   "execution_count": 20,
   "id": "fc8f611c-d712-41b4-b113-8723b8a5444c",
   "metadata": {},
   "outputs": [
    {
     "ename": "ValueError",
     "evalue": "invalid literal for int() with base 10: ''",
     "output_type": "error",
     "traceback": [
      "\u001b[1;31m---------------------------------------------------------------------------\u001b[0m",
      "\u001b[1;31mValueError\u001b[0m                                Traceback (most recent call last)",
      "Cell \u001b[1;32mIn[20], line 1\u001b[0m\n\u001b[1;32m----> 1\u001b[0m \u001b[38;5;28mint\u001b[39m(\u001b[38;5;124m\"\u001b[39m\u001b[38;5;124m\"\u001b[39m)\n",
      "\u001b[1;31mValueError\u001b[0m: invalid literal for int() with base 10: ''"
     ]
    }
   ],
   "source": [
    "int(\"\")"
   ]
  },
  {
   "cell_type": "code",
   "execution_count": 12,
   "id": "a46a354d-8157-4dbf-bcc4-81e6dc7b28c8",
   "metadata": {},
   "outputs": [
    {
     "ename": "TypeError",
     "evalue": "complex() second arg can't be a string",
     "output_type": "error",
     "traceback": [
      "\u001b[1;31m---------------------------------------------------------------------------\u001b[0m",
      "\u001b[1;31mTypeError\u001b[0m                                 Traceback (most recent call last)",
      "Cell \u001b[1;32mIn[12], line 1\u001b[0m\n\u001b[1;32m----> 1\u001b[0m \u001b[38;5;28mcomplex\u001b[39m(\u001b[38;5;241m10\u001b[39m,\u001b[38;5;124m\"\u001b[39m\u001b[38;5;124m10\u001b[39m\u001b[38;5;124m\"\u001b[39m)\n",
      "\u001b[1;31mTypeError\u001b[0m: complex() second arg can't be a string"
     ]
    }
   ],
   "source": [
    "complex(10,\"10\")"
   ]
  },
  {
   "cell_type": "raw",
   "id": "1d94f789-846c-409b-9718-7863d27e866f",
   "metadata": {},
   "source": [
    " complex() second arg can't be a string"
   ]
  },
  {
   "cell_type": "code",
   "execution_count": 14,
   "id": "91f9ac11-ad3d-4788-b4f1-b3f77bbf7bf2",
   "metadata": {},
   "outputs": [
    {
     "ename": "TypeError",
     "evalue": "complex() can't take second arg if first is a string",
     "output_type": "error",
     "traceback": [
      "\u001b[1;31m---------------------------------------------------------------------------\u001b[0m",
      "\u001b[1;31mTypeError\u001b[0m                                 Traceback (most recent call last)",
      "Cell \u001b[1;32mIn[14], line 1\u001b[0m\n\u001b[1;32m----> 1\u001b[0m \u001b[38;5;28mcomplex\u001b[39m(\u001b[38;5;124m\"\u001b[39m\u001b[38;5;124ma\u001b[39m\u001b[38;5;124m\"\u001b[39m,\u001b[38;5;241m10\u001b[39m)\n",
      "\u001b[1;31mTypeError\u001b[0m: complex() can't take second arg if first is a string"
     ]
    }
   ],
   "source": [
    "complex(\"a\",10)"
   ]
  },
  {
   "cell_type": "code",
   "execution_count": 16,
   "id": "76935693-a57d-4140-84a3-d593120aef7d",
   "metadata": {},
   "outputs": [
    {
     "ename": "ValueError",
     "evalue": "complex() arg is a malformed string",
     "output_type": "error",
     "traceback": [
      "\u001b[1;31m---------------------------------------------------------------------------\u001b[0m",
      "\u001b[1;31mValueError\u001b[0m                                Traceback (most recent call last)",
      "Cell \u001b[1;32mIn[16], line 1\u001b[0m\n\u001b[1;32m----> 1\u001b[0m \u001b[38;5;28mcomplex\u001b[39m(\u001b[38;5;124m\"\u001b[39m\u001b[38;5;124ma\u001b[39m\u001b[38;5;124m\"\u001b[39m)\n",
      "\u001b[1;31mValueError\u001b[0m: complex() arg is a malformed string"
     ]
    }
   ],
   "source": [
    "complex(\"a\")"
   ]
  },
  {
   "cell_type": "raw",
   "id": "6b1d1772-a9b3-47ef-9cc9-597c748f80d7",
   "metadata": {},
   "source": [
    "complex() arg is a malformed string"
   ]
  },
  {
   "cell_type": "markdown",
   "id": "12e07d4a-e957-41bc-80b7-170d84e31bdf",
   "metadata": {},
   "source": [
    "# print result with string"
   ]
  },
  {
   "cell_type": "code",
   "execution_count": 4,
   "id": "66e51e5a-928c-4a7f-ad88-86834151ac54",
   "metadata": {},
   "outputs": [
    {
     "name": "stdout",
     "output_type": "stream",
     "text": [
      "the addition of 10 and 20 is = 30\n"
     ]
    }
   ],
   "source": [
    "n = 10\n",
    "m = 20\n",
    "add = m + n \n",
    "print(\"the addition of\",n,\"and\",m, \"is =\", add)"
   ]
  },
  {
   "cell_type": "code",
   "execution_count": 14,
   "id": "b4bf3324-c46c-43dc-b0ba-77d5fe3c6559",
   "metadata": {},
   "outputs": [
    {
     "name": "stdout",
     "output_type": "stream",
     "text": [
      "hello, my name is amit I am 30 years old. I live in delhi\n"
     ]
    }
   ],
   "source": [
    "# without .format to print\n",
    "name = \"amit\"\n",
    "age = 30\n",
    "city = \"delhi\"\n",
    "print(\"hello, my name is\",name,'I am',age,\"years old. I live in\",city)"
   ]
  },
  {
   "cell_type": "code",
   "execution_count": 16,
   "id": "50ec09e1-2670-430b-8338-9ec2261555d0",
   "metadata": {},
   "outputs": [
    {
     "name": "stdout",
     "output_type": "stream",
     "text": [
      "the addition of 20 and 40 is =60\n"
     ]
    }
   ],
   "source": [
    "# using .format to print\n",
    "n = 20\n",
    "m = 40\n",
    "add = n + m\n",
    "print('the addition of {} and {} is ={}'.format(n,m,add))\n",
    " "
   ]
  },
  {
   "cell_type": "code",
   "execution_count": 18,
   "id": "bdeabef5-0bbd-4aa7-a820-902f425c4bad",
   "metadata": {},
   "outputs": [
    {
     "name": "stdout",
     "output_type": "stream",
     "text": [
      "hello, my name is amit. I am 30 years old. I live in delhi\n"
     ]
    }
   ],
   "source": [
    "# with .format to print\n",
    "name = \"amit\"\n",
    "age = 30\n",
    "city = \"delhi\"\n",
    "print(\"hello, my name is {}. I am {} years old. I live in {}\".format(name,age,city))"
   ]
  },
  {
   "cell_type": "code",
   "execution_count": 26,
   "id": "07a64843-9deb-4f7c-bc2b-4322fd1c431c",
   "metadata": {},
   "outputs": [
    {
     "data": {
      "text/plain": [
       "0.3333333333333333"
      ]
     },
     "execution_count": 26,
     "metadata": {},
     "output_type": "execute_result"
    }
   ],
   "source": [
    "a = 40\n",
    "b =120\n",
    "divide = 40/120\n",
    "divide"
   ]
  },
  {
   "cell_type": "code",
   "execution_count": 36,
   "id": "11fc475f-53a7-40d6-ba46-df02c0fabd18",
   "metadata": {},
   "outputs": [
    {
     "data": {
      "text/plain": [
       "0.333"
      ]
     },
     "execution_count": 36,
     "metadata": {},
     "output_type": "execute_result"
    }
   ],
   "source": [
    "# to round off the decimal to 3 decimal palces use round function\n",
    "round(divide,3)\n"
   ]
  },
  {
   "cell_type": "code",
   "execution_count": 40,
   "id": "2be5d42e-c7cf-4e6e-96ee-74c7ad8b730e",
   "metadata": {},
   "outputs": [
    {
     "data": {
      "text/plain": [
       "0.33333"
      ]
     },
     "execution_count": 40,
     "metadata": {},
     "output_type": "execute_result"
    }
   ],
   "source": [
    "# or it can also be writen as \n",
    "divide = round(a / b,5)\n",
    "divide"
   ]
  },
  {
   "cell_type": "markdown",
   "id": "901116af-2fb7-4dfc-b1f1-020d23f89c0f",
   "metadata": {},
   "source": [
    "# More short format meythod(f string method)\n",
    "        -> variable should be in curly braces  \n",
    "        -> write everything inside quots ''  \n",
    "        -> at starting simpaly add f "
   ]
  },
  {
   "cell_type": "code",
   "execution_count": 45,
   "id": "f4bec271-48c1-4d8c-b65b-3a3524c749e4",
   "metadata": {},
   "outputs": [
    {
     "name": "stdout",
     "output_type": "stream",
     "text": [
      "The addition of 50 and 60 is = 110\n"
     ]
    }
   ],
   "source": [
    "n = 50\n",
    "m = 60 \n",
    "add = n + m\n",
    "print(f\"The addition of {n} and {m} is = {add}\")"
   ]
  },
  {
   "cell_type": "code",
   "execution_count": 49,
   "id": "b501fc01-0c82-40f9-ad3a-8018e75918d7",
   "metadata": {},
   "outputs": [
    {
     "name": "stdout",
     "output_type": "stream",
     "text": [
      "Hello, my name is amit. I am 30 years old and i live in delhi\n"
     ]
    }
   ],
   "source": [
    "name = \"amit\"\n",
    "age = 30\n",
    "city = \"delhi\"\n",
    "print(f\"Hello, my name is {name}. I am {age} years old and i live in {city}\")"
   ]
  },
  {
   "cell_type": "markdown",
   "id": "eee5fd42-89f8-4b2a-8869-af4ee566b14e",
   "metadata": {},
   "source": [
    "# End statement "
   ]
  },
  {
   "cell_type": "code",
   "execution_count": 54,
   "id": "3371c78a-9144-4a61-a312-6f61ffdb4b05",
   "metadata": {},
   "outputs": [
    {
     "name": "stdout",
     "output_type": "stream",
     "text": [
      "helo\n",
      "good morning\n"
     ]
    }
   ],
   "source": [
    "print('helo')\n",
    "print('good morning')"
   ]
  },
  {
   "cell_type": "code",
   "execution_count": 56,
   "id": "e410a7fd-bd67-46bf-b9da-d9fe84d35bf8",
   "metadata": {},
   "outputs": [
    {
     "name": "stdout",
     "output_type": "stream",
     "text": [
      "hello good morning\n"
     ]
    }
   ],
   "source": [
    "# if we want to print it as hello good morning\n",
    "print('hello',end=' ')\n",
    "print('good morning')"
   ]
  },
  {
   "cell_type": "markdown",
   "id": "b17c0c01-41a1-4a10-bfd5-8fd986d24fa8",
   "metadata": {},
   "source": [
    "# seprator "
   ]
  },
  {
   "cell_type": "code",
   "execution_count": 59,
   "id": "83ad1beb-b3bc-4235-a3f9-c26c5838ec05",
   "metadata": {},
   "outputs": [
    {
     "name": "stdout",
     "output_type": "stream",
     "text": [
      "hello----->hi----->how are you?\n"
     ]
    }
   ],
   "source": [
    "print(\"hello\",'hi',\"\"\"how are you?\"\"\",sep = '----->')"
   ]
  },
  {
   "cell_type": "code",
   "execution_count": 61,
   "id": "e17697a4-e9f7-409a-bc9d-55a6cf453baa",
   "metadata": {},
   "outputs": [
    {
     "name": "stdout",
     "output_type": "stream",
     "text": [
      "hello@hi@how are you?\n"
     ]
    }
   ],
   "source": [
    "print(\"hello\",'hi',\"\"\"how are you?\"\"\",sep = '@')"
   ]
  },
  {
   "cell_type": "code",
   "execution_count": 63,
   "id": "dbc3ffda-312d-4a7c-877d-77115cd14859",
   "metadata": {},
   "outputs": [
    {
     "name": "stdout",
     "output_type": "stream",
     "text": [
      "3 .\n"
     ]
    }
   ],
   "source": [
    "print(3,'.') # . is far from 3"
   ]
  },
  {
   "cell_type": "code",
   "execution_count": 65,
   "id": "7fb2b69f-ed9e-4e47-8d79-e6d215124f90",
   "metadata": {},
   "outputs": [
    {
     "name": "stdout",
     "output_type": "stream",
     "text": [
      "3.\n"
     ]
    }
   ],
   "source": [
    "print(3,'.',sep = \"\") # remove the gap between 3 and . in above output"
   ]
  },
  {
   "cell_type": "markdown",
   "id": "fdb35c6f-06c6-4056-8290-07bc5fd9af1b",
   "metadata": {},
   "source": [
    "# Complex data type\n",
    "    -> it has first part as real number and 2nd part as imaginary number.\n",
    "    -> in imaginary part, j or J represents iota (i.e. square root (-1 )) \n",
    "    -> Ex.  4 + 8j is a complex number where 4 is a real number and 8j is imaginary.\n",
    "    "
   ]
  },
  {
   "cell_type": "code",
   "execution_count": 69,
   "id": "e3560483-9c5b-4eff-92e8-8c091c1f001a",
   "metadata": {},
   "outputs": [
    {
     "name": "stdout",
     "output_type": "stream",
     "text": [
      "4.0\n",
      "9.0\n"
     ]
    }
   ],
   "source": [
    "# Accessig the Real and Imaginary parts\n",
    "x = 4 + 9J\n",
    "print(x.real)\n",
    "print(x.imag)"
   ]
  },
  {
   "cell_type": "code",
   "execution_count": 261,
   "id": "c4df9632-33db-4db6-8672-494842f98b98",
   "metadata": {},
   "outputs": [
    {
     "name": "stdout",
     "output_type": "stream",
     "text": [
      "(7+17j)\n",
      "(-1+1j)\n",
      "(-60+60j)\n",
      "(1.05+0.15j)\n"
     ]
    }
   ],
   "source": [
    "# Operations with complex numbers\n",
    "a = 3 + 9j\n",
    "b = 4 + 8J\n",
    "# addition\n",
    "print(a + b)\n",
    "#subtraction\n",
    "print(a - b)\n",
    "# multiplication\n",
    "print(a*b)\n",
    "#division\n",
    "print(a/b)"
   ]
  },
  {
   "cell_type": "code",
   "execution_count": 263,
   "id": "0e617809-0fc8-4722-ad7c-c6284d4f7518",
   "metadata": {},
   "outputs": [
    {
     "name": "stdout",
     "output_type": "stream",
     "text": [
      "9.486832980505138\n",
      "(3-9j)\n"
     ]
    }
   ],
   "source": [
    "# Using built-in functions\n",
    "print(abs(a))# returns the magnitude (absolute value) of the complex number.\n",
    "print(a.conjugate()) # returns the complex conjugate of the number"
   ]
  },
  {
   "cell_type": "code",
   "execution_count": null,
   "id": "8ef3b330-0ae5-46c2-bb54-00f0cab907bd",
   "metadata": {},
   "outputs": [],
   "source": []
  },
  {
   "cell_type": "markdown",
   "id": "c1839173-dffa-4bec-a960-65946cd3590a",
   "metadata": {},
   "source": [
    "# complex number in the cmath module\n",
    "    The cmath module provides additional functionality for complex numbers, such as trigonometric functions, logarithms, and square roots."
   ]
  },
  {
   "cell_type": "code",
   "execution_count": 87,
   "id": "6880bcfe-1d97-4a74-9147-03d64ef048df",
   "metadata": {},
   "outputs": [
    {
     "name": "stdout",
     "output_type": "stream",
     "text": [
      "0.9097531579442097\n",
      "(11.40175425099138, 0.9097531579442097)\n",
      "(3.033294764030639+1.4835353468979733j)\n"
     ]
    }
   ],
   "source": [
    "import cmath\n",
    "a = 7 + 9J\n",
    "# getting the phase(angle) of the complex number (radians)\n",
    "print(cmath.phase(a))\n",
    "\n",
    "# getting the polar form of the complex number (magnitude, angle)\n",
    "print(cmath.polar(a))\n",
    "\n",
    "# getting the square root of a complex number\n",
    "print(cmath.sqrt(a))"
   ]
  },
  {
   "cell_type": "code",
   "execution_count": null,
   "id": "1687569a-4454-4fa6-b8ea-6b185ae7ab80",
   "metadata": {},
   "outputs": [],
   "source": []
  },
  {
   "cell_type": "markdown",
   "id": "c1b47eb1-e634-44be-9bb3-08cf980d6b30",
   "metadata": {},
   "source": [
    "# 1st March class 8"
   ]
  },
  {
   "cell_type": "raw",
   "id": "26427811-fe49-4292-bc15-fe9d4b2df8b7",
   "metadata": {},
   "source": [
    "topic - type casting with boolean\n",
    "            bool(2) ---> output: True # any non zero value is true\n",
    "            bool(0) ---> output: False # any zero value is False\n",
    "            bool(2.3,3.2) ---> output: error # cant take 2 argument\n",
    "            bool(1 + 2j) ---> output: True\n",
    "            bool(2.3) ---> output:True\n",
    "            bool(0 + 0j) ---> output: False\n",
    "            bool(\"hi\") ---> output: True\n",
    "            bool(' ') ---> output: false \n",
    "            bool(*) ---> output: error # * is an invalid datatype\n",
    "\n",
    "            str(7) ---> output: '7'\n",
    "            str(7.2) ---> output: '7.2'\n",
    "            str(7 + 2j) ---> output: '(7 + 2j)'\n",
    "            str(True) ---> output: 'True'\n",
    "\n",
    "topic - python operator\n",
    "            types of operator:-\n",
    "                    1.) arithmatic operator - \n",
    "                                    // -> int division\n",
    "                                    ** --> 2 ** 3 mean 2 to the power 3\n",
    "                    2.) assignment operator\n",
    "                                = --> to assign the value to a variable\n",
    "                            a +=b --> a = a + b\n",
    "                            a **=b --> doubt\n",
    "                    3.) unari operator (-)\n",
    "                            single operator that is - and it returns the negative value (negattion)\n",
    "\n",
    "                    4.) relational operator (< , > , <= , >= , ==, !=)\n",
    "                            return boolean value\n",
    "                    5.) logical operator (And, Or, Not)\n",
    "***need to learn truth table for 'and' & 'or'***"
   ]
  },
  {
   "cell_type": "markdown",
   "id": "2777af86-cb97-4693-b765-826472adf61b",
   "metadata": {},
   "source": [
    "# topic - python operator\n",
    "            types of operator:-\n",
    "                    1.) arithmatic operator - \n",
    "                                    % --> modulus, returns remainder\n",
    "                                    // -> int division\n",
    "                                    ** --> 2 ** 3 mean 2 to the power 3\n",
    "                    2.) assignment operator\n",
    "                                = --> to assign the value to a variable\n",
    "                            a +=b --> a = a + b\n",
    "                            a **=b --> a = a ** b\n",
    "                    3.) unary operator (-)\n",
    "                            single operator that is - and it returns the negative value (negation)\n",
    "\n",
    "                    4.) relational operator (< , > , <= , >= , ==)\n",
    "                            return boolean value\n",
    "                    5.) logical operator (And, Or, Not)\n",
    "***need to learn truth table for 'and' & 'or'***"
   ]
  },
  {
   "cell_type": "markdown",
   "id": "e859a333-f7fd-4b8e-9020-b261621412c9",
   "metadata": {},
   "source": [
    "# Data types\n",
    "    Numeric data types:-\n",
    "        integer\n",
    "        float\n",
    "        boolean\n",
    "        complex\n",
    "    string\n"
   ]
  },
  {
   "cell_type": "markdown",
   "id": "b3d41093-7a18-41e3-a403-e258a2f8400f",
   "metadata": {},
   "source": [
    "# logical operator (And, Or, Not)\n",
    "***need to learn truth table for 'and' & 'or'***\n",
    "https://byjus.com/maths/truth-table/#logical-true\n"
   ]
  },
  {
   "cell_type": "markdown",
   "id": "2c901983-d4cf-4ff4-a22e-f87e2b59828f",
   "metadata": {},
   "source": [
    "# Bitwise operator"
   ]
  },
  {
   "cell_type": "code",
   "execution_count": null,
   "id": "89893794-cd36-4d56-b587-84f9b490a027",
   "metadata": {},
   "outputs": [],
   "source": []
  },
  {
   "cell_type": "code",
   "execution_count": null,
   "id": "8919c048-fe1d-4362-9ed6-87aac182ce04",
   "metadata": {},
   "outputs": [],
   "source": []
  },
  {
   "cell_type": "code",
   "execution_count": null,
   "id": "9b0e172b-0c98-47b4-ab2c-0038eb9b0ce4",
   "metadata": {},
   "outputs": [],
   "source": []
  },
  {
   "cell_type": "code",
   "execution_count": null,
   "id": "83cdda18-ca1c-4e2a-b744-c774bc59b3e3",
   "metadata": {},
   "outputs": [],
   "source": []
  },
  {
   "cell_type": "markdown",
   "id": "e74dd8ea-b1fe-4fd0-b0e0-bcae0a8a713a",
   "metadata": {},
   "source": [
    "# 3rd March class 9"
   ]
  },
  {
   "cell_type": "raw",
   "id": "57f36fef-0504-4140-9f3c-a51e4c7a5d21",
   "metadata": {},
   "source": [
    "data types --> user defines only 1 value\n",
    "data structure ---> user can define multiple values of different data types to a variable\n",
    "    array or matrix or table is a collection of data structure and data structure is collection of data types.\n",
    "\n",
    "data structure --> 2 types:- \n",
    "                1. inbuild DS \n",
    "                        list --> []\n",
    "                        tuple -> ()\n",
    "                        set ---> {}\n",
    "                        dictionary -> {'key':'value'}\n",
    "                2. user defined DS\n",
    "                        stack\n",
    "                        queue\n",
    "                        tree\n",
    "                        linked list\n",
    "various libraries to use functions for data structure\n",
    "        numpy, pandas, matplotlib, seaborn, skylearn, tensorflow\n",
    "\n"
   ]
  },
  {
   "cell_type": "code",
   "execution_count": 1,
   "id": "a02bd5f2-2e65-4f1c-a25e-81a9925c55af",
   "metadata": {},
   "outputs": [
    {
     "data": {
      "text/plain": [
       "[]"
      ]
     },
     "execution_count": 1,
     "metadata": {},
     "output_type": "execute_result"
    }
   ],
   "source": [
    "l =[] # define list\n",
    "l"
   ]
  },
  {
   "cell_type": "code",
   "execution_count": 3,
   "id": "95d80c3c-5d62-4b83-a85a-3bbe2da7b2d2",
   "metadata": {},
   "outputs": [
    {
     "data": {
      "text/plain": [
       "0"
      ]
     },
     "execution_count": 3,
     "metadata": {},
     "output_type": "execute_result"
    }
   ],
   "source": [
    "len(l) # length of list l = 0 as its an empty list with zero elements."
   ]
  },
  {
   "cell_type": "raw",
   "id": "d81b072c-5105-47fd-9ae6-836cf1b75e41",
   "metadata": {
    "scrolled": true
   },
   "source": [
    " # after typing l. pressing TAB key displays all functions pressent ---> need to cover all the functions available and understand what it does."
   ]
  },
  {
   "cell_type": "code",
   "execution_count": 5,
   "id": "41a13632-c63d-4cf4-9a00-ec053b290c66",
   "metadata": {},
   "outputs": [
    {
     "data": {
      "text/plain": [
       "[10]"
      ]
     },
     "execution_count": 5,
     "metadata": {},
     "output_type": "execute_result"
    }
   ],
   "source": [
    "l.append(10) # to add elemets to the list\n",
    "l"
   ]
  },
  {
   "cell_type": "code",
   "execution_count": 7,
   "id": "7f49f634-9723-4fee-a6c1-1f12e58fa1cf",
   "metadata": {},
   "outputs": [
    {
     "data": {
      "text/plain": [
       "[10, 22, 3, 5]"
      ]
     },
     "execution_count": 7,
     "metadata": {},
     "output_type": "execute_result"
    }
   ],
   "source": [
    "l.append(22)\n",
    "l.append(3)\n",
    "l.append(5)\n",
    "l"
   ]
  },
  {
   "cell_type": "code",
   "execution_count": 9,
   "id": "5288da43-000a-4acb-a890-f6a7e24f78a8",
   "metadata": {},
   "outputs": [
    {
     "data": {
      "text/plain": [
       "4"
      ]
     },
     "execution_count": 9,
     "metadata": {},
     "output_type": "execute_result"
    }
   ],
   "source": [
    "len(l)"
   ]
  },
  {
   "cell_type": "code",
   "execution_count": 11,
   "id": "d301872e-5ddf-4b81-bbf0-baa09c5c6862",
   "metadata": {},
   "outputs": [
    {
     "data": {
      "text/plain": [
       "2026633025856"
      ]
     },
     "execution_count": 11,
     "metadata": {},
     "output_type": "execute_result"
    }
   ],
   "source": [
    "id(l) # to find the memory location or address of the list[] "
   ]
  },
  {
   "cell_type": "code",
   "execution_count": 13,
   "id": "76a66af5-2027-4fc5-9688-60e92437cf38",
   "metadata": {},
   "outputs": [
    {
     "name": "stdout",
     "output_type": "stream",
     "text": [
      "<class 'list'>\n"
     ]
    }
   ],
   "source": [
    "print(type(l)) # to print the data type of variable %"
   ]
  },
  {
   "cell_type": "code",
   "execution_count": 15,
   "id": "e03f6cb9-a1e1-4df6-bb6b-aaa36070bcc2",
   "metadata": {},
   "outputs": [
    {
     "data": {
      "text/plain": [
       "['False',\n",
       " 'None',\n",
       " 'True',\n",
       " 'and',\n",
       " 'as',\n",
       " 'assert',\n",
       " 'async',\n",
       " 'await',\n",
       " 'break',\n",
       " 'class',\n",
       " 'continue',\n",
       " 'def',\n",
       " 'del',\n",
       " 'elif',\n",
       " 'else',\n",
       " 'except',\n",
       " 'finally',\n",
       " 'for',\n",
       " 'from',\n",
       " 'global',\n",
       " 'if',\n",
       " 'import',\n",
       " 'in',\n",
       " 'is',\n",
       " 'lambda',\n",
       " 'nonlocal',\n",
       " 'not',\n",
       " 'or',\n",
       " 'pass',\n",
       " 'raise',\n",
       " 'return',\n",
       " 'try',\n",
       " 'while',\n",
       " 'with',\n",
       " 'yield']"
      ]
     },
     "execution_count": 15,
     "metadata": {},
     "output_type": "execute_result"
    }
   ],
   "source": [
    "import keyword  #list of keywords available in python (need to complete all these)\n",
    "keyword.kwlist"
   ]
  },
  {
   "cell_type": "code",
   "execution_count": 17,
   "id": "2b89f0f3-edcb-493e-a4a0-0e9df7724f72",
   "metadata": {},
   "outputs": [
    {
     "data": {
      "text/plain": [
       "35"
      ]
     },
     "execution_count": 17,
     "metadata": {},
     "output_type": "execute_result"
    }
   ],
   "source": [
    "len(keyword.kwlist)"
   ]
  },
  {
   "cell_type": "code",
   "execution_count": 19,
   "id": "9a22516d-a4c7-49cb-9c55-206ec02f968d",
   "metadata": {},
   "outputs": [
    {
     "data": {
      "text/plain": [
       "[10, 22, 3, 5, 22]"
      ]
     },
     "execution_count": 19,
     "metadata": {},
     "output_type": "execute_result"
    }
   ],
   "source": [
    "l.append(22)\n",
    "l                        #duplicate values allowed"
   ]
  },
  {
   "cell_type": "markdown",
   "id": "5d5e9530-6b64-4cd3-acb9-879b4c096d09",
   "metadata": {},
   "source": [
    "# slicing in the list"
   ]
  },
  {
   "cell_type": "code",
   "execution_count": 22,
   "id": "69d35e8b-c933-48d3-a1bd-b2e0313e9763",
   "metadata": {},
   "outputs": [
    {
     "data": {
      "text/plain": [
       "[10, 22, 3, 5, 22]"
      ]
     },
     "execution_count": 22,
     "metadata": {},
     "output_type": "execute_result"
    }
   ],
   "source": [
    "l[:]"
   ]
  },
  {
   "cell_type": "code",
   "execution_count": 24,
   "id": "03dca321-0372-4738-95c9-1bf6bd8af87c",
   "metadata": {},
   "outputs": [
    {
     "data": {
      "text/plain": [
       "[22, 3, 5, 22]"
      ]
     },
     "execution_count": 24,
     "metadata": {},
     "output_type": "execute_result"
    }
   ],
   "source": [
    "l[1:5] # first index is included and 2nd index is not included"
   ]
  },
  {
   "cell_type": "code",
   "execution_count": 26,
   "id": "8215eb0e-790b-4555-ba95-b20bac97fb56",
   "metadata": {},
   "outputs": [
    {
     "data": {
      "text/plain": [
       "5"
      ]
     },
     "execution_count": 26,
     "metadata": {},
     "output_type": "execute_result"
    }
   ],
   "source": [
    "l[-2] # returns the element present at -2 index"
   ]
  },
  {
   "cell_type": "code",
   "execution_count": 28,
   "id": "26ed2860-158c-40a9-8f73-44ae863cfd24",
   "metadata": {},
   "outputs": [
    {
     "data": {
      "text/plain": [
       "[5, 22]"
      ]
     },
     "execution_count": 28,
     "metadata": {},
     "output_type": "execute_result"
    }
   ],
   "source": [
    "l[-2:] # returns the element from -2 to end"
   ]
  },
  {
   "cell_type": "code",
   "execution_count": 30,
   "id": "c297d5bd-4e1f-4fd8-9571-d980f5d2f621",
   "metadata": {},
   "outputs": [
    {
     "data": {
      "text/plain": [
       "[10, 22, 3]"
      ]
     },
     "execution_count": 30,
     "metadata": {},
     "output_type": "execute_result"
    }
   ],
   "source": [
    "l[:-2] # returns the element form start to -2 -1 = -3"
   ]
  },
  {
   "cell_type": "code",
   "execution_count": 32,
   "id": "82d1fcd5-32e0-45d7-ba8b-8f1307d21147",
   "metadata": {},
   "outputs": [
    {
     "data": {
      "text/plain": [
       "[10, 22, 3, 5, 22]"
      ]
     },
     "execution_count": 32,
     "metadata": {},
     "output_type": "execute_result"
    }
   ],
   "source": [
    "l1 = l.copy() # to copy elements of l to l1\n",
    "l1"
   ]
  },
  {
   "cell_type": "code",
   "execution_count": 34,
   "id": "1d24e5d0-a5ca-4a98-9b27-fcd649ae25f2",
   "metadata": {},
   "outputs": [
    {
     "data": {
      "text/plain": [
       "True"
      ]
     },
     "execution_count": 34,
     "metadata": {},
     "output_type": "execute_result"
    }
   ],
   "source": [
    "l == l1"
   ]
  },
  {
   "cell_type": "code",
   "execution_count": 36,
   "id": "41dfeac4-32e4-4c7e-bf0e-f092d43d438f",
   "metadata": {
    "scrolled": true
   },
   "outputs": [
    {
     "name": "stdout",
     "output_type": "stream",
     "text": [
      "5\n",
      "5\n"
     ]
    }
   ],
   "source": [
    "print(len(l))\n",
    "print(len(l1))"
   ]
  },
  {
   "cell_type": "code",
   "execution_count": 38,
   "id": "47e2cd4b-43d4-4f78-9ee9-dddeefe518be",
   "metadata": {},
   "outputs": [
    {
     "data": {
      "text/plain": [
       "[10, 22, 3, 5, 22, 2.3, (5+2j), True]"
      ]
     },
     "execution_count": 38,
     "metadata": {},
     "output_type": "execute_result"
    }
   ],
   "source": [
    "# add items to the list\n",
    "#while cursor placed at append press shift + TAB gives description of the function\n",
    "l1.append(2.3)\n",
    "l1.append(5+2j) # append takes only one argument at a time\n",
    "l1.append(True)\n",
    "l1"
   ]
  },
  {
   "cell_type": "code",
   "execution_count": 40,
   "id": "932ec133-5b38-458e-834c-84d3ef9e1f9d",
   "metadata": {},
   "outputs": [
    {
     "data": {
      "text/plain": [
       "2"
      ]
     },
     "execution_count": 40,
     "metadata": {},
     "output_type": "execute_result"
    }
   ],
   "source": [
    "l.count(22) # return the number of occurence of the given element"
   ]
  },
  {
   "cell_type": "code",
   "execution_count": 42,
   "id": "ef9d4fab-e34a-42d6-9ad7-0072b903bca5",
   "metadata": {},
   "outputs": [
    {
     "data": {
      "text/plain": [
       "[10, 22, 3, 5, 22]"
      ]
     },
     "execution_count": 42,
     "metadata": {},
     "output_type": "execute_result"
    }
   ],
   "source": [
    "l"
   ]
  },
  {
   "cell_type": "code",
   "execution_count": 44,
   "id": "7cdfaa66-8d52-4563-a4ba-860d7d938eb6",
   "metadata": {},
   "outputs": [
    {
     "data": {
      "text/plain": [
       "[10, 22, 3, 5, 22, 2.3, (5+2j), True]"
      ]
     },
     "execution_count": 44,
     "metadata": {},
     "output_type": "execute_result"
    }
   ],
   "source": [
    "l1"
   ]
  },
  {
   "cell_type": "code",
   "execution_count": 46,
   "id": "58ac9062-e10d-478e-b86f-3656a2b39a4b",
   "metadata": {},
   "outputs": [
    {
     "data": {
      "text/plain": [
       "[10, 22, 3, 5, 22, 2.3, (5+2j), True]"
      ]
     },
     "execution_count": 46,
     "metadata": {},
     "output_type": "execute_result"
    }
   ],
   "source": [
    "l2 = l1.copy()\n",
    "l2"
   ]
  },
  {
   "cell_type": "code",
   "execution_count": 48,
   "id": "85b7ae9c-8b4b-4ecd-82f0-4f9b9a48cf8b",
   "metadata": {},
   "outputs": [],
   "source": [
    "l2.remove(True) #removes the 1st occurence of the given element"
   ]
  },
  {
   "cell_type": "code",
   "execution_count": 62,
   "id": "69b1f100-ea5f-492c-a1a1-b3bf749cece6",
   "metadata": {},
   "outputs": [
    {
     "data": {
      "text/plain": [
       "[10, 22, 3, 5, 22, 2.3, (5+2j)]"
      ]
     },
     "execution_count": 62,
     "metadata": {},
     "output_type": "execute_result"
    }
   ],
   "source": [
    "l2"
   ]
  },
  {
   "cell_type": "code",
   "execution_count": 50,
   "id": "126a0b8d-cd18-43a8-bd0a-ce337b019e16",
   "metadata": {},
   "outputs": [],
   "source": [
    "l2.insert(4,False) # to add False at index 4"
   ]
  },
  {
   "cell_type": "code",
   "execution_count": 54,
   "id": "dbd4590f-2660-4e9d-acb7-f1f179f8c207",
   "metadata": {},
   "outputs": [
    {
     "data": {
      "text/plain": [
       "[10, 22, 3, 5, False, 22, 2.3, (5+2j)]"
      ]
     },
     "execution_count": 54,
     "metadata": {},
     "output_type": "execute_result"
    }
   ],
   "source": [
    "l2"
   ]
  },
  {
   "cell_type": "code",
   "execution_count": 56,
   "id": "eb658924-a513-42ea-9c21-9c86945eb1d6",
   "metadata": {},
   "outputs": [
    {
     "ename": "TypeError",
     "evalue": "list.clear() takes no arguments (1 given)",
     "output_type": "error",
     "traceback": [
      "\u001b[1;31m---------------------------------------------------------------------------\u001b[0m",
      "\u001b[1;31mTypeError\u001b[0m                                 Traceback (most recent call last)",
      "Cell \u001b[1;32mIn[56], line 1\u001b[0m\n\u001b[1;32m----> 1\u001b[0m l2\u001b[38;5;241m.\u001b[39mclear(\u001b[38;5;241m22\u001b[39m)\n",
      "\u001b[1;31mTypeError\u001b[0m: list.clear() takes no arguments (1 given)"
     ]
    }
   ],
   "source": [
    "l2.clear(22) # CLEAR takes no argument"
   ]
  },
  {
   "cell_type": "code",
   "execution_count": 58,
   "id": "ea735674-287e-4127-a319-3d3aa917eeee",
   "metadata": {},
   "outputs": [],
   "source": [
    "l2.clear() # to clear/remove all the elements"
   ]
  },
  {
   "cell_type": "code",
   "execution_count": 60,
   "id": "7965ec8d-79fa-43e4-a63d-d2d462b60972",
   "metadata": {},
   "outputs": [
    {
     "data": {
      "text/plain": [
       "[]"
      ]
     },
     "execution_count": 60,
     "metadata": {},
     "output_type": "execute_result"
    }
   ],
   "source": [
    "l2"
   ]
  },
  {
   "cell_type": "code",
   "execution_count": 62,
   "id": "e70950b7-0215-4671-bfea-6e0155bff241",
   "metadata": {},
   "outputs": [],
   "source": [
    "del l2 # to delete the list"
   ]
  },
  {
   "cell_type": "code",
   "execution_count": 64,
   "id": "4ac5692a-fd78-4aa2-84e2-9e4a2359b841",
   "metadata": {},
   "outputs": [
    {
     "ename": "NameError",
     "evalue": "name 'l2' is not defined",
     "output_type": "error",
     "traceback": [
      "\u001b[1;31m---------------------------------------------------------------------------\u001b[0m",
      "\u001b[1;31mNameError\u001b[0m                                 Traceback (most recent call last)",
      "Cell \u001b[1;32mIn[64], line 1\u001b[0m\n\u001b[1;32m----> 1\u001b[0m l2\n",
      "\u001b[1;31mNameError\u001b[0m: name 'l2' is not defined"
     ]
    }
   ],
   "source": [
    "l2"
   ]
  },
  {
   "cell_type": "code",
   "execution_count": null,
   "id": "8f70970c-b3e9-49e5-82c9-a9e4069fb872",
   "metadata": {},
   "outputs": [],
   "source": []
  },
  {
   "cell_type": "markdown",
   "id": "d82b92c3-8a92-45ef-8d8d-dcbf0d175460",
   "metadata": {},
   "source": [
    "# 4th March class 10"
   ]
  },
  {
   "cell_type": "raw",
   "id": "ed13f993-37e8-4e09-97e8-9241095bd9f5",
   "metadata": {},
   "source": [
    "topic - list[] data structure\n",
    "            -> defined with square bracket [] \n",
    "            -> are mutable\n",
    "            -> allows duplicate elements\n",
    "            -> slicing & indexing is allowed\n",
    "            -> functions available:-\n",
    "                count(item) -> counts the total occurance of the item\n",
    "                index(item) -> finds the index of the first occurance of the item\n",
    "                append(item) -> adds items to the last of the list\n",
    "                l1.extend(l2) -> it adds the items of l2 at the end of l1\n",
    "                                    we can also use + to do the same\n",
    "                sort() -> it arranges list's items in ascending order\n",
    "                sort(reverse=True) -> arranges list in descending order\n",
    "                reverse() -> to print the list backwards without sorting\n",
    "                remove(item) -> remove an item \n",
    "                pop(index) -> if no index given then pops out the last element.\n",
    "                                if index given then pops out the element at that index\n",
    "                insert(index,item) -> inserts a given item at a given index\n",
    "                clear() -> to clear/flush out whole items in the list\n",
    "                l2.copy() -> copy items of l2 -> takes no arguments\n",
    "                del l1[index] -> deletes the element at that index in list l1\n",
    "                del l1 -> deletes the list l1 from memory"
   ]
  },
  {
   "cell_type": "code",
   "execution_count": 148,
   "id": "08ba87ef-dd7f-43ad-a84c-f66bde1adac0",
   "metadata": {},
   "outputs": [],
   "source": [
    "l = [10, 20, 30, 40, 40]\n",
    "l2 = [10, 20, 30, 40, 40, 2.3, True, 1+2j, 50]\n",
    "\n"
   ]
  },
  {
   "cell_type": "code",
   "execution_count": 150,
   "id": "94c41915-4ffe-446f-bd5d-d68f0a8fbe29",
   "metadata": {},
   "outputs": [
    {
     "name": "stdout",
     "output_type": "stream",
     "text": [
      "[10, 20, 30, 40, 40]\n",
      "[10, 20, 30, 40, 40, 2.3, True, (1+2j), 50]\n"
     ]
    }
   ],
   "source": [
    "print(l)\n",
    "print(l2)"
   ]
  },
  {
   "cell_type": "code",
   "execution_count": 152,
   "id": "75e9f858-0fe9-43d5-80f2-1d44cb931155",
   "metadata": {},
   "outputs": [
    {
     "name": "stdout",
     "output_type": "stream",
     "text": [
      "5\n",
      "9\n"
     ]
    }
   ],
   "source": [
    "print(len(l))\n",
    "print(len(l2))"
   ]
  },
  {
   "cell_type": "code",
   "execution_count": 154,
   "id": "20ef6720-1e72-404c-af81-500975f2567f",
   "metadata": {},
   "outputs": [
    {
     "name": "stdout",
     "output_type": "stream",
     "text": [
      "10\n",
      "20\n",
      "30\n",
      "40\n",
      "40\n"
     ]
    }
   ],
   "source": [
    "for i in l:\n",
    "    print(i)"
   ]
  },
  {
   "cell_type": "code",
   "execution_count": 156,
   "id": "31c2681e-ac0c-4332-b86e-07f7cceccbcd",
   "metadata": {},
   "outputs": [
    {
     "data": {
      "text/plain": [
       "[10, 20, 30, 40, 40, [1, 2, 3, 'hi']]"
      ]
     },
     "execution_count": 156,
     "metadata": {},
     "output_type": "execute_result"
    }
   ],
   "source": [
    "l.append([1,2,3,'hi']) # nested list\n",
    "l"
   ]
  },
  {
   "cell_type": "code",
   "execution_count": 158,
   "id": "cdf5a0ca-a873-4961-b0ce-60349fec22a5",
   "metadata": {},
   "outputs": [
    {
     "data": {
      "text/plain": [
       "[10, 20, 30, 40, [1, 2, 3, 'hi']]"
      ]
     },
     "execution_count": 158,
     "metadata": {},
     "output_type": "execute_result"
    }
   ],
   "source": [
    "l.remove(40) #removes the first occurance of 40\n",
    "l"
   ]
  },
  {
   "cell_type": "code",
   "execution_count": 160,
   "id": "3bdbe6ba-b7c0-49d5-9a89-e5fa9d90ccf7",
   "metadata": {},
   "outputs": [
    {
     "data": {
      "text/plain": [
       "[1, 2, 3, 'hi']"
      ]
     },
     "execution_count": 160,
     "metadata": {},
     "output_type": "execute_result"
    }
   ],
   "source": [
    "l.pop(4) \n",
    "# remove the element present at index number 4 output here is the element that has been removed"
   ]
  },
  {
   "cell_type": "code",
   "execution_count": 162,
   "id": "3f18e1ec-3202-4fba-99d9-b7dd0b1e76e1",
   "metadata": {},
   "outputs": [
    {
     "data": {
      "text/plain": [
       "[10, 20, 30, 40]"
      ]
     },
     "execution_count": 162,
     "metadata": {},
     "output_type": "execute_result"
    }
   ],
   "source": [
    "l"
   ]
  },
  {
   "cell_type": "code",
   "execution_count": 164,
   "id": "b9f728d5-c28b-4995-a574-6c66007738cb",
   "metadata": {},
   "outputs": [
    {
     "data": {
      "text/plain": [
       "[10, 20, 30, 40, 40, 2.3, True, (1+2j), 50]"
      ]
     },
     "execution_count": 164,
     "metadata": {},
     "output_type": "execute_result"
    }
   ],
   "source": [
    "l2"
   ]
  },
  {
   "cell_type": "code",
   "execution_count": 166,
   "id": "9bae9203-c9c4-42f6-900d-cd14dbb29a5a",
   "metadata": {},
   "outputs": [
    {
     "data": {
      "text/plain": [
       "50"
      ]
     },
     "execution_count": 166,
     "metadata": {},
     "output_type": "execute_result"
    }
   ],
   "source": [
    "l2.pop() # when no index is mentioned in the paranthesis then pop removes the last element in the list"
   ]
  },
  {
   "cell_type": "code",
   "execution_count": 168,
   "id": "1a8ec46c-bb86-435f-b474-e70e1798b57b",
   "metadata": {},
   "outputs": [
    {
     "data": {
      "text/plain": [
       "[10, 20, 30, 40, 40, 2.3, True, (1+2j)]"
      ]
     },
     "execution_count": 168,
     "metadata": {},
     "output_type": "execute_result"
    }
   ],
   "source": [
    "l2\n"
   ]
  },
  {
   "cell_type": "code",
   "execution_count": 170,
   "id": "1a500ede-280d-4db9-9523-93cc5f249f4a",
   "metadata": {},
   "outputs": [
    {
     "data": {
      "text/plain": [
       "(1+2j)"
      ]
     },
     "execution_count": 170,
     "metadata": {},
     "output_type": "execute_result"
    }
   ],
   "source": [
    "l2.pop(-1) # (1+2j) will be removed as -1 specifies the first element form the right side"
   ]
  },
  {
   "cell_type": "code",
   "execution_count": 172,
   "id": "2b1e25a3-cf8f-4159-b187-4e8f9ba563b2",
   "metadata": {},
   "outputs": [
    {
     "data": {
      "text/plain": [
       "[10, 20, 30, 40, 40, 2.3, True]"
      ]
     },
     "execution_count": 172,
     "metadata": {},
     "output_type": "execute_result"
    }
   ],
   "source": [
    "l2"
   ]
  },
  {
   "cell_type": "code",
   "execution_count": 174,
   "id": "d365c0cf-9896-4511-a7a4-b7a487602eee",
   "metadata": {},
   "outputs": [
    {
     "name": "stdout",
     "output_type": "stream",
     "text": [
      "[10, 20, 30, 40]\n",
      "[10, 20, 30, 40, 40, 2.3, True]\n"
     ]
    }
   ],
   "source": [
    "print(l)\n",
    "print(l2)"
   ]
  },
  {
   "cell_type": "code",
   "execution_count": 176,
   "id": "0ab57e49-e51d-4f76-9431-f18d3c9c494a",
   "metadata": {},
   "outputs": [
    {
     "data": {
      "text/plain": [
       "[10, 20, 30, 35, 40]"
      ]
     },
     "execution_count": 176,
     "metadata": {},
     "output_type": "execute_result"
    }
   ],
   "source": [
    "l.insert(3,35) # it means insert 35 at 3rd index--> syntax: list.insert(index,value) --> always needs two parameters where 1st one should be index and 2nd one can be value of any data type\n",
    "l"
   ]
  },
  {
   "cell_type": "code",
   "execution_count": 178,
   "id": "3c1ab1ff-c4d3-49ca-80fb-509c705aae18",
   "metadata": {},
   "outputs": [
    {
     "data": {
      "text/plain": [
       "[]"
      ]
     },
     "execution_count": 178,
     "metadata": {},
     "output_type": "execute_result"
    }
   ],
   "source": [
    "l1 = [] \n",
    "l1"
   ]
  },
  {
   "cell_type": "code",
   "execution_count": 180,
   "id": "f872e9c2-4857-4ffe-9914-d9b864611392",
   "metadata": {},
   "outputs": [
    {
     "data": {
      "text/plain": [
       "[10, 20, 30, 40, 40, 2.3, True]"
      ]
     },
     "execution_count": 180,
     "metadata": {},
     "output_type": "execute_result"
    }
   ],
   "source": [
    "l1.extend(l2) # it concats list \n",
    "l1\n"
   ]
  },
  {
   "cell_type": "code",
   "execution_count": 182,
   "id": "ce76cf17-7d66-4ac3-8d30-4e3091fb9f90",
   "metadata": {},
   "outputs": [
    {
     "data": {
      "text/plain": [
       "[10, 20, 30, 35, 40]"
      ]
     },
     "execution_count": 182,
     "metadata": {},
     "output_type": "execute_result"
    }
   ],
   "source": [
    "l"
   ]
  },
  {
   "cell_type": "code",
   "execution_count": 184,
   "id": "90a41c76-737f-4369-8a31-e32e82fa9047",
   "metadata": {},
   "outputs": [
    {
     "data": {
      "text/plain": [
       "[10, 20, 30, 40, 40, 2.3, True]"
      ]
     },
     "execution_count": 184,
     "metadata": {},
     "output_type": "execute_result"
    }
   ],
   "source": [
    "l1"
   ]
  },
  {
   "cell_type": "code",
   "execution_count": 186,
   "id": "5eb0a6e8-8f16-4720-960d-b81fa0106df8",
   "metadata": {},
   "outputs": [
    {
     "data": {
      "text/plain": [
       "[10, 20, 30, 40, 40, 2.3, True]"
      ]
     },
     "execution_count": 186,
     "metadata": {},
     "output_type": "execute_result"
    }
   ],
   "source": [
    "l2"
   ]
  },
  {
   "cell_type": "code",
   "execution_count": 188,
   "id": "ba2b950b-38d3-41bd-b1b9-223ca616f23a",
   "metadata": {},
   "outputs": [],
   "source": [
    "l.extend(l1) \n",
    "# it adds the elements of l1 to l->it can be understood as l = elements of l + elements of l1"
   ]
  },
  {
   "cell_type": "code",
   "execution_count": 190,
   "id": "ec3ba430-b5cc-491c-a9c9-df716db036e3",
   "metadata": {},
   "outputs": [
    {
     "data": {
      "text/plain": [
       "[10, 20, 30, 35, 40, 10, 20, 30, 40, 40, 2.3, True]"
      ]
     },
     "execution_count": 190,
     "metadata": {},
     "output_type": "execute_result"
    }
   ],
   "source": [
    "l"
   ]
  },
  {
   "cell_type": "code",
   "execution_count": 192,
   "id": "2337ab40-2709-4b18-bf0c-fb372f6df9ed",
   "metadata": {},
   "outputs": [
    {
     "data": {
      "text/plain": [
       "2"
      ]
     },
     "execution_count": 192,
     "metadata": {},
     "output_type": "execute_result"
    }
   ],
   "source": [
    "l.index(30) \n",
    "# it return the forward index vlaue of 30 --> it always returns the index of first occurance"
   ]
  },
  {
   "cell_type": "code",
   "execution_count": 194,
   "id": "82277da1-5674-4464-8040-a7ab9be27aee",
   "metadata": {},
   "outputs": [
    {
     "data": {
      "text/plain": [
       "2"
      ]
     },
     "execution_count": 194,
     "metadata": {},
     "output_type": "execute_result"
    }
   ],
   "source": [
    "l.count(10) # counts the occurances of value in a list"
   ]
  },
  {
   "cell_type": "code",
   "execution_count": 196,
   "id": "5258f6e2-92bf-4789-94e3-47f9351ba678",
   "metadata": {},
   "outputs": [
    {
     "data": {
      "text/plain": [
       "[10, 20, 30, 40, 40, 2.3, True]"
      ]
     },
     "execution_count": 196,
     "metadata": {},
     "output_type": "execute_result"
    }
   ],
   "source": [
    "l1"
   ]
  },
  {
   "cell_type": "code",
   "execution_count": 198,
   "id": "e973f0d5-a4d4-4156-87be-1552742ba4b4",
   "metadata": {},
   "outputs": [
    {
     "data": {
      "text/plain": [
       "[10, 20, 30, 40, 40, 2.3, True]"
      ]
     },
     "execution_count": 198,
     "metadata": {},
     "output_type": "execute_result"
    }
   ],
   "source": [
    "l2"
   ]
  },
  {
   "cell_type": "code",
   "execution_count": 200,
   "id": "70f7d2e1-df10-45d0-aee9-6b6cfa7d11b4",
   "metadata": {},
   "outputs": [
    {
     "data": {
      "text/plain": [
       "[10, 20, 30, 35, 40, 10, 20, 30, 40, 40, 2.3, True]"
      ]
     },
     "execution_count": 200,
     "metadata": {},
     "output_type": "execute_result"
    }
   ],
   "source": [
    "l"
   ]
  },
  {
   "cell_type": "code",
   "execution_count": 212,
   "id": "31029629-c72f-4eba-bfb4-1bdf06e29809",
   "metadata": {},
   "outputs": [
    {
     "data": {
      "text/plain": [
       "2.3"
      ]
     },
     "execution_count": 212,
     "metadata": {},
     "output_type": "execute_result"
    }
   ],
   "source": [
    "l.pop() \n",
    "# i have excuted it twice to remove True and 2.3"
   ]
  },
  {
   "cell_type": "code",
   "execution_count": 214,
   "id": "3b79e03a-8cd3-4e1f-8b4a-2ed8f4f82db1",
   "metadata": {},
   "outputs": [
    {
     "data": {
      "text/plain": [
       "[40, 40, 40, 35, 30, 30, 20, 20, 10, 10]"
      ]
     },
     "execution_count": 214,
     "metadata": {},
     "output_type": "execute_result"
    }
   ],
   "source": [
    "l"
   ]
  },
  {
   "cell_type": "code",
   "execution_count": 216,
   "id": "99457327-d5d3-40af-91ca-0d2254752215",
   "metadata": {},
   "outputs": [],
   "source": [
    "l.sort() # to arrange the elemets in ascending order --> works on only similar data tpes"
   ]
  },
  {
   "cell_type": "code",
   "execution_count": 218,
   "id": "c617660e-f175-490f-8d11-0f8dda50c377",
   "metadata": {},
   "outputs": [
    {
     "data": {
      "text/plain": [
       "[10, 10, 20, 20, 30, 30, 35, 40, 40, 40]"
      ]
     },
     "execution_count": 218,
     "metadata": {},
     "output_type": "execute_result"
    }
   ],
   "source": [
    "l"
   ]
  },
  {
   "cell_type": "code",
   "execution_count": 220,
   "id": "2f780ade-6f46-4644-ab00-e7d726d04d8e",
   "metadata": {},
   "outputs": [
    {
     "data": {
      "text/plain": [
       "[40, 40, 40, 35, 30, 30, 20, 20, 10, 10]"
      ]
     },
     "execution_count": 220,
     "metadata": {},
     "output_type": "execute_result"
    }
   ],
   "source": [
    "l.sort(reverse=True) # to arrange the elements in descending order as reverse=True\n",
    "l"
   ]
  },
  {
   "cell_type": "code",
   "execution_count": 222,
   "id": "e4508af4-2a14-430d-b36d-5f0d598a8138",
   "metadata": {},
   "outputs": [
    {
     "data": {
      "text/plain": [
       "['a', 'b', 'c', 'r', 's']"
      ]
     },
     "execution_count": 222,
     "metadata": {},
     "output_type": "execute_result"
    }
   ],
   "source": [
    "l_str = ['a','b','s','r','c']\n",
    "l_str.sort()\n",
    "l_str"
   ]
  },
  {
   "cell_type": "code",
   "execution_count": 224,
   "id": "51df4263-5939-4434-a977-af8d4ff063e1",
   "metadata": {},
   "outputs": [
    {
     "data": {
      "text/plain": [
       "['s', 'r', 'c', 'b', 'a']"
      ]
     },
     "execution_count": 224,
     "metadata": {},
     "output_type": "execute_result"
    }
   ],
   "source": [
    "l_str.reverse() # to arrange the elements in descending order\n",
    "l_str"
   ]
  },
  {
   "cell_type": "code",
   "execution_count": 226,
   "id": "1b7f940a-dd4f-4f5c-a057-0d4f7ccad240",
   "metadata": {},
   "outputs": [
    {
     "name": "stdout",
     "output_type": "stream",
     "text": [
      "[40, 40, 40, 35, 30, 30, 20, 20, 10, 10]\n",
      "[10, 10, 20, 20, 30, 30, 35, 40, 40, 40]\n"
     ]
    }
   ],
   "source": [
    "print(l) # at 69th step i have already sorted in descending order\n",
    "l.reverse()\n",
    "print(l)"
   ]
  },
  {
   "cell_type": "code",
   "execution_count": 77,
   "id": "b40dc7e8-dfcd-4f0e-9e15-3a1a50700b96",
   "metadata": {},
   "outputs": [
    {
     "data": {
      "text/plain": [
       "[40, 40, 40, 35, 30, 30, 20, 20, 10, 10]"
      ]
     },
     "execution_count": 77,
     "metadata": {},
     "output_type": "execute_result"
    }
   ],
   "source": [
    "l[::-1]\n",
    "# advance way of slicing to arrange the elements in reverse order\n",
    "# start from last element till 1st element and print every 1st element "
   ]
  },
  {
   "cell_type": "code",
   "execution_count": 66,
   "id": "39513388-77ae-4627-95af-bcd36ac1155f",
   "metadata": {},
   "outputs": [
    {
     "data": {
      "text/plain": [
       "[25, 35, 7, 8, 45, 5, 3, 2, 1, 5]"
      ]
     },
     "execution_count": 66,
     "metadata": {},
     "output_type": "execute_result"
    }
   ],
   "source": [
    "l3 =[5,1,2,3,5,45,8,7,35,25]\n",
    "l3.reverse() # reverse just returns the list backwards -> doesn't sort in descending\n",
    "l3"
   ]
  },
  {
   "cell_type": "code",
   "execution_count": 234,
   "id": "33bb7caf-5794-4530-a48f-023f9784644c",
   "metadata": {},
   "outputs": [
    {
     "data": {
      "text/plain": [
       "[10, 20, 30, 40, 40, 2.3, True, 25, 35, 7, 8, 45, 5, 3, 2, 1, 5]"
      ]
     },
     "execution_count": 234,
     "metadata": {},
     "output_type": "execute_result"
    }
   ],
   "source": [
    "l4=l1 + l3 # to join two list\n",
    "l4"
   ]
  },
  {
   "cell_type": "code",
   "execution_count": null,
   "id": "65e6a9cc-fc32-4d38-8857-7f8f2379c2e0",
   "metadata": {},
   "outputs": [],
   "source": []
  },
  {
   "cell_type": "markdown",
   "id": "3b0fb244-0cbc-46c0-b22f-ea12bd19daf6",
   "metadata": {},
   "source": [
    "# 5 March class 11"
   ]
  },
  {
   "cell_type": "markdown",
   "id": "48fd3fe0-82ad-43d5-8077-023994d539c3",
   "metadata": {},
   "source": [
    "**string list slicing**"
   ]
  },
  {
   "cell_type": "code",
   "execution_count": 3,
   "id": "ee8c66ce-8ad0-4324-9924-1120727ef363",
   "metadata": {},
   "outputs": [],
   "source": [
    "s1 = 'nit'"
   ]
  },
  {
   "cell_type": "code",
   "execution_count": 5,
   "id": "4f9d75ec-f907-4be7-8876-7140120aa847",
   "metadata": {},
   "outputs": [
    {
     "data": {
      "text/plain": [
       "'nit'"
      ]
     },
     "execution_count": 5,
     "metadata": {},
     "output_type": "execute_result"
    }
   ],
   "source": [
    "s1"
   ]
  },
  {
   "cell_type": "code",
   "execution_count": 9,
   "id": "c4006d87-91c2-470c-ab46-70fb09398850",
   "metadata": {},
   "outputs": [
    {
     "data": {
      "text/plain": [
       "'n'"
      ]
     },
     "execution_count": 9,
     "metadata": {},
     "output_type": "execute_result"
    }
   ],
   "source": [
    "s1[0]\n"
   ]
  },
  {
   "cell_type": "code",
   "execution_count": 13,
   "id": "942cc0c7-dd9a-41eb-9fa4-ef9ac25bf7f9",
   "metadata": {},
   "outputs": [
    {
     "data": {
      "text/plain": [
       "'i'"
      ]
     },
     "execution_count": 13,
     "metadata": {},
     "output_type": "execute_result"
    }
   ],
   "source": [
    "s1[1]"
   ]
  },
  {
   "cell_type": "code",
   "execution_count": 15,
   "id": "a7090699-21c0-4ae0-b32a-b0f2a24c570c",
   "metadata": {},
   "outputs": [
    {
     "data": {
      "text/plain": [
       "'t'"
      ]
     },
     "execution_count": 15,
     "metadata": {},
     "output_type": "execute_result"
    }
   ],
   "source": [
    "s1[2]"
   ]
  },
  {
   "cell_type": "code",
   "execution_count": 17,
   "id": "65167372-35b5-44d2-93ba-587bc45db3f3",
   "metadata": {},
   "outputs": [
    {
     "ename": "IndexError",
     "evalue": "string index out of range",
     "output_type": "error",
     "traceback": [
      "\u001b[1;31m---------------------------------------------------------------------------\u001b[0m",
      "\u001b[1;31mIndexError\u001b[0m                                Traceback (most recent call last)",
      "Cell \u001b[1;32mIn[17], line 1\u001b[0m\n\u001b[1;32m----> 1\u001b[0m s1[\u001b[38;5;241m3\u001b[39m]\n",
      "\u001b[1;31mIndexError\u001b[0m: string index out of range"
     ]
    }
   ],
   "source": [
    "s1[3]"
   ]
  },
  {
   "cell_type": "code",
   "execution_count": 21,
   "id": "cb17394e-0e6d-4c7a-a2e7-ed48b43ec6ce",
   "metadata": {},
   "outputs": [
    {
     "name": "stdout",
     "output_type": "stream",
     "text": [
      "n\n",
      "i\n",
      "t\n"
     ]
    }
   ],
   "source": [
    "for i in s1:\n",
    "    print (i)"
   ]
  },
  {
   "cell_type": "markdown",
   "id": "a8c9d8de-afa4-47b9-b069-8d5c1f7dfc08",
   "metadata": {},
   "source": [
    "**list slicing**"
   ]
  },
  {
   "cell_type": "code",
   "execution_count": 3,
   "id": "f1d9c78f-1443-42d4-b94f-6e654f258b4f",
   "metadata": {},
   "outputs": [
    {
     "name": "stdout",
     "output_type": "stream",
     "text": [
      "[40, 30, 20, 15, 10, 2.3, 1]\n"
     ]
    }
   ],
   "source": [
    "l1 = [40, 30, 20, 15, 10, 2.3, 1]\n",
    "print(l1)"
   ]
  },
  {
   "cell_type": "code",
   "execution_count": 7,
   "id": "c9dbdb91-1ef5-4eac-8ccf-113a69453238",
   "metadata": {},
   "outputs": [
    {
     "data": {
      "text/plain": [
       "[40, 30, 20, 15, 10, 2.3, 1]"
      ]
     },
     "execution_count": 7,
     "metadata": {},
     "output_type": "execute_result"
    }
   ],
   "source": [
    "l1[:] # empty slice --> display entire element"
   ]
  },
  {
   "cell_type": "code",
   "execution_count": 9,
   "id": "a8ecdeaf-64a7-47ad-8bec-cd865c49779f",
   "metadata": {},
   "outputs": [
    {
     "data": {
      "text/plain": [
       "[20, 15]"
      ]
     },
     "execution_count": 9,
     "metadata": {},
     "output_type": "execute_result"
    }
   ],
   "source": [
    "l1[2:4] # print from index 2 to 4 -1 = 3 index"
   ]
  },
  {
   "cell_type": "code",
   "execution_count": 11,
   "id": "84f21ee9-e7d3-43b3-a0ee-fa04ab808013",
   "metadata": {},
   "outputs": [
    {
     "data": {
      "text/plain": [
       "[40, 30, 20, 15, 10]"
      ]
     },
     "execution_count": 11,
     "metadata": {},
     "output_type": "execute_result"
    }
   ],
   "source": [
    "l1[:5] # print from (start index 0) to 5 - 1 = 4"
   ]
  },
  {
   "cell_type": "code",
   "execution_count": 13,
   "id": "d603207d-ea60-4082-b34d-b64334e22c57",
   "metadata": {},
   "outputs": [
    {
     "data": {
      "text/plain": [
       "[15, 10, 2.3, 1]"
      ]
     },
     "execution_count": 13,
     "metadata": {},
     "output_type": "execute_result"
    }
   ],
   "source": [
    "l1[3:] #print form index 3 to last"
   ]
  },
  {
   "cell_type": "code",
   "execution_count": 17,
   "id": "c842b65c-a7c1-4af4-a747-0f4c46839a96",
   "metadata": {},
   "outputs": [
    {
     "data": {
      "text/plain": [
       "[40, 30, 20, 15, 10, 2.3, 1]"
      ]
     },
     "execution_count": 17,
     "metadata": {},
     "output_type": "execute_result"
    }
   ],
   "source": [
    "l1  #slicing doesn't make any changes in the original data"
   ]
  },
  {
   "cell_type": "raw",
   "id": "aca0fead-f81e-4d2f-82bb-0705dd772bc0",
   "metadata": {},
   "source": [
    "1:100:10 --> start index:last index:step index\n",
    "here, it give every 10th step count means it prints every 10th elementfrom index 1"
   ]
  },
  {
   "cell_type": "code",
   "execution_count": 19,
   "id": "e5cd71cf-5f53-48ec-9fe7-974177d469c5",
   "metadata": {},
   "outputs": [
    {
     "data": {
      "text/plain": [
       "[40, 2.3]"
      ]
     },
     "execution_count": 19,
     "metadata": {},
     "output_type": "execute_result"
    }
   ],
   "source": [
    "l1[0:10:5] # it starts with 0 and goes till 9 index if available and jumps 5 steps"
   ]
  },
  {
   "cell_type": "code",
   "execution_count": 21,
   "id": "8811ecd9-ed5a-4ac2-aa93-9ae471950435",
   "metadata": {},
   "outputs": [
    {
     "data": {
      "text/plain": [
       "[40, 20, 10]"
      ]
     },
     "execution_count": 21,
     "metadata": {},
     "output_type": "execute_result"
    }
   ],
   "source": [
    "l1[0:5:2] # it starts with 0 and goes till 4 index and jumps 2 steps"
   ]
  },
  {
   "cell_type": "code",
   "execution_count": 23,
   "id": "b1d6dc32-44d2-464a-a119-9f072a536fa3",
   "metadata": {},
   "outputs": [
    {
     "data": {
      "text/plain": [
       "[1, 2.3, 10, 15, 20, 30, 40]"
      ]
     },
     "execution_count": 23,
     "metadata": {},
     "output_type": "execute_result"
    }
   ],
   "source": [
    "l1[::-1] \n",
    "# it starts with last index from right and jumps 1 step ahead and prints it in reverse\n",
    "# it does not arranges in desending order just prints reverse"
   ]
  },
  {
   "cell_type": "code",
   "execution_count": 25,
   "id": "b7bff878-f680-4e70-954d-ae19f2eb579e",
   "metadata": {},
   "outputs": [
    {
     "data": {
      "text/plain": [
       "[40, 30, 20, 15, 10, 2.3, 1]"
      ]
     },
     "execution_count": 25,
     "metadata": {},
     "output_type": "execute_result"
    }
   ],
   "source": [
    "l1"
   ]
  },
  {
   "cell_type": "code",
   "execution_count": 27,
   "id": "56c9d564-64a1-4d4f-8834-9bf314e59478",
   "metadata": {},
   "outputs": [
    {
     "data": {
      "text/plain": [
       "40"
      ]
     },
     "execution_count": 27,
     "metadata": {},
     "output_type": "execute_result"
    }
   ],
   "source": [
    "l1[0]"
   ]
  },
  {
   "cell_type": "code",
   "execution_count": 29,
   "id": "ada85146-585b-4fe2-9aa4-6a91c225ad1b",
   "metadata": {},
   "outputs": [],
   "source": [
    "l1[0] = 45"
   ]
  },
  {
   "cell_type": "code",
   "execution_count": 31,
   "id": "0e02fd21-9627-4c93-8ee4-681648d4ce9e",
   "metadata": {},
   "outputs": [
    {
     "data": {
      "text/plain": [
       "[45, 30, 20, 15, 10, 2.3, 1]"
      ]
     },
     "execution_count": 31,
     "metadata": {},
     "output_type": "execute_result"
    }
   ],
   "source": [
    "l1"
   ]
  },
  {
   "cell_type": "raw",
   "id": "17af21ce-e8a7-4a27-8d94-29e92e91d73a",
   "metadata": {},
   "source": [
    "Above code shows that list is mutable or hashable. means we can change the elements of list."
   ]
  },
  {
   "cell_type": "code",
   "execution_count": 35,
   "id": "a3b27834-7695-45fe-bc59-8b40b07d8743",
   "metadata": {},
   "outputs": [
    {
     "name": "stdout",
     "output_type": "stream",
     "text": [
      "[45, 30, 20, 15, 10, 2.3, 'nit']\n"
     ]
    }
   ],
   "source": [
    "l1[-1] = 'nit'\n",
    "print(l1)\n"
   ]
  },
  {
   "cell_type": "code",
   "execution_count": 37,
   "id": "1a7340a5-c795-4dda-892a-6c104746fc40",
   "metadata": {},
   "outputs": [
    {
     "data": {
      "text/plain": [
       "'n'"
      ]
     },
     "execution_count": 37,
     "metadata": {},
     "output_type": "execute_result"
    }
   ],
   "source": [
    "l1[-1][0] # nested slicing --> slice 0th index from the element present at -1 of l1"
   ]
  },
  {
   "cell_type": "code",
   "execution_count": 39,
   "id": "bd208edd-93a7-4801-a8c4-80c120ccc6c2",
   "metadata": {},
   "outputs": [
    {
     "name": "stdout",
     "output_type": "stream",
     "text": [
      "n\n",
      "i\n",
      "t\n"
     ]
    }
   ],
   "source": [
    "print(l1[-1][0])\n",
    "print(l1[-1][1])\n",
    "print(l1[-1][2])"
   ]
  },
  {
   "cell_type": "code",
   "execution_count": 49,
   "id": "616f0465-6a0b-42ef-9f8b-d2f62d233177",
   "metadata": {},
   "outputs": [
    {
     "data": {
      "text/plain": [
       "['a', 'b', 4, 5, 6, 45, 30, 20, 15, 10, 2.3, 'nit']"
      ]
     },
     "execution_count": 49,
     "metadata": {},
     "output_type": "execute_result"
    }
   ],
   "source": [
    "l2 = ['a', 'b', 4, 5, 6]\n",
    "l3 = l2 + l1   # concatenation of l2 and l1 in l3\n",
    "l3"
   ]
  },
  {
   "cell_type": "markdown",
   "id": "261c1aba-11d0-4108-818c-3ea0a05d6677",
   "metadata": {},
   "source": [
    "**List membership**"
   ]
  },
  {
   "cell_type": "code",
   "execution_count": 51,
   "id": "c663e0e9-cb33-436b-a493-d7860e0a2779",
   "metadata": {},
   "outputs": [
    {
     "data": {
      "text/plain": [
       "True"
      ]
     },
     "execution_count": 51,
     "metadata": {},
     "output_type": "execute_result"
    }
   ],
   "source": [
    "'a' in l3 # to check whether the element present in l3 list"
   ]
  },
  {
   "cell_type": "code",
   "execution_count": 53,
   "id": "798eb67f-502b-4470-838c-9cbbbdbcca3a",
   "metadata": {},
   "outputs": [
    {
     "data": {
      "text/plain": [
       "False"
      ]
     },
     "execution_count": 53,
     "metadata": {},
     "output_type": "execute_result"
    }
   ],
   "source": [
    "35 in l3"
   ]
  },
  {
   "cell_type": "markdown",
   "id": "66d4997b-8347-4b61-8341-cee5f9f12ba5",
   "metadata": {},
   "source": [
    "**Enumerate**"
   ]
  },
  {
   "cell_type": "code",
   "execution_count": 55,
   "id": "223092cb-24b0-4624-a097-630eae9309c0",
   "metadata": {},
   "outputs": [
    {
     "data": {
      "text/plain": [
       "['a', 'b', 4, 5, 6, 45, 30, 20, 15, 10, 2.3, 'nit']"
      ]
     },
     "execution_count": 55,
     "metadata": {},
     "output_type": "execute_result"
    }
   ],
   "source": [
    "l3"
   ]
  },
  {
   "cell_type": "code",
   "execution_count": 57,
   "id": "a37c5d5a-829f-4696-b8aa-afcafa7cc431",
   "metadata": {},
   "outputs": [
    {
     "name": "stdout",
     "output_type": "stream",
     "text": [
      "a\n",
      "b\n",
      "4\n",
      "5\n",
      "6\n",
      "45\n",
      "30\n",
      "20\n",
      "15\n",
      "10\n",
      "2.3\n",
      "nit\n"
     ]
    }
   ],
   "source": [
    "for i in l3:\n",
    "    print(i)"
   ]
  },
  {
   "cell_type": "code",
   "execution_count": 59,
   "id": "24635ab3-d198-429a-a2e1-f49b1b520a84",
   "metadata": {},
   "outputs": [
    {
     "name": "stdout",
     "output_type": "stream",
     "text": [
      "(0, 'a')\n",
      "(1, 'b')\n",
      "(2, 4)\n",
      "(3, 5)\n",
      "(4, 6)\n",
      "(5, 45)\n",
      "(6, 30)\n",
      "(7, 20)\n",
      "(8, 15)\n",
      "(9, 10)\n",
      "(10, 2.3)\n",
      "(11, 'nit')\n"
     ]
    }
   ],
   "source": [
    "for i in enumerate(l3):    # displays the elements of list along with their index value\n",
    "    print(i)"
   ]
  },
  {
   "cell_type": "code",
   "execution_count": 61,
   "id": "d1393024-fe66-4087-a1ad-bb5d1b677c31",
   "metadata": {},
   "outputs": [
    {
     "data": {
      "text/plain": [
       "['a', 'b', 4, 5, 6, 45, 30, 20, 15, 10, 2.3, 'nit']"
      ]
     },
     "execution_count": 61,
     "metadata": {},
     "output_type": "execute_result"
    }
   ],
   "source": [
    "l3"
   ]
  },
  {
   "cell_type": "code",
   "execution_count": 77,
   "id": "24eba107-4074-4bfd-841d-e5d12528052d",
   "metadata": {},
   "outputs": [
    {
     "data": {
      "text/plain": [
       "True"
      ]
     },
     "execution_count": 77,
     "metadata": {},
     "output_type": "execute_result"
    }
   ],
   "source": [
    "all(l3)  # if no zero in list true will print --> means all element should be non-zero\n",
    "# we can take it as \" is all elements in list non zero\""
   ]
  },
  {
   "cell_type": "code",
   "execution_count": 71,
   "id": "eb46aacd-a63b-4fc0-9ab8-10184b098e86",
   "metadata": {},
   "outputs": [
    {
     "data": {
      "text/plain": [
       "True"
      ]
     },
     "execution_count": 71,
     "metadata": {},
     "output_type": "execute_result"
    }
   ],
   "source": [
    "any(l3) # if any one element is non-zero then true will print but if all element are zero then false will print\n",
    "# we can take it as \" is any elements in list non zero\""
   ]
  },
  {
   "cell_type": "code",
   "execution_count": 65,
   "id": "4e6651ec-3b66-4283-b280-ca13416c4c80",
   "metadata": {},
   "outputs": [
    {
     "data": {
      "text/plain": [
       "[4, 5, 6, 0, 'a', 'b']"
      ]
     },
     "execution_count": 65,
     "metadata": {},
     "output_type": "execute_result"
    }
   ],
   "source": [
    "l4 = [4, 5, 6, 0, 'a','b']\n",
    "l4"
   ]
  },
  {
   "cell_type": "code",
   "execution_count": 67,
   "id": "cb2284e3-d7db-484d-8689-5e0edf8efbe2",
   "metadata": {},
   "outputs": [
    {
     "data": {
      "text/plain": [
       "False"
      ]
     },
     "execution_count": 67,
     "metadata": {},
     "output_type": "execute_result"
    }
   ],
   "source": [
    "all(l4)"
   ]
  },
  {
   "cell_type": "code",
   "execution_count": 73,
   "id": "4e34481c-e783-4594-8b3e-9b34240a2ffe",
   "metadata": {},
   "outputs": [
    {
     "data": {
      "text/plain": [
       "False"
      ]
     },
     "execution_count": 73,
     "metadata": {},
     "output_type": "execute_result"
    }
   ],
   "source": [
    "l5 = [0,0,0,0,0] \n",
    "any(l5) # all element is zero so any return false as there is no non-zero element\n",
    "# we can take it as \" is any elements in list non zero\""
   ]
  },
  {
   "cell_type": "code",
   "execution_count": 75,
   "id": "3e8cc8c1-eb67-45aa-baa9-2941334f289b",
   "metadata": {},
   "outputs": [
    {
     "data": {
      "text/plain": [
       "False"
      ]
     },
     "execution_count": 75,
     "metadata": {},
     "output_type": "execute_result"
    }
   ],
   "source": [
    "all(l5) # all elements are zero so all are not non-zero. thus false will print\n",
    "# we can take it as \" is all elements in list non zero\""
   ]
  },
  {
   "cell_type": "code",
   "execution_count": null,
   "id": "578b01a5-b72f-43ae-9217-ff63e0ea49b1",
   "metadata": {},
   "outputs": [],
   "source": []
  },
  {
   "cell_type": "markdown",
   "id": "374cb339-ec89-49a0-9799-f79095695a08",
   "metadata": {},
   "source": [
    "# list data structure is completed"
   ]
  },
  {
   "cell_type": "markdown",
   "id": "6dc08f52-4bcc-4a54-a9c1-529ef7842b32",
   "metadata": {},
   "source": [
    "# 6 March class 12"
   ]
  },
  {
   "cell_type": "markdown",
   "id": "0e28a645-f206-4d43-96a4-8093dcd607dd",
   "metadata": {},
   "source": [
    "**topic --->tuple()**"
   ]
  },
  {
   "cell_type": "raw",
   "id": "266eb0a5-0c32-40c3-ab4c-bbfce9edaac9",
   "metadata": {},
   "source": [
    "        -> Iterating over the elements of a tuple is faster compared to iterating over a list.\n",
    "        -> they are immutable and defined with parenthesis ()\n",
    "        -> allows duplicate elements\n",
    "        -> slicing & indexing is allowed\n",
    "        -> functions available:-\n",
    "                count, index"
   ]
  },
  {
   "cell_type": "code",
   "execution_count": 2,
   "id": "3f6a1f66-78d3-4883-82aa-2216f96109f5",
   "metadata": {},
   "outputs": [
    {
     "data": {
      "text/plain": [
       "()"
      ]
     },
     "execution_count": 2,
     "metadata": {},
     "output_type": "execute_result"
    }
   ],
   "source": [
    "t = () # define empty tuple\n",
    "t"
   ]
  },
  {
   "cell_type": "code",
   "execution_count": 4,
   "id": "a584b313-6633-4b02-9649-6595dc14e9c2",
   "metadata": {},
   "outputs": [
    {
     "name": "stdout",
     "output_type": "stream",
     "text": [
      "<class 'tuple'>\n"
     ]
    }
   ],
   "source": [
    "print(type(t))"
   ]
  },
  {
   "cell_type": "code",
   "execution_count": 6,
   "id": "dc6e5ce4-9be5-4983-bd34-6b8109237fa6",
   "metadata": {},
   "outputs": [
    {
     "data": {
      "text/plain": [
       "(10, 20, 30, 40, 40)"
      ]
     },
     "execution_count": 6,
     "metadata": {},
     "output_type": "execute_result"
    }
   ],
   "source": [
    "t1 = (10,20,30,40,40)\n",
    "t1"
   ]
  },
  {
   "cell_type": "code",
   "execution_count": 8,
   "id": "342a12f2-529d-414e-827c-49538269811c",
   "metadata": {},
   "outputs": [
    {
     "data": {
      "text/plain": [
       "5"
      ]
     },
     "execution_count": 8,
     "metadata": {},
     "output_type": "execute_result"
    }
   ],
   "source": [
    "len(t1)"
   ]
  },
  {
   "cell_type": "code",
   "execution_count": 10,
   "id": "ebd8e74b-810d-4373-9ba0-ac2feaae4569",
   "metadata": {},
   "outputs": [
    {
     "data": {
      "text/plain": [
       "1"
      ]
     },
     "execution_count": 10,
     "metadata": {},
     "output_type": "execute_result"
    }
   ],
   "source": [
    "t1.count(10) # counts the number of occurence of given element"
   ]
  },
  {
   "cell_type": "markdown",
   "id": "04438a05-815a-400b-8a5f-552231586299",
   "metadata": {},
   "source": [
    "**tuple indexing**"
   ]
  },
  {
   "cell_type": "code",
   "execution_count": 12,
   "id": "4e74a39e-638d-4049-83ff-19f76a3e89ac",
   "metadata": {},
   "outputs": [
    {
     "data": {
      "text/plain": [
       "1"
      ]
     },
     "execution_count": 12,
     "metadata": {},
     "output_type": "execute_result"
    }
   ],
   "source": [
    "t1.index(20) # return the index of first occurance pf given element"
   ]
  },
  {
   "cell_type": "code",
   "execution_count": 16,
   "id": "33eef323-137f-499b-aacc-744f69f17d1d",
   "metadata": {},
   "outputs": [
    {
     "data": {
      "text/plain": [
       "3"
      ]
     },
     "execution_count": 16,
     "metadata": {},
     "output_type": "execute_result"
    }
   ],
   "source": [
    "t1.index(40)"
   ]
  },
  {
   "cell_type": "code",
   "execution_count": 18,
   "id": "323ae88e-1b56-43e8-b573-992b98b823be",
   "metadata": {},
   "outputs": [
    {
     "data": {
      "text/plain": [
       "(100, 3.4, 'nit', True, (1+2j), [1, 2, 30], (2, 3, 4.5, False))"
      ]
     },
     "execution_count": 18,
     "metadata": {},
     "output_type": "execute_result"
    }
   ],
   "source": [
    "t2 = (100, 3.4, 'nit', True, 1+2j,[1,2,30],(2,3,4.5,False))\n",
    "t2"
   ]
  },
  {
   "cell_type": "code",
   "execution_count": 20,
   "id": "993f9aaf-eb6c-45fe-b6ae-c8ed5bea4691",
   "metadata": {},
   "outputs": [
    {
     "name": "stdout",
     "output_type": "stream",
     "text": [
      "()\n",
      "(10, 20, 30, 40, 40)\n",
      "(100, 3.4, 'nit', True, (1+2j), [1, 2, 30], (2, 3, 4.5, False))\n"
     ]
    }
   ],
   "source": [
    "print(t)\n",
    "print(t1)\n",
    "print(t2)"
   ]
  },
  {
   "cell_type": "code",
   "execution_count": 22,
   "id": "f86ac75a-a277-4ba1-87c8-863ea4f78ada",
   "metadata": {},
   "outputs": [
    {
     "ename": "TypeError",
     "evalue": "'tuple' object does not support item assignment",
     "output_type": "error",
     "traceback": [
      "\u001b[1;31m---------------------------------------------------------------------------\u001b[0m",
      "\u001b[1;31mTypeError\u001b[0m                                 Traceback (most recent call last)",
      "Cell \u001b[1;32mIn[22], line 1\u001b[0m\n\u001b[1;32m----> 1\u001b[0m t2[\u001b[38;5;241m2\u001b[39m] \u001b[38;5;241m=\u001b[39m \u001b[38;5;241m30\u001b[39m\n",
      "\u001b[1;31mTypeError\u001b[0m: 'tuple' object does not support item assignment"
     ]
    }
   ],
   "source": [
    "t2[2] = 30 # tuple is immutable hence item assignment is not possible in already defined tuple"
   ]
  },
  {
   "cell_type": "markdown",
   "id": "84cd3fbd-41db-417a-92ca-579af094e2d7",
   "metadata": {},
   "source": [
    "**slicing in tuple**"
   ]
  },
  {
   "cell_type": "code",
   "execution_count": 25,
   "id": "a5d568ba-bbcb-4b29-b65c-edb0579617d3",
   "metadata": {},
   "outputs": [
    {
     "data": {
      "text/plain": [
       "(100, 3.4, 'nit')"
      ]
     },
     "execution_count": 25,
     "metadata": {},
     "output_type": "execute_result"
    }
   ],
   "source": [
    "t2[0:3] # slicing is allowed"
   ]
  },
  {
   "cell_type": "code",
   "execution_count": 49,
   "id": "a42d295b-4389-499b-8d73-5fc0aeb7b575",
   "metadata": {},
   "outputs": [
    {
     "data": {
      "text/plain": [
       "(10, 20, 30, 40, 40, 10, 20, 30, 40, 40, 10, 20, 30, 40, 40)"
      ]
     },
     "execution_count": 49,
     "metadata": {},
     "output_type": "execute_result"
    }
   ],
   "source": [
    "t4 = t1 *3 \n",
    "# similar to strings,\n",
    "#as tuple is immutable it will never multiply elements in the tuple \n",
    "#it will just repeat the tuple that many time \n",
    "t4"
   ]
  },
  {
   "cell_type": "code",
   "execution_count": 29,
   "id": "f17b8d06-3b64-446c-83d1-252c9bf949ea",
   "metadata": {},
   "outputs": [
    {
     "data": {
      "text/plain": [
       "(10, 20, 30, 40, 40, 10)"
      ]
     },
     "execution_count": 29,
     "metadata": {},
     "output_type": "execute_result"
    }
   ],
   "source": [
    "t4[0:6]"
   ]
  },
  {
   "cell_type": "code",
   "execution_count": 31,
   "id": "7af8a398-d0a6-4ed2-915c-62b402a5648d",
   "metadata": {},
   "outputs": [
    {
     "data": {
      "text/plain": [
       "(30, 40, 40, 10, 20, 30, 40, 40, 10, 20, 30, 40, 40)"
      ]
     },
     "execution_count": 31,
     "metadata": {},
     "output_type": "execute_result"
    }
   ],
   "source": [
    "t4[2:]"
   ]
  },
  {
   "cell_type": "code",
   "execution_count": 33,
   "id": "1f93b57d-8330-408f-8ca4-425571b0c121",
   "metadata": {},
   "outputs": [
    {
     "data": {
      "text/plain": [
       "(10, 20, 30, 40, 40, 10, 20, 30, 40, 40, 10, 20, 30, 40, 40)"
      ]
     },
     "execution_count": 33,
     "metadata": {},
     "output_type": "execute_result"
    }
   ],
   "source": [
    "t4"
   ]
  },
  {
   "cell_type": "code",
   "execution_count": 35,
   "id": "60905c5d-7cba-46b1-b5c0-61b5b07d7c70",
   "metadata": {},
   "outputs": [
    {
     "data": {
      "text/plain": [
       "(10, 40, 20, 40)"
      ]
     },
     "execution_count": 35,
     "metadata": {},
     "output_type": "execute_result"
    }
   ],
   "source": [
    "t4[0:10:3] #start form 0 index and till 10 - 1 = 9 index print every 3rd number"
   ]
  },
  {
   "cell_type": "markdown",
   "id": "4f5a3a5a-db76-4a65-9f42-b66b97c680a4",
   "metadata": {},
   "source": [
    "**Remove & change items in tuples**"
   ]
  },
  {
   "cell_type": "code",
   "execution_count": 37,
   "id": "fbb68b58-bb79-4db0-b255-85c252ab4fd3",
   "metadata": {
    "jupyter": {
     "source_hidden": true
    }
   },
   "outputs": [
    {
     "ename": "AttributeError",
     "evalue": "'tuple' object has no attribute 'remove'",
     "output_type": "error",
     "traceback": [
      "\u001b[1;31m---------------------------------------------------------------------------\u001b[0m",
      "\u001b[1;31mAttributeError\u001b[0m                            Traceback (most recent call last)",
      "Cell \u001b[1;32mIn[37], line 1\u001b[0m\n\u001b[1;32m----> 1\u001b[0m t4\u001b[38;5;241m.\u001b[39mremove(\u001b[38;5;241m30\u001b[39m)\n",
      "\u001b[1;31mAttributeError\u001b[0m: 'tuple' object has no attribute 'remove'"
     ]
    }
   ],
   "source": [
    "t4.remove(30)"
   ]
  },
  {
   "cell_type": "code",
   "execution_count": 130,
   "id": "2efcdce3-eccd-4d3a-888f-55ca63b9294e",
   "metadata": {},
   "outputs": [
    {
     "name": "stdout",
     "output_type": "stream",
     "text": [
      "10\n",
      "20\n",
      "30\n",
      "40\n",
      "40\n",
      "10\n",
      "20\n",
      "30\n",
      "40\n",
      "40\n",
      "10\n",
      "20\n",
      "30\n",
      "40\n",
      "40\n"
     ]
    }
   ],
   "source": [
    "for i in t4:\n",
    "    print(i)"
   ]
  },
  {
   "cell_type": "code",
   "execution_count": 134,
   "id": "39ce46c4-33ab-45ad-b8f9-000d4108a990",
   "metadata": {},
   "outputs": [
    {
     "name": "stdout",
     "output_type": "stream",
     "text": [
      "(0, 10)\n",
      "(1, 20)\n",
      "(2, 30)\n",
      "(3, 40)\n",
      "(4, 40)\n",
      "(5, 10)\n",
      "(6, 20)\n",
      "(7, 30)\n",
      "(8, 40)\n",
      "(9, 40)\n",
      "(10, 10)\n",
      "(11, 20)\n",
      "(12, 30)\n",
      "(13, 40)\n",
      "(14, 40)\n"
     ]
    }
   ],
   "source": [
    "for i in enumerate(t4):\n",
    "    print(i)"
   ]
  },
  {
   "cell_type": "code",
   "execution_count": 51,
   "id": "25cc633b-7e25-456d-bd61-ca9f2c97066f",
   "metadata": {},
   "outputs": [
    {
     "data": {
      "text/plain": [
       "tuple"
      ]
     },
     "execution_count": 51,
     "metadata": {},
     "output_type": "execute_result"
    }
   ],
   "source": [
    "type(t4)"
   ]
  },
  {
   "cell_type": "code",
   "execution_count": 53,
   "id": "5e1dec28-6f80-4ccf-b447-1dc1f5005f2b",
   "metadata": {},
   "outputs": [
    {
     "ename": "NameError",
     "evalue": "name 't4' is not defined",
     "output_type": "error",
     "traceback": [
      "\u001b[1;31m---------------------------------------------------------------------------\u001b[0m",
      "\u001b[1;31mNameError\u001b[0m                                 Traceback (most recent call last)",
      "Cell \u001b[1;32mIn[53], line 2\u001b[0m\n\u001b[0;32m      1\u001b[0m \u001b[38;5;28;01mdel\u001b[39;00m t4\n\u001b[1;32m----> 2\u001b[0m t4\n",
      "\u001b[1;31mNameError\u001b[0m: name 't4' is not defined"
     ]
    }
   ],
   "source": [
    "del t4\n",
    "t4\n",
    "# deleting the whole tuple is possible \n",
    "# but can't add an item/ change an item or delete an item in the tuple"
   ]
  },
  {
   "cell_type": "markdown",
   "id": "4f1d5cb3-8255-45ce-9013-cff7ca922247",
   "metadata": {},
   "source": [
    "**tuple membership**"
   ]
  },
  {
   "cell_type": "raw",
   "id": "ea67c2a5-ee36-4d41-9080-aec75999bed6",
   "metadata": {},
   "source": [
    "always remeber for any membership we have two keywords\n",
    "                1. in\n",
    "                2. not in"
   ]
  },
  {
   "cell_type": "code",
   "execution_count": 342,
   "id": "e430fa70-48dd-4ad2-aadc-291004d8393a",
   "metadata": {},
   "outputs": [
    {
     "data": {
      "text/plain": [
       "(100, 3.4, 'nit', True, (1+2j), [1, 2, 30], (2, 3, 4.5, False))"
      ]
     },
     "execution_count": 342,
     "metadata": {},
     "output_type": "execute_result"
    }
   ],
   "source": [
    "t2"
   ]
  },
  {
   "cell_type": "code",
   "execution_count": 344,
   "id": "53ae958d-5129-47c7-b4c5-98ce413bb127",
   "metadata": {},
   "outputs": [
    {
     "data": {
      "text/plain": [
       "True"
      ]
     },
     "execution_count": 344,
     "metadata": {},
     "output_type": "execute_result"
    }
   ],
   "source": [
    "3.4 in t2"
   ]
  },
  {
   "cell_type": "code",
   "execution_count": 346,
   "id": "43162e14-6c1b-48a4-b60a-82ee4f37bb3f",
   "metadata": {},
   "outputs": [
    {
     "data": {
      "text/plain": [
       "False"
      ]
     },
     "execution_count": 346,
     "metadata": {},
     "output_type": "execute_result"
    }
   ],
   "source": [
    "1 + 2j not in t2"
   ]
  },
  {
   "cell_type": "code",
   "execution_count": 60,
   "id": "fc67e1bd-e3c6-422a-b824-db35ad4aa1ca",
   "metadata": {},
   "outputs": [
    {
     "data": {
      "text/plain": [
       "True"
      ]
     },
     "execution_count": 60,
     "metadata": {},
     "output_type": "execute_result"
    }
   ],
   "source": [
    "[1,2,30] in t2"
   ]
  },
  {
   "cell_type": "markdown",
   "id": "e97c5f4b-9ab6-4758-9298-6cace13204f1",
   "metadata": {},
   "source": [
    "**index position**"
   ]
  },
  {
   "cell_type": "code",
   "execution_count": 63,
   "id": "b4d0eddb-1c8a-4fa2-92db-73c5f3ff945b",
   "metadata": {},
   "outputs": [
    {
     "data": {
      "text/plain": [
       "4"
      ]
     },
     "execution_count": 63,
     "metadata": {},
     "output_type": "execute_result"
    }
   ],
   "source": [
    "t2.index(1+2j)"
   ]
  },
  {
   "cell_type": "markdown",
   "id": "cef103bc-621b-4bb8-bdb7-b5bb1a40ac99",
   "metadata": {},
   "source": [
    "**sorting**"
   ]
  },
  {
   "cell_type": "code",
   "execution_count": 66,
   "id": "0f66c51f-efa2-4383-9b43-44790c67877c",
   "metadata": {},
   "outputs": [
    {
     "data": {
      "text/plain": [
       "(54, 56, 2, 8, 5, 86, 5, 95, 54, 552, 5)"
      ]
     },
     "execution_count": 66,
     "metadata": {},
     "output_type": "execute_result"
    }
   ],
   "source": [
    "t =(54,56,2,8,5,86,5,95,54,552,5)\n",
    "t"
   ]
  },
  {
   "cell_type": "code",
   "execution_count": 303,
   "id": "e0d25885-68b0-4074-84fa-1ef4ea2fd3c1",
   "metadata": {},
   "outputs": [
    {
     "data": {
      "text/plain": [
       "2"
      ]
     },
     "execution_count": 303,
     "metadata": {},
     "output_type": "execute_result"
    }
   ],
   "source": [
    "t.count(54)"
   ]
  },
  {
   "cell_type": "code",
   "execution_count": 68,
   "id": "76819a42-d8a3-448d-bcc7-e6aaa1637862",
   "metadata": {},
   "outputs": [
    {
     "data": {
      "text/plain": [
       "tuple"
      ]
     },
     "execution_count": 68,
     "metadata": {},
     "output_type": "execute_result"
    }
   ],
   "source": [
    "type(t)"
   ]
  },
  {
   "cell_type": "code",
   "execution_count": 72,
   "id": "0fae4dc1-7e3f-44ea-aaea-3e238c52ae4c",
   "metadata": {},
   "outputs": [
    {
     "data": {
      "text/plain": [
       "[2, 5, 5, 5, 8, 54, 54, 56, 86, 95, 552]"
      ]
     },
     "execution_count": 72,
     "metadata": {},
     "output_type": "execute_result"
    }
   ],
   "source": [
    "sorted(t) # arrange in ascending order"
   ]
  },
  {
   "cell_type": "code",
   "execution_count": 78,
   "id": "93a4ba76-0c40-4a9e-b4df-fc35b5925f0e",
   "metadata": {},
   "outputs": [
    {
     "data": {
      "text/plain": [
       "[552, 95, 86, 56, 54, 54, 8, 5, 5, 5, 2]"
      ]
     },
     "execution_count": 78,
     "metadata": {},
     "output_type": "execute_result"
    }
   ],
   "source": [
    "sorted(t, reverse = True) # arrange in descending order"
   ]
  },
  {
   "cell_type": "markdown",
   "id": "d105a8db-bda4-4bb9-b0a9-d8db73241b77",
   "metadata": {},
   "source": [
    "# tuple is completed"
   ]
  },
  {
   "cell_type": "code",
   "execution_count": null,
   "id": "ba113389-f272-4300-9cba-8723ba7bc7a1",
   "metadata": {},
   "outputs": [],
   "source": []
  },
  {
   "cell_type": "markdown",
   "id": "72a1d82c-ffde-4418-b493-1c8dd976fa94",
   "metadata": {},
   "source": [
    "# 7 March class 13"
   ]
  },
  {
   "cell_type": "raw",
   "id": "a87aba56-fc60-481d-9854-5d2c9a8af4ff",
   "metadata": {},
   "source": [
    "topic ---> set{}\n",
    "            -> defined with curly braces {} --> dict \n",
    "            -> duplication is not allowed\n",
    "            -> always gives an sorted output if all elements are of same data type.\n",
    "            -> Unordered & Unindexed collection of items. indexing and slicing is not allowed\n",
    "            ->  Set elements are immutable (cannot be changed). \n",
    "            -> but Set itself is mutable. We can add or remove items from it. \n",
    "            -> functions:-\n",
    "                    add() -> add an item to set\n",
    "                    update(,) -> add multiple item t a set\n",
    "                    remove() -> remove an item in set\n",
    "                    discard() -> remove an item in set but if the item to be removed in not present it doesn't give an error but remove() gives and error.\n",
    "                    clear() -> to delete all items in a set\n",
    "                    del -> to delete the set object\n",
    "                    copy() -> to copy a set\n",
    "                    \n",
    "                    "
   ]
  },
  {
   "cell_type": "code",
   "execution_count": 198,
   "id": "50a152dd-9430-4de8-a45f-16977e10132f",
   "metadata": {},
   "outputs": [
    {
     "data": {
      "text/plain": [
       "{}"
      ]
     },
     "execution_count": 198,
     "metadata": {},
     "output_type": "execute_result"
    }
   ],
   "source": [
    "s = {} # define empty set\n",
    "s "
   ]
  },
  {
   "cell_type": "code",
   "execution_count": 200,
   "id": "52fbf99d-24e1-40ab-b223-b0270d5fcec6",
   "metadata": {},
   "outputs": [
    {
     "data": {
      "text/plain": [
       "dict"
      ]
     },
     "execution_count": 200,
     "metadata": {},
     "output_type": "execute_result"
    }
   ],
   "source": [
    "type(s) # by default an empty set is also a dict"
   ]
  },
  {
   "cell_type": "code",
   "execution_count": 202,
   "id": "be1ac83d-db9b-4600-9de3-2b2086d59caf",
   "metadata": {},
   "outputs": [
    {
     "data": {
      "text/plain": [
       "set"
      ]
     },
     "execution_count": 202,
     "metadata": {},
     "output_type": "execute_result"
    }
   ],
   "source": [
    "s1 = set() #to define an empty set\n",
    "type(s1)\n",
    "# likewise we can define empty list and tuple by writting list()  and tuple() respectively"
   ]
  },
  {
   "cell_type": "code",
   "execution_count": 204,
   "id": "8ab59165-945f-49e2-a4bd-19c59ccf2839",
   "metadata": {},
   "outputs": [
    {
     "data": {
      "text/plain": [
       "{3, 20, 45, 100}"
      ]
     },
     "execution_count": 204,
     "metadata": {},
     "output_type": "execute_result"
    }
   ],
   "source": [
    "s2 = {20,100,3,45} # set always gives an sorted output if all elements are of same data type.\n",
    "s2"
   ]
  },
  {
   "cell_type": "code",
   "execution_count": 206,
   "id": "3e94ce9b-1472-414f-a968-1635b7ebf730",
   "metadata": {},
   "outputs": [
    {
     "data": {
      "text/plain": [
       "{'a', 'c', 'e', 'f', 'r'}"
      ]
     },
     "execution_count": 206,
     "metadata": {},
     "output_type": "execute_result"
    }
   ],
   "source": [
    "s3 = {'a','f','e','c','r'}\n",
    "s3"
   ]
  },
  {
   "cell_type": "code",
   "execution_count": 208,
   "id": "fc223a3d-bdac-4fc7-af05-0c118a74c5b3",
   "metadata": {},
   "outputs": [
    {
     "ename": "TypeError",
     "evalue": "unhashable type: 'list'",
     "output_type": "error",
     "traceback": [
      "\u001b[1;31m---------------------------------------------------------------------------\u001b[0m",
      "\u001b[1;31mTypeError\u001b[0m                                 Traceback (most recent call last)",
      "Cell \u001b[1;32mIn[208], line 1\u001b[0m\n\u001b[1;32m----> 1\u001b[0m s4 \u001b[38;5;241m=\u001b[39m {\u001b[38;5;241m1\u001b[39m, \u001b[38;5;241m2.3\u001b[39m, \u001b[38;5;124m'\u001b[39m\u001b[38;5;124mnit\u001b[39m\u001b[38;5;124m'\u001b[39m, \u001b[38;5;241m1\u001b[39m\u001b[38;5;241m+\u001b[39m\u001b[38;5;241m2\u001b[39mj, [\u001b[38;5;241m1\u001b[39m,\u001b[38;5;241m2\u001b[39m,\u001b[38;5;241m3\u001b[39m], (\u001b[38;5;241m4\u001b[39m,\u001b[38;5;241m5\u001b[39m,\u001b[38;5;241m6\u001b[39m), \u001b[38;5;28;01mTrue\u001b[39;00m} \u001b[38;5;66;03m# mix data type elements\u001b[39;00m\n\u001b[0;32m      2\u001b[0m s4\n",
      "\u001b[1;31mTypeError\u001b[0m: unhashable type: 'list'"
     ]
    }
   ],
   "source": [
    "s4 = {1, 2.3, 'nit', 1+2j, [1,2,3], (4,5,6), True} # mix data type elements\n",
    "s4\n",
    "# gave error because one element in set is mutable\n",
    "# and that one element is list. so set doesn't allow mutable items like list"
   ]
  },
  {
   "cell_type": "code",
   "execution_count": 210,
   "id": "92ddaa9d-d922-4341-8b66-cd8e849ed3f4",
   "metadata": {},
   "outputs": [
    {
     "data": {
      "text/plain": [
       "{(1+2j), 2, 3.4, False, 'nit'}"
      ]
     },
     "execution_count": 210,
     "metadata": {},
     "output_type": "execute_result"
    }
   ],
   "source": [
    "s5 = {2,3.4,1+2j,False,'nit'}\n",
    "s5"
   ]
  },
  {
   "cell_type": "code",
   "execution_count": 212,
   "id": "7e37987e-26df-438a-b018-a13d2b8b5d13",
   "metadata": {},
   "outputs": [
    {
     "name": "stdout",
     "output_type": "stream",
     "text": [
      "set()\n",
      "{45, 3, 100, 20}\n",
      "{'r', 'c', 'f', 'a', 'e'}\n",
      "{False, 2, 3.4, (1+2j), 'nit'}\n"
     ]
    }
   ],
   "source": [
    "print(s1)\n",
    "print(s2)\n",
    "print(s3)\n",
    "print(s5)"
   ]
  },
  {
   "cell_type": "code",
   "execution_count": 214,
   "id": "db51312e-c192-4707-86d4-d0af73e07725",
   "metadata": {},
   "outputs": [
    {
     "data": {
      "text/plain": [
       "{3, 20, 30, 45, 100}"
      ]
     },
     "execution_count": 214,
     "metadata": {},
     "output_type": "execute_result"
    }
   ],
   "source": [
    "s2.add(30) # add will add element randomly based on the location \n",
    "s2"
   ]
  },
  {
   "cell_type": "code",
   "execution_count": 216,
   "id": "5a9fb4c8-150a-4823-baf6-b29dc488f08b",
   "metadata": {},
   "outputs": [
    {
     "data": {
      "text/plain": [
       "{3, 20, 30, 45, 100, 200}"
      ]
     },
     "execution_count": 216,
     "metadata": {},
     "output_type": "execute_result"
    }
   ],
   "source": [
    "s2.add(200)\n",
    "s2"
   ]
  },
  {
   "cell_type": "code",
   "execution_count": 218,
   "id": "c341f5f3-06c3-4a31-856d-6393d432208e",
   "metadata": {},
   "outputs": [
    {
     "ename": "TypeError",
     "evalue": "'set' object is not subscriptable",
     "output_type": "error",
     "traceback": [
      "\u001b[1;31m---------------------------------------------------------------------------\u001b[0m",
      "\u001b[1;31mTypeError\u001b[0m                                 Traceback (most recent call last)",
      "Cell \u001b[1;32mIn[218], line 1\u001b[0m\n\u001b[1;32m----> 1\u001b[0m s2[:]\n",
      "\u001b[1;31mTypeError\u001b[0m: 'set' object is not subscriptable"
     ]
    }
   ],
   "source": [
    "s2[:] # in set indexing and slicing is not allowed"
   ]
  },
  {
   "cell_type": "code",
   "execution_count": 220,
   "id": "7b2364d3-2c31-492e-98ff-dd9f7908d6eb",
   "metadata": {},
   "outputs": [
    {
     "ename": "TypeError",
     "evalue": "'set' object is not subscriptable",
     "output_type": "error",
     "traceback": [
      "\u001b[1;31m---------------------------------------------------------------------------\u001b[0m",
      "\u001b[1;31mTypeError\u001b[0m                                 Traceback (most recent call last)",
      "Cell \u001b[1;32mIn[220], line 1\u001b[0m\n\u001b[1;32m----> 1\u001b[0m s2[\u001b[38;5;241m1\u001b[39m:\u001b[38;5;241m5\u001b[39m]\n",
      "\u001b[1;31mTypeError\u001b[0m: 'set' object is not subscriptable"
     ]
    }
   ],
   "source": [
    "s2[1:5]"
   ]
  },
  {
   "cell_type": "code",
   "execution_count": 222,
   "id": "63c4a08c-a897-49e8-8b17-7b9e2ae72fd3",
   "metadata": {},
   "outputs": [
    {
     "data": {
      "text/plain": [
       "{(1+2j), 2, 3.4, False, 'nit'}"
      ]
     },
     "execution_count": 222,
     "metadata": {},
     "output_type": "execute_result"
    }
   ],
   "source": [
    "s5"
   ]
  },
  {
   "cell_type": "code",
   "execution_count": 224,
   "id": "09ea9306-0898-4c14-a7d8-039e75ec6c7b",
   "metadata": {},
   "outputs": [
    {
     "data": {
      "text/plain": [
       "{(1+2j), 2, 3.4, False, 'nit'}"
      ]
     },
     "execution_count": 224,
     "metadata": {},
     "output_type": "execute_result"
    }
   ],
   "source": [
    "s4 = s5.copy()\n",
    "s4"
   ]
  },
  {
   "cell_type": "code",
   "execution_count": 226,
   "id": "19e36fb7-7ab5-4232-acf5-ad1e3583dcd4",
   "metadata": {},
   "outputs": [
    {
     "data": {
      "text/plain": [
       "{(1+2j), 2, 3.4, False, 'nit'}"
      ]
     },
     "execution_count": 226,
     "metadata": {},
     "output_type": "execute_result"
    }
   ],
   "source": [
    "s4.add(2) # duplication in set is not allowed. Here 2 is already in the s4 set.\n",
    "s4"
   ]
  },
  {
   "cell_type": "code",
   "execution_count": 228,
   "id": "dfbcabb1-3bef-48d8-9ae2-035678261e76",
   "metadata": {},
   "outputs": [
    {
     "data": {
      "text/plain": [
       "set()"
      ]
     },
     "execution_count": 228,
     "metadata": {},
     "output_type": "execute_result"
    }
   ],
   "source": [
    "s5.clear() # empty all element from the set s5\n",
    "s5"
   ]
  },
  {
   "cell_type": "code",
   "execution_count": 230,
   "id": "3d3cd9bb-fbe5-4199-8f63-93b40b7bcfb4",
   "metadata": {},
   "outputs": [
    {
     "data": {
      "text/plain": [
       "{2, 3.4, False, 'nit'}"
      ]
     },
     "execution_count": 230,
     "metadata": {},
     "output_type": "execute_result"
    }
   ],
   "source": [
    "s4.remove(1+2j)\n",
    "s4"
   ]
  },
  {
   "cell_type": "code",
   "execution_count": 232,
   "id": "d5282b54-9629-4d17-a79c-6ca93b28a500",
   "metadata": {},
   "outputs": [
    {
     "ename": "NameError",
     "evalue": "name 'Flase' is not defined",
     "output_type": "error",
     "traceback": [
      "\u001b[1;31m---------------------------------------------------------------------------\u001b[0m",
      "\u001b[1;31mNameError\u001b[0m                                 Traceback (most recent call last)",
      "Cell \u001b[1;32mIn[232], line 1\u001b[0m\n\u001b[1;32m----> 1\u001b[0m s4\u001b[38;5;241m.\u001b[39mremove(Flase,\u001b[38;5;124m'\u001b[39m\u001b[38;5;124mnit\u001b[39m\u001b[38;5;124m'\u001b[39m)\n",
      "\u001b[1;31mNameError\u001b[0m: name 'Flase' is not defined"
     ]
    }
   ],
   "source": [
    "s4.remove(Flase,'nit') # remove always accepts 1 argument"
   ]
  },
  {
   "cell_type": "code",
   "execution_count": 234,
   "id": "fdcba2d3-a882-48c2-94d8-ed5c9beb0535",
   "metadata": {},
   "outputs": [],
   "source": [
    "s3.discard('m') \n",
    "# m is not an element in set s3 but discard will not give any error if m is not present"
   ]
  },
  {
   "cell_type": "code",
   "execution_count": 236,
   "id": "c689e059-7248-4696-a558-9a0585c2d168",
   "metadata": {},
   "outputs": [
    {
     "ename": "KeyError",
     "evalue": "'m'",
     "output_type": "error",
     "traceback": [
      "\u001b[1;31m---------------------------------------------------------------------------\u001b[0m",
      "\u001b[1;31mKeyError\u001b[0m                                  Traceback (most recent call last)",
      "Cell \u001b[1;32mIn[236], line 1\u001b[0m\n\u001b[1;32m----> 1\u001b[0m s3\u001b[38;5;241m.\u001b[39mremove(\u001b[38;5;124m'\u001b[39m\u001b[38;5;124mm\u001b[39m\u001b[38;5;124m'\u001b[39m)\n",
      "\u001b[1;31mKeyError\u001b[0m: 'm'"
     ]
    }
   ],
   "source": [
    "s3.remove('m') # but remove returns error as  m is not present in s3 set \n",
    "# both remove and discard is for removing an element in the set"
   ]
  },
  {
   "cell_type": "code",
   "execution_count": 238,
   "id": "35070f6c-eb62-4643-ac93-53a115afa757",
   "metadata": {},
   "outputs": [
    {
     "data": {
      "text/plain": [
       "{'a', 'c', 'e', 'f', 'r'}"
      ]
     },
     "execution_count": 238,
     "metadata": {},
     "output_type": "execute_result"
    }
   ],
   "source": [
    "s3"
   ]
  },
  {
   "cell_type": "code",
   "execution_count": 240,
   "id": "984b9c12-35b6-4bb1-9bfb-19103b26ccca",
   "metadata": {},
   "outputs": [
    {
     "data": {
      "text/plain": [
       "'r'"
      ]
     },
     "execution_count": 240,
     "metadata": {},
     "output_type": "execute_result"
    }
   ],
   "source": [
    "s3.pop() # here pop will remove random element when index is not given in pop\n",
    "# unlike in list and tuple where it removes the last element when index is not given"
   ]
  },
  {
   "cell_type": "code",
   "execution_count": 242,
   "id": "f547f0a2-d1d9-487e-8bfc-199eb7415900",
   "metadata": {},
   "outputs": [
    {
     "data": {
      "text/plain": [
       "{'a', 'c', 'e', 'f'}"
      ]
     },
     "execution_count": 242,
     "metadata": {},
     "output_type": "execute_result"
    }
   ],
   "source": [
    "s3\n"
   ]
  },
  {
   "cell_type": "code",
   "execution_count": 244,
   "id": "691b5e7a-b934-4d30-b831-8dc4d7bfab80",
   "metadata": {},
   "outputs": [
    {
     "ename": "TypeError",
     "evalue": "set.pop() takes no arguments (1 given)",
     "output_type": "error",
     "traceback": [
      "\u001b[1;31m---------------------------------------------------------------------------\u001b[0m",
      "\u001b[1;31mTypeError\u001b[0m                                 Traceback (most recent call last)",
      "Cell \u001b[1;32mIn[244], line 1\u001b[0m\n\u001b[1;32m----> 1\u001b[0m s3\u001b[38;5;241m.\u001b[39mpop(\u001b[38;5;241m3\u001b[39m)\n",
      "\u001b[1;31mTypeError\u001b[0m: set.pop() takes no arguments (1 given)"
     ]
    }
   ],
   "source": [
    "s3.pop(3) # indexing is not allowed so here error "
   ]
  },
  {
   "cell_type": "code",
   "execution_count": 190,
   "id": "5f24be78-d0b7-43e2-af3d-4633988cb955",
   "metadata": {},
   "outputs": [
    {
     "name": "stdout",
     "output_type": "stream",
     "text": [
      "False\n",
      "2\n",
      "3.4\n",
      "nit\n"
     ]
    }
   ],
   "source": [
    "for i in s4:\n",
    "    print(i)"
   ]
  },
  {
   "cell_type": "code",
   "execution_count": 192,
   "id": "8bccfb2c-919f-4f8f-b1f3-81cf164677d8",
   "metadata": {},
   "outputs": [
    {
     "name": "stdout",
     "output_type": "stream",
     "text": [
      "(0, False)\n",
      "(1, 2)\n",
      "(2, 3.4)\n",
      "(3, 'nit')\n"
     ]
    }
   ],
   "source": [
    "for i in enumerate(s4):\n",
    "    print(i)"
   ]
  },
  {
   "cell_type": "code",
   "execution_count": 194,
   "id": "afe49489-58fb-4201-9c30-d354bce86366",
   "metadata": {},
   "outputs": [
    {
     "data": {
      "text/plain": [
       "False"
      ]
     },
     "execution_count": 194,
     "metadata": {},
     "output_type": "execute_result"
    }
   ],
   "source": [
    "5 in s2"
   ]
  },
  {
   "cell_type": "code",
   "execution_count": 196,
   "id": "f8db7e2b-7be2-45de-af52-3798cda96aa1",
   "metadata": {},
   "outputs": [
    {
     "data": {
      "text/plain": [
       "True"
      ]
     },
     "execution_count": 196,
     "metadata": {},
     "output_type": "execute_result"
    }
   ],
   "source": [
    "45 in s2"
   ]
  },
  {
   "cell_type": "code",
   "execution_count": 246,
   "id": "d55c633a-573f-4599-850e-b2606a4492a2",
   "metadata": {},
   "outputs": [
    {
     "data": {
      "text/plain": [
       "{3, 20, 30, 45, 100, 200}"
      ]
     },
     "execution_count": 246,
     "metadata": {},
     "output_type": "execute_result"
    }
   ],
   "source": [
    "s2"
   ]
  },
  {
   "cell_type": "code",
   "execution_count": 248,
   "id": "5b3f690f-a86e-4f19-bce6-c329a17a0f3f",
   "metadata": {},
   "outputs": [
    {
     "data": {
      "text/plain": [
       "{'a', 'c', 'e', 'f'}"
      ]
     },
     "execution_count": 248,
     "metadata": {},
     "output_type": "execute_result"
    }
   ],
   "source": [
    "s3"
   ]
  },
  {
   "cell_type": "code",
   "execution_count": 250,
   "id": "bb9df0fe-134b-4a90-8839-86b9476b2c4e",
   "metadata": {},
   "outputs": [
    {
     "data": {
      "text/plain": [
       "{100, 20, 200, 3, 30, 45, 'a', 'c', 'e', 'f'}"
      ]
     },
     "execution_count": 250,
     "metadata": {},
     "output_type": "execute_result"
    }
   ],
   "source": [
    "s2.update(s3) # s2 union s3 -> it extends s2 to s3\n",
    "s2"
   ]
  },
  {
   "cell_type": "markdown",
   "id": "eef40dc2-22f1-4c9e-968c-08a03abc65d6",
   "metadata": {},
   "source": [
    "**set operations**"
   ]
  },
  {
   "cell_type": "raw",
   "id": "22541640-a733-4506-a4e9-1bd6b1f3767d",
   "metadata": {},
   "source": [
    "topic -->set operations\n",
    "            union -> shows the all items present in two sets\n",
    "            intersection -> shows only the common element in two sets\n",
    "            difference -> a - b (or) a.difference b means items present in set a but not in set b\n",
    "            symmetric difference -> only displays elements uiquely present in two sets\n",
    "        -> following functions only returns true or false\n",
    "            x.issubset(y) -> when all item of x present in y then x is subset of y -> returns True\n",
    "            x.issuperset(y) -> all item of y present in x then x is super set of y -> returns True\n",
    "            disjoint -> when no item is common in two sets then they are disjoint"
   ]
  },
  {
   "cell_type": "code",
   "execution_count": 262,
   "id": "3f54cc52-01a5-4086-aed1-0267b78cecca",
   "metadata": {},
   "outputs": [],
   "source": [
    "# defining three sets\n",
    "s6 = {1,2,3,4,5}\n",
    "s7 = {4,5,6,7,8}\n",
    "s8 = {8,9,10}"
   ]
  },
  {
   "cell_type": "code",
   "execution_count": 264,
   "id": "0018dd83-a285-47ee-b184-e085544eb45c",
   "metadata": {},
   "outputs": [
    {
     "data": {
      "text/plain": [
       "{1, 2, 3, 4, 5, 6, 7, 8}"
      ]
     },
     "execution_count": 264,
     "metadata": {},
     "output_type": "execute_result"
    }
   ],
   "source": [
    "s6.union(s7) \n",
    "# here union is to show the elements presents in both set s6 and s7 with removing any duplicate elements"
   ]
  },
  {
   "cell_type": "code",
   "execution_count": 266,
   "id": "c75631b9-6fe8-4e32-8197-51a3422b7b66",
   "metadata": {},
   "outputs": [
    {
     "data": {
      "text/plain": [
       "{1, 2, 3, 4, 5, 6, 7, 8, 9, 10}"
      ]
     },
     "execution_count": 266,
     "metadata": {},
     "output_type": "execute_result"
    }
   ],
   "source": [
    "s6.union(s7,s8)"
   ]
  },
  {
   "cell_type": "code",
   "execution_count": 268,
   "id": "0b6315a2-b78d-4b31-a5b9-4428c633a6f8",
   "metadata": {},
   "outputs": [
    {
     "data": {
      "text/plain": [
       "{1, 2, 3, 4, 5, 6, 7, 8}"
      ]
     },
     "execution_count": 268,
     "metadata": {},
     "output_type": "execute_result"
    }
   ],
   "source": [
    "s6 | s7  #  pipe  sign can be used at the place of union"
   ]
  },
  {
   "cell_type": "code",
   "execution_count": 270,
   "id": "0cdf3b2b-89fc-4765-9703-b1d394127caf",
   "metadata": {},
   "outputs": [
    {
     "data": {
      "text/plain": [
       "{1, 2, 3, 4, 5, 6, 7, 8, 9, 10}"
      ]
     },
     "execution_count": 270,
     "metadata": {},
     "output_type": "execute_result"
    }
   ],
   "source": [
    "s6|s7|s8"
   ]
  },
  {
   "cell_type": "code",
   "execution_count": 214,
   "id": "f60a2c34-abe8-48de-a907-a48ead716165",
   "metadata": {},
   "outputs": [
    {
     "name": "stdout",
     "output_type": "stream",
     "text": [
      "{1, 2, 3, 4, 5}\n",
      "{4, 5, 6, 7, 8}\n",
      "{8, 9, 10}\n"
     ]
    }
   ],
   "source": [
    "print(s6)\n",
    "print(s7)\n",
    "print(s8)"
   ]
  },
  {
   "cell_type": "code",
   "execution_count": 216,
   "id": "5beb52d2-07dc-4df8-904c-5748785b9209",
   "metadata": {},
   "outputs": [
    {
     "data": {
      "text/plain": [
       "{4, 5}"
      ]
     },
     "execution_count": 216,
     "metadata": {},
     "output_type": "execute_result"
    }
   ],
   "source": [
    "s6.intersection(s7) \n",
    "# only displays common element present in s6 and s7, if no common element present then empty set will be returned"
   ]
  },
  {
   "cell_type": "code",
   "execution_count": 218,
   "id": "59bdcef3-bb4f-4802-9866-89ab8cd0f910",
   "metadata": {},
   "outputs": [
    {
     "data": {
      "text/plain": [
       "{4, 5}"
      ]
     },
     "execution_count": 218,
     "metadata": {},
     "output_type": "execute_result"
    }
   ],
   "source": [
    "s6 & s7 # & can be used at the place of intersection"
   ]
  },
  {
   "cell_type": "code",
   "execution_count": 220,
   "id": "d02b2e17-4e0a-4a60-af52-198db12bebc9",
   "metadata": {},
   "outputs": [
    {
     "name": "stdout",
     "output_type": "stream",
     "text": [
      "{1, 2, 3, 4, 5}\n",
      "{4, 5, 6, 7, 8}\n",
      "{8, 9, 10}\n"
     ]
    }
   ],
   "source": [
    "print(s6)\n",
    "print(s7)\n",
    "print(s8)"
   ]
  },
  {
   "cell_type": "code",
   "execution_count": 222,
   "id": "2d18cb1c-2fd3-4993-a006-fc2329774c38",
   "metadata": {},
   "outputs": [
    {
     "data": {
      "text/plain": [
       "{1, 2, 3}"
      ]
     },
     "execution_count": 222,
     "metadata": {},
     "output_type": "execute_result"
    }
   ],
   "source": [
    "s6.difference(s7) # displays elements present in s6 but not in s7"
   ]
  },
  {
   "cell_type": "code",
   "execution_count": 224,
   "id": "f613665e-6d82-415c-98d7-27151bf75bf8",
   "metadata": {},
   "outputs": [
    {
     "data": {
      "text/plain": [
       "{1, 2, 3}"
      ]
     },
     "execution_count": 224,
     "metadata": {},
     "output_type": "execute_result"
    }
   ],
   "source": [
    "s6 - s7 # - can be used at the place of difference"
   ]
  },
  {
   "cell_type": "code",
   "execution_count": 226,
   "id": "fd25873f-f014-401f-bc5f-f4f3887d12a9",
   "metadata": {},
   "outputs": [
    {
     "name": "stdout",
     "output_type": "stream",
     "text": [
      "{1, 2, 3, 4, 5}\n",
      "{4, 5, 6, 7, 8}\n",
      "{8, 9, 10}\n"
     ]
    }
   ],
   "source": [
    "print(s6)\n",
    "print(s7)\n",
    "print(s8)"
   ]
  },
  {
   "cell_type": "code",
   "execution_count": 228,
   "id": "766ef5c1-5694-442f-8fde-90a46237a8f2",
   "metadata": {},
   "outputs": [
    {
     "data": {
      "text/plain": [
       "{1, 2, 3, 6, 7, 8}"
      ]
     },
     "execution_count": 228,
     "metadata": {},
     "output_type": "execute_result"
    }
   ],
   "source": [
    "s6.symmetric_difference(s7) \n",
    "# it just removes the common element present in both sets and only displays elements uiquely present in both set\n"
   ]
  },
  {
   "cell_type": "code",
   "execution_count": 17,
   "id": "93c0bc36-0782-4352-a575-c185f906a1ec",
   "metadata": {},
   "outputs": [
    {
     "data": {
      "text/plain": [
       "{1, 2, 3, 6, 7, 8}"
      ]
     },
     "execution_count": 17,
     "metadata": {},
     "output_type": "execute_result"
    }
   ],
   "source": [
    "s6 ^ s7 # ^ symbol is used to find symmetric_difference"
   ]
  },
  {
   "cell_type": "code",
   "execution_count": 276,
   "id": "cc1decef-5fb3-4855-8043-7bcc0a7f7af6",
   "metadata": {},
   "outputs": [
    {
     "name": "stdout",
     "output_type": "stream",
     "text": [
      "set()\n",
      "{1, 2, 3, 4, 5}\n"
     ]
    }
   ],
   "source": [
    "print(s5)\n",
    "print(s6)"
   ]
  },
  {
   "cell_type": "code",
   "execution_count": 278,
   "id": "261d6816-3883-4cc4-9493-dfb099f7fcb2",
   "metadata": {},
   "outputs": [
    {
     "data": {
      "text/plain": [
       "True"
      ]
     },
     "execution_count": 278,
     "metadata": {},
     "output_type": "execute_result"
    }
   ],
   "source": [
    "s6.isdisjoint(s5) #s5 is empty so no common item in s5 and s6 hence true"
   ]
  },
  {
   "cell_type": "code",
   "execution_count": 280,
   "id": "127d623b-15d6-4906-b5da-fb956d9061cc",
   "metadata": {},
   "outputs": [],
   "source": [
    "s11 = {1,2,3,4,5,6,7,8,9} \n",
    "s12 = {3,4,5,6,7,8}\n",
    "s13 = {10,20,30,40}"
   ]
  },
  {
   "cell_type": "code",
   "execution_count": 286,
   "id": "9f4bc1e3-427c-4972-a2fa-7ca14f18d2a1",
   "metadata": {},
   "outputs": [
    {
     "data": {
      "text/plain": [
       "True"
      ]
     },
     "execution_count": 286,
     "metadata": {},
     "output_type": "execute_result"
    }
   ],
   "source": [
    "s13.isdisjoint(s12)"
   ]
  },
  {
   "cell_type": "code",
   "execution_count": 288,
   "id": "a7eb3501-4522-412d-8de3-ba78222c9ab6",
   "metadata": {},
   "outputs": [
    {
     "data": {
      "text/plain": [
       "False"
      ]
     },
     "execution_count": 288,
     "metadata": {},
     "output_type": "execute_result"
    }
   ],
   "source": [
    "s11.isdisjoint(s12)"
   ]
  },
  {
   "cell_type": "code",
   "execution_count": 284,
   "id": "f729fa7e-07ed-40aa-b42e-bdeb25194858",
   "metadata": {},
   "outputs": [
    {
     "data": {
      "text/plain": [
       "True"
      ]
     },
     "execution_count": 284,
     "metadata": {},
     "output_type": "execute_result"
    }
   ],
   "source": [
    "s11.issuperset(s12)"
   ]
  },
  {
   "cell_type": "code",
   "execution_count": 282,
   "id": "7efaf9c5-0fb3-4913-a88f-d271d18e0a34",
   "metadata": {},
   "outputs": [
    {
     "data": {
      "text/plain": [
       "True"
      ]
     },
     "execution_count": 282,
     "metadata": {},
     "output_type": "execute_result"
    }
   ],
   "source": [
    "s12.issubset(s11)"
   ]
  },
  {
   "cell_type": "code",
   "execution_count": 293,
   "id": "32560906-c864-422a-abbd-5b142ef288c2",
   "metadata": {},
   "outputs": [
    {
     "data": {
      "text/plain": [
       "{3, 4, 5, 6, 7, 8}"
      ]
     },
     "execution_count": 293,
     "metadata": {},
     "output_type": "execute_result"
    }
   ],
   "source": [
    "s12"
   ]
  },
  {
   "cell_type": "code",
   "execution_count": 291,
   "id": "68f62a42-492c-4e1e-b1e4-b14ec12dd41b",
   "metadata": {},
   "outputs": [
    {
     "data": {
      "text/plain": [
       "33"
      ]
     },
     "execution_count": 291,
     "metadata": {},
     "output_type": "execute_result"
    }
   ],
   "source": [
    "sum(s12) # to add all the elements of set s12"
   ]
  },
  {
   "cell_type": "code",
   "execution_count": 295,
   "id": "4601a727-c6a5-4b2f-9118-e8da20537298",
   "metadata": {},
   "outputs": [
    {
     "data": {
      "text/plain": [
       "3"
      ]
     },
     "execution_count": 295,
     "metadata": {},
     "output_type": "execute_result"
    }
   ],
   "source": [
    "min(s12) # to show minimum value in s12"
   ]
  },
  {
   "cell_type": "code",
   "execution_count": 297,
   "id": "cbe48ecc-8c71-4cf7-9baf-988dc34640f2",
   "metadata": {},
   "outputs": [
    {
     "data": {
      "text/plain": [
       "8"
      ]
     },
     "execution_count": 297,
     "metadata": {},
     "output_type": "execute_result"
    }
   ],
   "source": [
    "max(s12) # to show maximum value in s12"
   ]
  },
  {
   "cell_type": "code",
   "execution_count": null,
   "id": "99a87f92-1f1d-4076-abd4-a747e1625cfe",
   "metadata": {},
   "outputs": [],
   "source": []
  },
  {
   "cell_type": "markdown",
   "id": "92c20947-4429-4294-bd85-da0ddf975d30",
   "metadata": {},
   "source": [
    "# 10 March class 14\n",
    "**topic--> set{}** \n",
    "       "
   ]
  },
  {
   "cell_type": "raw",
   "id": "3f43fad4-fdb1-4f66-ac24-e40a4cfe7295",
   "metadata": {},
   "source": [
    "         -->superset, subset, disjoint\n",
    "    assume -> dad,    son,    neighbour\n",
    "        --> sorted()\n",
    "        --> sorted(set, reverse = True)\n",
    "        --> list(enumerate(set))\n",
    "        --> sum(set)\n",
    "        --> min(set)\n",
    "        --> max(set)\n"
   ]
  },
  {
   "cell_type": "code",
   "execution_count": 9,
   "id": "d2ec97cc-628d-4b97-8aa9-a2d32338eec2",
   "metadata": {},
   "outputs": [],
   "source": [
    "# defining three sets\n",
    "s6 = {1,2,3,4,5}\n",
    "s7 = {4,5,6,7,8}\n",
    "s8 = {8,9,10}\n"
   ]
  },
  {
   "cell_type": "code",
   "execution_count": 15,
   "id": "f8e0e5ef-b162-4854-b5c2-b5f5dd7c1de7",
   "metadata": {},
   "outputs": [
    {
     "name": "stdout",
     "output_type": "stream",
     "text": [
      "{1, 2, 3, 4, 5}\n",
      "{4, 5, 6, 7, 8}\n",
      "{8, 9, 10}\n"
     ]
    }
   ],
   "source": [
    "print(s6)\n",
    "print(s7)\n",
    "print(s8)"
   ]
  },
  {
   "cell_type": "code",
   "execution_count": 21,
   "id": "5b3c6814-1f63-4f91-afae-3c9f65f5148d",
   "metadata": {},
   "outputs": [],
   "source": [
    "s11 = {1,2,3,4,5,6,7,8,9} # superset -> it has its own as well as another set's element. that another set is child(subset) of superset(dad)\n",
    "s12={3,4,5,6,7,8}\n",
    "s13={10,20,30,40} #disjoint -> having no element common in two sets makes them disjoint to each other\n"
   ]
  },
  {
   "cell_type": "code",
   "execution_count": 23,
   "id": "312fde1f-901e-40d7-a3f1-44c374b1fc17",
   "metadata": {},
   "outputs": [
    {
     "data": {
      "text/plain": [
       "True"
      ]
     },
     "execution_count": 23,
     "metadata": {},
     "output_type": "execute_result"
    }
   ],
   "source": [
    "s12.issubset(s11) # subset -> all elements of s12 is present in s11. Hence, s12 is subset(cild) and s11 is superset(dad)"
   ]
  },
  {
   "cell_type": "code",
   "execution_count": 27,
   "id": "e38732c4-6d61-4fa9-9add-60848b4f068a",
   "metadata": {},
   "outputs": [
    {
     "data": {
      "text/plain": [
       "False"
      ]
     },
     "execution_count": 27,
     "metadata": {},
     "output_type": "execute_result"
    }
   ],
   "source": [
    "s11.issubset(s12)"
   ]
  },
  {
   "cell_type": "code",
   "execution_count": 29,
   "id": "86b791c8-e6ef-4046-b926-963ce015dd01",
   "metadata": {},
   "outputs": [
    {
     "data": {
      "text/plain": [
       "True"
      ]
     },
     "execution_count": 29,
     "metadata": {},
     "output_type": "execute_result"
    }
   ],
   "source": [
    "s13.isdisjoint(s12)"
   ]
  },
  {
   "cell_type": "code",
   "execution_count": 31,
   "id": "ce581349-2f59-4021-8180-1de8768f50e7",
   "metadata": {},
   "outputs": [
    {
     "data": {
      "text/plain": [
       "True"
      ]
     },
     "execution_count": 31,
     "metadata": {},
     "output_type": "execute_result"
    }
   ],
   "source": [
    "s13.isdisjoint(s11)"
   ]
  },
  {
   "cell_type": "code",
   "execution_count": 39,
   "id": "93ec4401-bc32-4460-9bb5-f4888fcb81fc",
   "metadata": {},
   "outputs": [],
   "source": [
    "s12 ={1,2,3,4,5}\n",
    "s13 ={10,20,30}\n",
    "s14 = {15,25,35}"
   ]
  },
  {
   "cell_type": "code",
   "execution_count": 33,
   "id": "938ae240-4a77-4cbe-9a90-d0bee5a7ee52",
   "metadata": {},
   "outputs": [
    {
     "data": {
      "text/plain": [
       "False"
      ]
     },
     "execution_count": 33,
     "metadata": {},
     "output_type": "execute_result"
    }
   ],
   "source": [
    "s13.issubset(s12)"
   ]
  },
  {
   "cell_type": "code",
   "execution_count": 35,
   "id": "d49f6bcd-cf7f-4620-95bd-a7bc816d1808",
   "metadata": {},
   "outputs": [
    {
     "data": {
      "text/plain": [
       "False"
      ]
     },
     "execution_count": 35,
     "metadata": {},
     "output_type": "execute_result"
    }
   ],
   "source": [
    "s12.issuperset(s13)"
   ]
  },
  {
   "cell_type": "code",
   "execution_count": 41,
   "id": "774f34f4-995c-43c5-b555-882518549a33",
   "metadata": {},
   "outputs": [
    {
     "data": {
      "text/plain": [
       "True"
      ]
     },
     "execution_count": 41,
     "metadata": {},
     "output_type": "execute_result"
    }
   ],
   "source": [
    "s14.isdisjoint(s12)"
   ]
  },
  {
   "cell_type": "code",
   "execution_count": 45,
   "id": "29512f60-939e-484f-b9e7-63798abea516",
   "metadata": {},
   "outputs": [],
   "source": [
    "x1 ={'a','b','f','c'}\n",
    "x2 ={1,2,23,25,55}"
   ]
  },
  {
   "cell_type": "code",
   "execution_count": 47,
   "id": "329364c8-baab-4533-998f-1022778efeaf",
   "metadata": {},
   "outputs": [
    {
     "data": {
      "text/plain": [
       "True"
      ]
     },
     "execution_count": 47,
     "metadata": {},
     "output_type": "execute_result"
    }
   ],
   "source": [
    "x2.isdisjoint(x1)"
   ]
  },
  {
   "cell_type": "code",
   "execution_count": 3,
   "id": "56edf981-f5c2-4ad2-b74a-25bef9428402",
   "metadata": {},
   "outputs": [],
   "source": [
    "s15 = {1,2,3,4,5,6}"
   ]
  },
  {
   "cell_type": "code",
   "execution_count": 62,
   "id": "6d728882-ddbd-4dde-8a73-1427ce249068",
   "metadata": {},
   "outputs": [
    {
     "name": "stdout",
     "output_type": "stream",
     "text": [
      "(0, 1)\n",
      "(1, 2)\n",
      "(2, 3)\n",
      "(3, 4)\n",
      "(4, 5)\n",
      "(5, 6)\n"
     ]
    }
   ],
   "source": [
    "for i in enumerate(s15): # here dont take 0,1,2,3,4,5 as index its object number. as indexing is not allowed in set\n",
    "    print(i)"
   ]
  },
  {
   "cell_type": "code",
   "execution_count": 55,
   "id": "eb1d84e8-d849-4e7c-83a0-82608215891a",
   "metadata": {},
   "outputs": [
    {
     "data": {
      "text/plain": [
       "{1, 2, 3, 4, 5, 6}"
      ]
     },
     "execution_count": 55,
     "metadata": {},
     "output_type": "execute_result"
    }
   ],
   "source": [
    "s15"
   ]
  },
  {
   "cell_type": "code",
   "execution_count": 57,
   "id": "acb0287b-7f65-4186-a142-0987cab4e2eb",
   "metadata": {},
   "outputs": [
    {
     "data": {
      "text/plain": [
       "21"
      ]
     },
     "execution_count": 57,
     "metadata": {},
     "output_type": "execute_result"
    }
   ],
   "source": [
    "sum(s15)"
   ]
  },
  {
   "cell_type": "code",
   "execution_count": 59,
   "id": "fe666638-3007-4dca-8587-a234ad51de15",
   "metadata": {},
   "outputs": [
    {
     "data": {
      "text/plain": [
       "1"
      ]
     },
     "execution_count": 59,
     "metadata": {},
     "output_type": "execute_result"
    }
   ],
   "source": [
    "min(s15)"
   ]
  },
  {
   "cell_type": "code",
   "execution_count": 5,
   "id": "fff4ef54-9fa6-4b93-80d7-4e22d3b70629",
   "metadata": {},
   "outputs": [
    {
     "data": {
      "text/plain": [
       "6"
      ]
     },
     "execution_count": 5,
     "metadata": {},
     "output_type": "execute_result"
    }
   ],
   "source": [
    "max(s15)"
   ]
  },
  {
   "cell_type": "code",
   "execution_count": 7,
   "id": "e5511a8b-5b96-4dbf-84fe-b757f259968e",
   "metadata": {},
   "outputs": [
    {
     "data": {
      "text/plain": [
       "6"
      ]
     },
     "execution_count": 7,
     "metadata": {},
     "output_type": "execute_result"
    }
   ],
   "source": [
    "len(s15) # return the length of set --> that is the number of element present"
   ]
  },
  {
   "cell_type": "code",
   "execution_count": 9,
   "id": "09c9ebdf-df84-4fe1-84f2-ce2ff1415508",
   "metadata": {},
   "outputs": [],
   "source": [
    "s16 = {}"
   ]
  },
  {
   "cell_type": "code",
   "execution_count": 13,
   "id": "f83bbc19-8899-4f56-967c-29ff4045aa46",
   "metadata": {},
   "outputs": [
    {
     "data": {
      "text/plain": [
       "0"
      ]
     },
     "execution_count": 13,
     "metadata": {},
     "output_type": "execute_result"
    }
   ],
   "source": [
    "len(s16) # empty set s16 has no element so returns 0"
   ]
  },
  {
   "cell_type": "code",
   "execution_count": 15,
   "id": "1b38c2b2-a262-4e53-ac6e-97c77eb07c02",
   "metadata": {},
   "outputs": [
    {
     "data": {
      "text/plain": [
       "[(0, 1), (1, 2), (2, 3), (3, 4), (4, 5), (5, 6)]"
      ]
     },
     "execution_count": 15,
     "metadata": {},
     "output_type": "execute_result"
    }
   ],
   "source": [
    "list(enumerate(s15)) # to enumerate the elements in set and return the enumeration in list form"
   ]
  },
  {
   "cell_type": "code",
   "execution_count": 69,
   "id": "b5b8c270-8c52-44ea-9c78-b1fda5bc78a5",
   "metadata": {},
   "outputs": [
    {
     "data": {
      "text/plain": [
       "{1, 9, 12, 13, 45, 51, 54, 75, 89, 566}"
      ]
     },
     "execution_count": 69,
     "metadata": {},
     "output_type": "execute_result"
    }
   ],
   "source": [
    "s17 ={45,566,12,54,51,13,1,9,89,75}\n",
    "s17 # here by just calling s17 it displays in sorted ascending order\n"
   ]
  },
  {
   "cell_type": "code",
   "execution_count": 33,
   "id": "c20a2b31-ceb4-4197-ac48-f8228a574aef",
   "metadata": {},
   "outputs": [
    {
     "data": {
      "text/plain": [
       "[566, 89, 75, 54, 51, 45, 13, 12, 9, 1]"
      ]
     },
     "execution_count": 33,
     "metadata": {},
     "output_type": "execute_result"
    }
   ],
   "source": [
    "d = sorted(s17, reverse =  True) #to print in decending order\n",
    "d"
   ]
  },
  {
   "cell_type": "code",
   "execution_count": 71,
   "id": "73618439-53d8-4aab-a56c-5062edfd9368",
   "metadata": {},
   "outputs": [
    {
     "data": {
      "text/plain": [
       "[1, 9, 12, 13, 45, 51, 54, 75, 89, 566]"
      ]
     },
     "execution_count": 71,
     "metadata": {},
     "output_type": "execute_result"
    }
   ],
   "source": [
    "sorted(d) # print in ascending order"
   ]
  },
  {
   "cell_type": "markdown",
   "id": "e6b36b3f-e969-44c9-aee9-80cb5a9527f1",
   "metadata": {},
   "source": [
    "# set is completed"
   ]
  },
  {
   "cell_type": "markdown",
   "id": "c59be349-64e6-426e-8d23-353561c7845b",
   "metadata": {},
   "source": [
    "**topic ---> dictionary{}**"
   ]
  },
  {
   "cell_type": "raw",
   "id": "f0d7b29b-8b88-44d2-ae01-ec1286c4cb79",
   "metadata": {},
   "source": [
    "\n",
    "                -> defined with curly brackets {}\n",
    "                -> syntax: {keys:values}\n",
    "                -> we access values by calling key so key must be unique while value can be duplicate\n",
    "                -> dict is mutable --> we can make changes to it\n",
    "                -> functions for dict:-\n",
    "                        dict.keys() -> to show all keys\n",
    "                        dict.values() -> to show all values\n",
    "                        dict.copy() -> to make a copy of dict\n",
    "                        dict.items() -> to show all keys and values pairs\n",
    "                        dict.fromkeys(keys,value) -> create dictionary from a sequence of keys and value\n",
    "                        append() -> to add a value to each key\n",
    "                        dict.update(d) -> to update the key:value from dictionary d to dict\n",
    "                        dict[key] -> to access item using key\n",
    "                        dict.get[key] -> to access item using .get() function\n",
    "                        dict[key] = value -> to change the value of a key or to add a new key:value pair\n",
    "                        pop(key) -> remove a key:value pair -> returns the key:value that has been removed.\n",
    "                        popitem() -> remove a key:value pair randomly\n",
    "                        del[dict[key]] -> remove a key:value pair -> not returns anything\n",
    "                        del -> deletes the dict\n",
    "                        clear() -> remove all key:value form dict\n",
    "\n",
    "                "
   ]
  },
  {
   "cell_type": "code",
   "execution_count": 310,
   "id": "5b4ff989-5bbf-41ed-95ec-97105e90e81b",
   "metadata": {},
   "outputs": [
    {
     "data": {
      "text/plain": [
       "{}"
      ]
     },
     "execution_count": 310,
     "metadata": {},
     "output_type": "execute_result"
    }
   ],
   "source": [
    "d={} #empty dictionary\n",
    "d"
   ]
  },
  {
   "cell_type": "code",
   "execution_count": 312,
   "id": "159d4a2b-b62d-4604-8efb-210a80d6d1dc",
   "metadata": {},
   "outputs": [
    {
     "data": {
      "text/plain": [
       "dict"
      ]
     },
     "execution_count": 312,
     "metadata": {},
     "output_type": "execute_result"
    }
   ],
   "source": [
    "type(d)"
   ]
  },
  {
   "cell_type": "code",
   "execution_count": 314,
   "id": "9049c2e2-da05-4d5b-a69e-ac1b1606e498",
   "metadata": {},
   "outputs": [
    {
     "data": {
      "text/plain": [
       "{1: 'one', 2: 'two', 3: 'three'}"
      ]
     },
     "execution_count": 314,
     "metadata": {},
     "output_type": "execute_result"
    }
   ],
   "source": [
    "d1 = {1 : 'one', 2 : 'two', 3 : 'three'} # dictionary with integer keys\n",
    "d1"
   ]
  },
  {
   "cell_type": "code",
   "execution_count": 316,
   "id": "2cf3b808-6401-4fc9-b9c4-13b370ab487d",
   "metadata": {},
   "outputs": [
    {
     "data": {
      "text/plain": [
       "{1: 'one', 2: 'two', 3: 'three'}"
      ]
     },
     "execution_count": 316,
     "metadata": {},
     "output_type": "execute_result"
    }
   ],
   "source": [
    "mydict = dict({1:'one',2 : 'two', 3 : 'three'}) #create dictionary using dict()\n",
    "mydict"
   ]
  },
  {
   "cell_type": "code",
   "execution_count": 79,
   "id": "f3a2c424-aca9-4061-b07c-f69bb990e63f",
   "metadata": {},
   "outputs": [
    {
     "data": {
      "text/plain": [
       "{'A': 'one', 'B': 'two', 'C': 'three'}"
      ]
     },
     "execution_count": 79,
     "metadata": {},
     "output_type": "execute_result"
    }
   ],
   "source": [
    "mydict = dict({'A':'one','B' : 'two', 'C' : 'three'}) # dictionary with character keys\n",
    "mydict\n"
   ]
  },
  {
   "cell_type": "code",
   "execution_count": 81,
   "id": "e2bb0f3c-3b65-4b65-9b61-1c9eabed71d7",
   "metadata": {},
   "outputs": [
    {
     "data": {
      "text/plain": [
       "{1: 'one', 'A': 'two', 3: 'three'}"
      ]
     },
     "execution_count": 81,
     "metadata": {},
     "output_type": "execute_result"
    }
   ],
   "source": [
    "mydict = dict({1:'one','A' : 'two', 3 : 'three'}) # dictionary with mixed keys\n",
    "mydict"
   ]
  },
  {
   "cell_type": "code",
   "execution_count": 72,
   "id": "f638082f-9f53-4e51-88b1-b4c90ad4334e",
   "metadata": {},
   "outputs": [
    {
     "data": {
      "text/plain": [
       "dict_keys([1, 2, 3])"
      ]
     },
     "execution_count": 72,
     "metadata": {},
     "output_type": "execute_result"
    }
   ],
   "source": [
    "d1.keys() # to display all keys"
   ]
  },
  {
   "cell_type": "code",
   "execution_count": 76,
   "id": "704f2fce-4d84-4e72-9a12-171ccaf093fe",
   "metadata": {},
   "outputs": [
    {
     "data": {
      "text/plain": [
       "dict_values(['one', 'two', 'three'])"
      ]
     },
     "execution_count": 76,
     "metadata": {},
     "output_type": "execute_result"
    }
   ],
   "source": [
    "d1.values() # to display all values"
   ]
  },
  {
   "cell_type": "code",
   "execution_count": 78,
   "id": "2b0b0c89-4ace-41c6-943f-60df5ff4eb19",
   "metadata": {},
   "outputs": [
    {
     "data": {
      "text/plain": [
       "dict_items([(1, 'one'), (2, 'two'), (3, 'three')])"
      ]
     },
     "execution_count": 78,
     "metadata": {},
     "output_type": "execute_result"
    }
   ],
   "source": [
    "d1.items() # to display all key:value pair"
   ]
  },
  {
   "cell_type": "code",
   "execution_count": 83,
   "id": "81f85664-e015-4ea7-8286-a0d4aa15103f",
   "metadata": {},
   "outputs": [
    {
     "data": {
      "text/plain": [
       "{1: 'one', 'B': 'two', 'A': ['asif', 'john', 'maria']}"
      ]
     },
     "execution_count": 83,
     "metadata": {},
     "output_type": "execute_result"
    }
   ],
   "source": [
    "mydict = dict({1:'one','B' : 'two', 'A' : ['asif', 'john', 'maria']}) # dictionary with a list as vlaue\n",
    "mydict"
   ]
  },
  {
   "cell_type": "code",
   "execution_count": 89,
   "id": "fba089f5-6858-412a-b0ab-14d00f6c4c77",
   "metadata": {},
   "outputs": [
    {
     "data": {
      "text/plain": [
       "{1: 'one',\n",
       " 'C': 'two',\n",
       " 'A': ['asif', 'john', 'maria'],\n",
       " 'B': ('Bat', 'cat', 'rat')}"
      ]
     },
     "execution_count": 89,
     "metadata": {},
     "output_type": "execute_result"
    }
   ],
   "source": [
    "mydict = dict({1:'one','C' : 'two', 'A' : ['asif', 'john', 'maria'], 'B':('Bat','cat','rat')}) # dictionary with a list and a tuple as vlaue\n",
    "mydict"
   ]
  },
  {
   "cell_type": "code",
   "execution_count": 91,
   "id": "7f158c99-7dcf-4ca4-90a4-dbaaeaab217f",
   "metadata": {},
   "outputs": [
    {
     "data": {
      "text/plain": [
       "{1: 'one',\n",
       " 'c': {'name': 'asif', 'age': 20},\n",
       " 'A': ['asif', 'john', 'maria'],\n",
       " 'B': ('Bat', 'cat', 'rat')}"
      ]
     },
     "execution_count": 91,
     "metadata": {},
     "output_type": "execute_result"
    }
   ],
   "source": [
    "mydict = dict({1:'one','c' : {'name':'asif', 'age':20}, 'A' : ['asif', 'john', 'maria'], 'B':('Bat','cat','rat')}) # dictionary with a dictionary, a list and a tuple as vlaue\n",
    "mydict"
   ]
  },
  {
   "cell_type": "code",
   "execution_count": 93,
   "id": "97aba4ba-a8b8-43a9-a3c4-d7d385bed040",
   "metadata": {},
   "outputs": [
    {
     "data": {
      "text/plain": [
       "{1: 'one', 'B': ('Bat', 'cat', 'rat'), 'A': ['asif', 'john', 'maria']}"
      ]
     },
     "execution_count": 93,
     "metadata": {},
     "output_type": "execute_result"
    }
   ],
   "source": [
    "mydict = dict({1:'one','B' : 'two', 'A' : ['asif', 'john', 'maria'], 'B':('Bat','cat','rat')}) # dictionary with a list and a tuple as vlaue\n",
    "mydict\n",
    "# here two keys are same 2nd key is B and last key is also B --> key must be unique so B give the last updated value for B"
   ]
  },
  {
   "cell_type": "code",
   "execution_count": 332,
   "id": "e68eb847-39ae-44a5-8bb5-ff58815c2f72",
   "metadata": {},
   "outputs": [
    {
     "data": {
      "text/plain": [
       "{'a': [4, 6, 7, 'l'],\n",
       " 'b': [4, 6, 7, 'l'],\n",
       " 'd': [4, 6, 7, 'l'],\n",
       " 'c': [4, 6, 7, 'l']}"
      ]
     },
     "execution_count": 332,
     "metadata": {},
     "output_type": "execute_result"
    }
   ],
   "source": [
    "keys = {'a', 'b', 'c', 'd'}\n",
    "value = [4,6,7,'l'] # if value not given then at the place of values \"None\" will be printed\n",
    "mydict3 = dict.fromkeys(keys, value)\n",
    "mydict3"
   ]
  },
  {
   "cell_type": "code",
   "execution_count": 328,
   "id": "f63110b5-ef2d-472e-bcb7-7126f125f078",
   "metadata": {},
   "outputs": [
    {
     "data": {
      "text/plain": [
       "{'a': [4, 6, 7, 'l', 30],\n",
       " 'b': [4, 6, 7, 'l', 30],\n",
       " 'c': [4, 6, 7, 'l', 30],\n",
       " 'd': [4, 6, 7, 'l', 30]}"
      ]
     },
     "execution_count": 328,
     "metadata": {},
     "output_type": "execute_result"
    }
   ],
   "source": [
    "value.append(30) # it added 30 to all values list\n",
    "mydict3"
   ]
  },
  {
   "cell_type": "code",
   "execution_count": 9,
   "id": "07d19955-e335-400c-bc85-a0e8271a4524",
   "metadata": {},
   "outputs": [
    {
     "data": {
      "text/plain": [
       "{'c': 4, 'a': 4, 'd': 4, 'b': 4}"
      ]
     },
     "execution_count": 9,
     "metadata": {},
     "output_type": "execute_result"
    }
   ],
   "source": [
    "keys = {'a', 'b', 'c', 'd'} \n",
    "value = 4\n",
    "mydict3 = dict.fromkeys(keys, value)\n",
    "mydict3"
   ]
  },
  {
   "cell_type": "code",
   "execution_count": 19,
   "id": "1c3ce452-d298-45ea-82a6-5cf94454038a",
   "metadata": {},
   "outputs": [
    {
     "data": {
      "text/plain": [
       "{'c': 3, 'a': 5, 'd': 4, 'b': 1}"
      ]
     },
     "execution_count": 19,
     "metadata": {},
     "output_type": "execute_result"
    }
   ],
   "source": [
    "# doubt_ how type vlaue so that each key gets differnet value--> for example {'d':4,'a':5,'b':1,'c':3}\n",
    "# to do this use .update()\n",
    "mydict3.update({'d':4, 'a':5,'b':1, 'c': 3})\n",
    "mydict3"
   ]
  },
  {
   "cell_type": "markdown",
   "id": "d7e28ff0-5e95-43ee-9e92-a98ec6defc9a",
   "metadata": {},
   "source": [
    "# accessing items"
   ]
  },
  {
   "cell_type": "code",
   "execution_count": 112,
   "id": "83dbc245-fa9b-4a05-b139-def2943e7ce3",
   "metadata": {},
   "outputs": [
    {
     "data": {
      "text/plain": [
       "{1: 'one', 'B': ('Bat', 'cat', 'rat'), 'A': ['asif', 'john', 'maria']}"
      ]
     },
     "execution_count": 112,
     "metadata": {},
     "output_type": "execute_result"
    }
   ],
   "source": [
    "mydict"
   ]
  },
  {
   "cell_type": "code",
   "execution_count": 116,
   "id": "f367467d-1998-4c22-90cd-53fc899a1402",
   "metadata": {},
   "outputs": [
    {
     "data": {
      "text/plain": [
       "('Bat', 'cat', 'rat')"
      ]
     },
     "execution_count": 116,
     "metadata": {},
     "output_type": "execute_result"
    }
   ],
   "source": [
    "mydict['B'] # accessing using keys"
   ]
  },
  {
   "cell_type": "code",
   "execution_count": 118,
   "id": "601ab251-b796-459f-8b59-0d6e21702fc9",
   "metadata": {},
   "outputs": [
    {
     "data": {
      "text/plain": [
       "['asif', 'john', 'maria']"
      ]
     },
     "execution_count": 118,
     "metadata": {},
     "output_type": "execute_result"
    }
   ],
   "source": [
    "mydict.get('A') # accessing item using get() method"
   ]
  },
  {
   "cell_type": "markdown",
   "id": "f5c00ac2-6ad2-4dd4-8cac-2a1ae986b997",
   "metadata": {},
   "source": [
    "# Add, Remove & change items"
   ]
  },
  {
   "cell_type": "code",
   "execution_count": 121,
   "id": "e6b2cf1d-7463-444f-ba18-93786d0e0a60",
   "metadata": {},
   "outputs": [
    {
     "data": {
      "text/plain": [
       "{1: 'one', 'B': ('Bat', 'cat', 'rat'), 'A': ['asif', 'john', 'maria']}"
      ]
     },
     "execution_count": 121,
     "metadata": {},
     "output_type": "execute_result"
    }
   ],
   "source": [
    "mydict"
   ]
  },
  {
   "cell_type": "code",
   "execution_count": 124,
   "id": "bdd61559-319c-4152-99b3-e22669eae6b4",
   "metadata": {},
   "outputs": [
    {
     "data": {
      "text/plain": [
       "{1: 'one', 'B': ('Bat', 'cat', 'rat'), 'A': 'apple'}"
      ]
     },
     "execution_count": 124,
     "metadata": {},
     "output_type": "execute_result"
    }
   ],
   "source": [
    "mydict['A']= 'apple' # changing value of a key 'A'\n",
    "#doubt_can we change the key correspondig to a value?\n",
    "mydict"
   ]
  },
  {
   "cell_type": "code",
   "execution_count": 128,
   "id": "e5c7885b-60c1-4393-adc8-d465dea7dbe3",
   "metadata": {},
   "outputs": [
    {
     "data": {
      "text/plain": [
       "{1: 'one', 'B': ('Bat', 'cat', 'rat'), 'A': 'apple', 'name': 'amit'}"
      ]
     },
     "execution_count": 128,
     "metadata": {},
     "output_type": "execute_result"
    }
   ],
   "source": [
    "dict1 = {\"name\":\"amit\"}\n",
    "mydict.update(dict1) # update method adds dict1 elements to mydict at last\n",
    "mydict"
   ]
  },
  {
   "cell_type": "code",
   "execution_count": 136,
   "id": "b8346c06-b8be-4659-843a-26688b3ac340",
   "metadata": {},
   "outputs": [
    {
     "data": {
      "text/plain": [
       "{1: 'one',\n",
       " 'B': ('Bat', 'cat', 'rat'),\n",
       " 'A': 'apple',\n",
       " 'name': 'amit',\n",
       " 'place': 'delhi'}"
      ]
     },
     "execution_count": 136,
     "metadata": {},
     "output_type": "execute_result"
    }
   ],
   "source": [
    "mydict['place'] = 'delhi' # adding new key:value pair to mydict\n",
    "mydict"
   ]
  },
  {
   "cell_type": "code",
   "execution_count": 138,
   "id": "774ce55e-fb3a-45d5-8115-3410aefaef2a",
   "metadata": {},
   "outputs": [
    {
     "data": {
      "text/plain": [
       "{1: 'one', 'B': ('Bat', 'cat', 'rat'), 'A': 'apple', 'name': 'amit'}"
      ]
     },
     "execution_count": 138,
     "metadata": {},
     "output_type": "execute_result"
    }
   ],
   "source": [
    "mydict.pop('place') # removing key:value pair from mydict\n",
    "mydict"
   ]
  },
  {
   "cell_type": "code",
   "execution_count": 140,
   "id": "f6df79db-7b71-4444-9477-d0cfab1dadd2",
   "metadata": {},
   "outputs": [
    {
     "data": {
      "text/plain": [
       "('name', 'amit')"
      ]
     },
     "execution_count": 140,
     "metadata": {},
     "output_type": "execute_result"
    }
   ],
   "source": [
    "mydict.popitem() # a random item is removed"
   ]
  },
  {
   "cell_type": "code",
   "execution_count": 142,
   "id": "65f80cd7-63af-4b92-b02c-7eeb3090dd29",
   "metadata": {},
   "outputs": [
    {
     "data": {
      "text/plain": [
       "{1: 'one', 'B': ('Bat', 'cat', 'rat'), 'A': 'apple'}"
      ]
     },
     "execution_count": 142,
     "metadata": {},
     "output_type": "execute_result"
    }
   ],
   "source": [
    "mydict"
   ]
  },
  {
   "cell_type": "code",
   "execution_count": 144,
   "id": "7a26ea3a-db3f-4c65-8248-a3f1f68c3ad6",
   "metadata": {},
   "outputs": [
    {
     "data": {
      "text/plain": [
       "{1: 'one', 'A': 'apple'}"
      ]
     },
     "execution_count": 144,
     "metadata": {},
     "output_type": "execute_result"
    }
   ],
   "source": [
    "del[mydict['B']] # removing an item using del\n",
    "mydict"
   ]
  },
  {
   "cell_type": "code",
   "execution_count": 146,
   "id": "d3f3bb43-aef9-453e-91b9-fb5b59516e0a",
   "metadata": {},
   "outputs": [],
   "source": [
    "mydict.clear() # to delete all items in a dictionary"
   ]
  },
  {
   "cell_type": "code",
   "execution_count": 148,
   "id": "a838bbaa-4186-4946-b338-bb7f88379505",
   "metadata": {},
   "outputs": [
    {
     "data": {
      "text/plain": [
       "{}"
      ]
     },
     "execution_count": 148,
     "metadata": {},
     "output_type": "execute_result"
    }
   ],
   "source": [
    "mydict"
   ]
  },
  {
   "cell_type": "code",
   "execution_count": 150,
   "id": "d0fef23e-e9ea-4920-ba86-11caf85cf8c3",
   "metadata": {},
   "outputs": [
    {
     "ename": "NameError",
     "evalue": "name 'mydict' is not defined",
     "output_type": "error",
     "traceback": [
      "\u001b[1;31m---------------------------------------------------------------------------\u001b[0m",
      "\u001b[1;31mNameError\u001b[0m                                 Traceback (most recent call last)",
      "Cell \u001b[1;32mIn[150], line 2\u001b[0m\n\u001b[0;32m      1\u001b[0m \u001b[38;5;28;01mdel\u001b[39;00m mydict \u001b[38;5;66;03m# to delete the dictionary\u001b[39;00m\n\u001b[1;32m----> 2\u001b[0m mydict\n",
      "\u001b[1;31mNameError\u001b[0m: name 'mydict' is not defined"
     ]
    }
   ],
   "source": [
    "del mydict # to delete the dictionary\n",
    "mydict"
   ]
  },
  {
   "cell_type": "markdown",
   "id": "14f3b6a4-bc18-44f1-9baa-17f779301b6c",
   "metadata": {},
   "source": [
    "# copy dictionary"
   ]
  },
  {
   "cell_type": "code",
   "execution_count": 155,
   "id": "47739d69-df28-4e32-a893-7c9a8740cf97",
   "metadata": {},
   "outputs": [
    {
     "data": {
      "text/plain": [
       "{1: 'one', 'B': ('Bat', 'cat', 'rat'), 'A': 'apple', 'name': 'amit'}"
      ]
     },
     "execution_count": 155,
     "metadata": {},
     "output_type": "execute_result"
    }
   ],
   "source": [
    "mydict = {1: 'one', 'B': ('Bat', 'cat', 'rat'), 'A': 'apple', 'name': 'amit'}\n",
    "mydict1 = mydict # create a new reference 'mydict1\"\n",
    "mydict\n",
    "mydict1"
   ]
  },
  {
   "cell_type": "code",
   "execution_count": 157,
   "id": "1d7e64fe-e643-49b4-ab04-55e7a241f491",
   "metadata": {},
   "outputs": [
    {
     "data": {
      "text/plain": [
       "(2394959723968, 2394959723968)"
      ]
     },
     "execution_count": 157,
     "metadata": {},
     "output_type": "execute_result"
    }
   ],
   "source": [
    "id(mydict), id(mydict1) # address of both will be same "
   ]
  },
  {
   "cell_type": "code",
   "execution_count": 159,
   "id": "c50e4882-826e-476d-a459-2f1720169592",
   "metadata": {},
   "outputs": [
    {
     "data": {
      "text/plain": [
       "2394959723776"
      ]
     },
     "execution_count": 159,
     "metadata": {},
     "output_type": "execute_result"
    }
   ],
   "source": [
    "mydict2 = mydict.copy() # to create a copy of mydict\n",
    "id(mydict2) # the address of mydict2 is different"
   ]
  },
  {
   "cell_type": "code",
   "execution_count": 161,
   "id": "ecb30f99-a21a-47fe-b5ae-0ff9a7c76f7a",
   "metadata": {},
   "outputs": [
    {
     "data": {
      "text/plain": [
       "{1: 'one',\n",
       " 'B': ('Bat', 'cat', 'rat'),\n",
       " 'A': 'apple',\n",
       " 'name': 'amit',\n",
       " 'address': 'kolkata'}"
      ]
     },
     "execution_count": 161,
     "metadata": {},
     "output_type": "execute_result"
    }
   ],
   "source": [
    "mydict[\"address\"]='kolkata'\n",
    "mydict"
   ]
  },
  {
   "cell_type": "code",
   "execution_count": 163,
   "id": "a1593216-6c99-4cd3-9d22-5c02480b3490",
   "metadata": {},
   "outputs": [
    {
     "data": {
      "text/plain": [
       "{1: 'one',\n",
       " 'B': ('Bat', 'cat', 'rat'),\n",
       " 'A': 'apple',\n",
       " 'name': 'amit',\n",
       " 'address': 'kolkata'}"
      ]
     },
     "execution_count": 163,
     "metadata": {},
     "output_type": "execute_result"
    }
   ],
   "source": [
    "mydict1\n",
    "# after adding address to mydict --> mydict1 also got affected because mydict1 = my dict statement points to the same dictionary.\n",
    "# means the address of both mydict1 and mydict is same. so any changes made to one automatically reflects in other "
   ]
  },
  {
   "cell_type": "code",
   "execution_count": 165,
   "id": "35320d50-afbc-42c7-a0b2-8470ad5b1001",
   "metadata": {},
   "outputs": [
    {
     "data": {
      "text/plain": [
       "{1: 'one', 'B': ('Bat', 'cat', 'rat'), 'A': 'apple', 'name': 'amit'}"
      ]
     },
     "execution_count": 165,
     "metadata": {},
     "output_type": "execute_result"
    }
   ],
   "source": [
    "mydict2 # address of mydict and mydict2 is different hence mydict2 doesn't get affected by changes in mydict"
   ]
  },
  {
   "cell_type": "code",
   "execution_count": 82,
   "id": "e6a91825-32d1-4f7d-9487-94ca06c6ef28",
   "metadata": {},
   "outputs": [
    {
     "data": {
      "text/plain": [
       "{1: 'one', 2: 'two', 3: 'three'}"
      ]
     },
     "execution_count": 82,
     "metadata": {},
     "output_type": "execute_result"
    }
   ],
   "source": [
    "d2 =d1.copy() # to copy d1 to d2\n",
    "d2"
   ]
  },
  {
   "cell_type": "code",
   "execution_count": 84,
   "id": "c58a9b14-72eb-499d-8019-cc2e139659f8",
   "metadata": {},
   "outputs": [
    {
     "data": {
      "text/plain": [
       "range(0, 10)"
      ]
     },
     "execution_count": 84,
     "metadata": {},
     "output_type": "execute_result"
    }
   ],
   "source": [
    "range(10) # Return an object that produces a sequence of integers from start (inclusive) to stop (exclusive) by step. by default it starts from 0"
   ]
  },
  {
   "cell_type": "code",
   "execution_count": 86,
   "id": "0c266370-d38e-4053-aa60-821571e06a9f",
   "metadata": {},
   "outputs": [
    {
     "data": {
      "text/plain": [
       "[0, 1, 2, 3, 4, 5, 6, 7, 8, 9]"
      ]
     },
     "execution_count": 86,
     "metadata": {},
     "output_type": "execute_result"
    }
   ],
   "source": [
    "list(range(10))"
   ]
  },
  {
   "cell_type": "code",
   "execution_count": 88,
   "id": "25516cfb-485d-433d-a2ce-050b0b8a7513",
   "metadata": {},
   "outputs": [
    {
     "data": {
      "text/plain": [
       "[10, 11, 12, 13, 14, 15, 16, 17, 18, 19]"
      ]
     },
     "execution_count": 88,
     "metadata": {},
     "output_type": "execute_result"
    }
   ],
   "source": [
    "list(range(10,20))\n"
   ]
  },
  {
   "cell_type": "code",
   "execution_count": 90,
   "id": "6f833fff-6134-47f7-b551-b9252e8d2ed5",
   "metadata": {},
   "outputs": [
    {
     "data": {
      "text/plain": [
       "[10, 13, 16, 19]"
      ]
     },
     "execution_count": 90,
     "metadata": {},
     "output_type": "execute_result"
    }
   ],
   "source": [
    "list(range(10,20,3)) # from 10 till 19 print initial number and every 3rd number"
   ]
  },
  {
   "cell_type": "code",
   "execution_count": 92,
   "id": "fcb6cdec-206b-40d6-8282-7f6a40f8990b",
   "metadata": {},
   "outputs": [
    {
     "data": {
      "text/plain": [
       "range(1, 10)"
      ]
     },
     "execution_count": 92,
     "metadata": {},
     "output_type": "execute_result"
    }
   ],
   "source": [
    "r = range(1,10)\n",
    "r"
   ]
  },
  {
   "cell_type": "code",
   "execution_count": 94,
   "id": "8f7585c5-c0b4-41d4-9e72-a13d8b6a86c3",
   "metadata": {},
   "outputs": [
    {
     "name": "stdout",
     "output_type": "stream",
     "text": [
      "1\n",
      "2\n",
      "3\n",
      "4\n",
      "5\n",
      "6\n",
      "7\n",
      "8\n",
      "9\n"
     ]
    }
   ],
   "source": [
    "for i in r:\n",
    "    print(i)"
   ]
  },
  {
   "cell_type": "markdown",
   "id": "617bce54-90ff-4898-8347-9120502d9d0c",
   "metadata": {},
   "source": [
    "# loop throgh a dictionary"
   ]
  },
  {
   "cell_type": "code",
   "execution_count": 168,
   "id": "fe39f1df-3c88-4770-bed0-223e61b39b7e",
   "metadata": {},
   "outputs": [
    {
     "data": {
      "text/plain": [
       "{1: 'one',\n",
       " 'B': ('Bat', 'cat', 'rat'),\n",
       " 'A': 'apple',\n",
       " 'name': 'amit',\n",
       " 'address': 'kolkata'}"
      ]
     },
     "execution_count": 168,
     "metadata": {},
     "output_type": "execute_result"
    }
   ],
   "source": [
    "mydict"
   ]
  },
  {
   "cell_type": "code",
   "execution_count": 170,
   "id": "d9f0259b-d3ac-465a-9f21-54a7159eed25",
   "metadata": {},
   "outputs": [
    {
     "name": "stdout",
     "output_type": "stream",
     "text": [
      "1 : one\n",
      "B : ('Bat', 'cat', 'rat')\n",
      "A : apple\n",
      "name : amit\n",
      "address : kolkata\n"
     ]
    }
   ],
   "source": [
    "for i in mydict:\n",
    "    print(i, ':', mydict[i]) # print key and value pair"
   ]
  },
  {
   "cell_type": "code",
   "execution_count": 174,
   "id": "648b7653-28fb-4804-89a2-2a36c6c67f60",
   "metadata": {},
   "outputs": [
    {
     "name": "stdout",
     "output_type": "stream",
     "text": [
      "one\n",
      "('Bat', 'cat', 'rat')\n",
      "apple\n",
      "amit\n",
      "kolkata\n"
     ]
    }
   ],
   "source": [
    "for i in mydict:\n",
    "    print(mydict[i]) # print values"
   ]
  },
  {
   "cell_type": "markdown",
   "id": "eeb89906-bde5-4cee-9007-42be7c38580c",
   "metadata": {},
   "source": [
    "# dictionary memebership"
   ]
  },
  {
   "cell_type": "code",
   "execution_count": 177,
   "id": "9c324981-1862-411f-a9d7-87c142d70df7",
   "metadata": {},
   "outputs": [
    {
     "data": {
      "text/plain": [
       "{1: 'one',\n",
       " 'B': ('Bat', 'cat', 'rat'),\n",
       " 'A': 'apple',\n",
       " 'name': 'amit',\n",
       " 'address': 'kolkata'}"
      ]
     },
     "execution_count": 177,
     "metadata": {},
     "output_type": "execute_result"
    }
   ],
   "source": [
    "mydict"
   ]
  },
  {
   "cell_type": "code",
   "execution_count": 179,
   "id": "eaf8833f-4a66-47af-a0d0-17e4fe1e732c",
   "metadata": {},
   "outputs": [
    {
     "data": {
      "text/plain": [
       "True"
      ]
     },
     "execution_count": 179,
     "metadata": {},
     "output_type": "execute_result"
    }
   ],
   "source": [
    "'name' in mydict # check if a key is present or not"
   ]
  },
  {
   "cell_type": "code",
   "execution_count": 181,
   "id": "5e3dfeb6-1d1b-4170-9e2e-cd41cd58ac59",
   "metadata": {},
   "outputs": [
    {
     "data": {
      "text/plain": [
       "False"
      ]
     },
     "execution_count": 181,
     "metadata": {},
     "output_type": "execute_result"
    }
   ],
   "source": [
    "'amit' in mydict \n",
    "# we can only check whether key is present or not. this does not apply to value. hence False "
   ]
  },
  {
   "cell_type": "markdown",
   "id": "75ad2d6b-3b22-4006-aa2b-d287bd969c9b",
   "metadata": {},
   "source": [
    "# all/any"
   ]
  },
  {
   "cell_type": "raw",
   "id": "c439d138-0140-4fa7-9e6a-4590c521b5cf",
   "metadata": {},
   "source": [
    "all() -> returns true when all keys are true (means non-zero)\n",
    "any() -> returns true when any key is true"
   ]
  },
  {
   "cell_type": "code",
   "execution_count": 184,
   "id": "afd017b2-2d85-4235-b126-15510cd4127f",
   "metadata": {},
   "outputs": [
    {
     "data": {
      "text/plain": [
       "{1: 'one',\n",
       " 'B': ('Bat', 'cat', 'rat'),\n",
       " 'A': 'apple',\n",
       " 'name': 'amit',\n",
       " 'address': 'kolkata'}"
      ]
     },
     "execution_count": 184,
     "metadata": {},
     "output_type": "execute_result"
    }
   ],
   "source": [
    "mydict"
   ]
  },
  {
   "cell_type": "code",
   "execution_count": 186,
   "id": "3aa90f1b-ea95-4161-bb96-ff8fe2a532d8",
   "metadata": {},
   "outputs": [
    {
     "data": {
      "text/plain": [
       "True"
      ]
     },
     "execution_count": 186,
     "metadata": {},
     "output_type": "execute_result"
    }
   ],
   "source": [
    "all(mydict)"
   ]
  },
  {
   "cell_type": "code",
   "execution_count": 188,
   "id": "dd9d71e3-8668-4992-9c23-ce670dd7f5fb",
   "metadata": {},
   "outputs": [
    {
     "data": {
      "text/plain": [
       "True"
      ]
     },
     "execution_count": 188,
     "metadata": {},
     "output_type": "execute_result"
    }
   ],
   "source": [
    "any(mydict)"
   ]
  },
  {
   "cell_type": "code",
   "execution_count": 190,
   "id": "dee4f48b-47bf-46a8-8dc8-c7422f180eba",
   "metadata": {},
   "outputs": [
    {
     "data": {
      "text/plain": [
       "{0: True, 2: 'a', 3: 2.5, 'a': (25+2j)}"
      ]
     },
     "execution_count": 190,
     "metadata": {},
     "output_type": "execute_result"
    }
   ],
   "source": [
    "dict = {0:True,2:'a',3:2.5,'a':25+2j}\n",
    "dict"
   ]
  },
  {
   "cell_type": "code",
   "execution_count": 192,
   "id": "34131a76-24e7-411b-9764-0b81f03baab0",
   "metadata": {},
   "outputs": [
    {
     "data": {
      "text/plain": [
       "False"
      ]
     },
     "execution_count": 192,
     "metadata": {},
     "output_type": "execute_result"
    }
   ],
   "source": [
    "all(dict) # here 1st key is 0"
   ]
  },
  {
   "cell_type": "code",
   "execution_count": 194,
   "id": "21e0eb29-b31d-4b48-bcb2-42279ddef37d",
   "metadata": {},
   "outputs": [
    {
     "data": {
      "text/plain": [
       "True"
      ]
     },
     "execution_count": 194,
     "metadata": {},
     "output_type": "execute_result"
    }
   ],
   "source": [
    "any(dict) # atleast 1 key is not 0 or false"
   ]
  },
  {
   "cell_type": "code",
   "execution_count": 196,
   "id": "2b1f1e6a-8032-486b-993f-b8747e6c218d",
   "metadata": {},
   "outputs": [
    {
     "data": {
      "text/plain": [
       "{1: True, False: 'a', 3: 2.5, 'a': (25+2j)}"
      ]
     },
     "execution_count": 196,
     "metadata": {},
     "output_type": "execute_result"
    }
   ],
   "source": [
    "dict = {1:True,False:'a',3:2.5,'a':25+2j}\n",
    "dict"
   ]
  },
  {
   "cell_type": "code",
   "execution_count": 198,
   "id": "1dbc553d-8da2-4f57-884f-92f6a4eaadbd",
   "metadata": {},
   "outputs": [
    {
     "data": {
      "text/plain": [
       "False"
      ]
     },
     "execution_count": 198,
     "metadata": {},
     "output_type": "execute_result"
    }
   ],
   "source": [
    "all(dict) # here 2nd key is false now"
   ]
  },
  {
   "cell_type": "code",
   "execution_count": 200,
   "id": "f40c952d-cc45-4867-82e3-0afa315008e5",
   "metadata": {},
   "outputs": [
    {
     "data": {
      "text/plain": [
       "{1: True, 2: 0, 3: 2.5, 'a': (25+2j)}"
      ]
     },
     "execution_count": 200,
     "metadata": {},
     "output_type": "execute_result"
    }
   ],
   "source": [
    "dict = {1:True,2:0,3:2.5,'a':25+2j}\n",
    "dict"
   ]
  },
  {
   "cell_type": "code",
   "execution_count": 202,
   "id": "2e816786-4b93-4338-afa6-5bd84bf9d505",
   "metadata": {},
   "outputs": [
    {
     "data": {
      "text/plain": [
       "True"
      ]
     },
     "execution_count": 202,
     "metadata": {},
     "output_type": "execute_result"
    }
   ],
   "source": [
    "all(dict) # here a value is 0 but no key is false or 0 hence true"
   ]
  },
  {
   "cell_type": "code",
   "execution_count": null,
   "id": "4e982188-b8e1-4fc1-a555-76b79668e3bd",
   "metadata": {},
   "outputs": [],
   "source": []
  },
  {
   "cell_type": "markdown",
   "id": "7d85d06e-4359-4d4c-a55c-e23c5a2ef0d2",
   "metadata": {
    "jp-MarkdownHeadingCollapsed": true
   },
   "source": [
    "# 11 March class 15\n",
    "        Agenda of the day:-\n",
    "            1.) intall visual studio(vs) code and some extenstions\n",
    "            2.) Numpy --> data structure + mathematics + array\n",
    "                     -> np.version, created arrays, converting list to array\n",
    "                     -> np.arrange(15)"
   ]
  },
  {
   "attachments": {},
   "cell_type": "markdown",
   "id": "15b7757b-cf06-4afb-a4e0-321cc92c9f6d",
   "metadata": {},
   "source": [
    "# Numpy"
   ]
  },
  {
   "attachments": {
    "38b11039-4cd4-4171-b716-578977a7d9b7.png": {
     "image/png": "[encoded data removed]"
    },
    "408f7a9b-4e4b-438a-9f8f-8fd3ef63ea39.jpg": {
     "image/jpeg": "[encoded data removed]"
    }
   },
   "cell_type": "markdown",
   "id": "30d7559c-2fd9-4a7f-97aa-2158864d04e5",
   "metadata": {},
   "source": [
    "![image.png](attachment:38b11039-4cd4-4171-b716-578977a7d9b7.png)\n",
    "\n",
    "![List vs Array.jpg](attachment:408f7a9b-4e4b-438a-9f8f-8fd3ef63ea39.jpg)"
   ]
  },
  {
   "cell_type": "markdown",
   "id": "87cc1f0a-fba9-4e88-93e6-3286abe768e4",
   "metadata": {},
   "source": [
    "# check Numpy jupyter notebook "
   ]
  },
  {
   "cell_type": "markdown",
   "id": "bf7b9e9d-f6d4-4456-af5d-2dd31806774e",
   "metadata": {},
   "source": [
    "# 12 March class 15 - check Numpy jupyter notebook"
   ]
  },
  {
   "cell_type": "markdown",
   "id": "1bd3b74e-b97e-4c4a-9cc7-891b284127f7",
   "metadata": {},
   "source": [
    "# 13 March class 16 - check Numpy jupyter notebook"
   ]
  },
  {
   "cell_type": "markdown",
   "id": "4aba7740-c2b9-498c-95f2-4fed0f7da76e",
   "metadata": {},
   "source": [
    "# 14 March class 17 \n",
    "    python basic\n",
    "            help() -> to open help prompt -> to come out of help promt type q and press enter"
   ]
  },
  {
   "cell_type": "code",
   "execution_count": 3,
   "id": "186d8210-5347-46f0-9187-f03a3f786bc2",
   "metadata": {},
   "outputs": [
    {
     "name": "stdout",
     "output_type": "stream",
     "text": [
      "Welcome to Python 3.12's help utility! If this is your first time using\n",
      "Python, you should definitely check out the tutorial at\n",
      "https://docs.python.org/3.12/tutorial/.\n",
      "\n",
      "Enter the name of any module, keyword, or topic to get help on writing\n",
      "Python programs and using Python modules.  To get a list of available\n",
      "modules, keywords, symbols, or topics, enter \"modules\", \"keywords\",\n",
      "\"symbols\", or \"topics\".\n",
      "\n",
      "Each module also comes with a one-line summary of what it does; to list\n",
      "the modules whose name or summary contain a given string such as \"spam\",\n",
      "enter \"modules spam\".\n",
      "\n",
      "To quit this help utility and return to the interpreter,\n",
      "enter \"q\" or \"quit\".\n",
      "\n"
     ]
    },
    {
     "name": "stdin",
     "output_type": "stream",
     "text": [
      "help>  functions available in set\n"
     ]
    },
    {
     "name": "stdout",
     "output_type": "stream",
     "text": [
      "No Python documentation found for 'functions available in set'.\n",
      "Use help() to get the interactive help utility.\n",
      "Use help(str) for help on the str class.\n",
      "\n"
     ]
    },
    {
     "name": "stdin",
     "output_type": "stream",
     "text": [
      "help>  functions in set\n"
     ]
    },
    {
     "name": "stdout",
     "output_type": "stream",
     "text": [
      "No Python documentation found for 'functions in set'.\n",
      "Use help() to get the interactive help utility.\n",
      "Use help(str) for help on the str class.\n",
      "\n"
     ]
    },
    {
     "name": "stdin",
     "output_type": "stream",
     "text": [
      "help>  set functions\n"
     ]
    },
    {
     "name": "stdout",
     "output_type": "stream",
     "text": [
      "No Python documentation found for 'set functions'.\n",
      "Use help() to get the interactive help utility.\n",
      "Use help(str) for help on the str class.\n",
      "\n"
     ]
    },
    {
     "name": "stdin",
     "output_type": "stream",
     "text": [
      "help>  set\n"
     ]
    },
    {
     "name": "stdout",
     "output_type": "stream",
     "text": [
      "Help on class set in module builtins:\n",
      "\n",
      "class set(object)\n",
      " |  set() -> new empty set object\n",
      " |  set(iterable) -> new set object\n",
      " |\n",
      " |  Build an unordered collection of unique elements.\n",
      " |\n",
      " |  Methods defined here:\n",
      " |\n",
      " |  __and__(self, value, /)\n",
      " |      Return self&value.\n",
      " |\n",
      " |  __contains__(...)\n",
      " |      x.__contains__(y) <==> y in x.\n",
      " |\n",
      " |  __eq__(self, value, /)\n",
      " |      Return self==value.\n",
      " |\n",
      " |  __ge__(self, value, /)\n",
      " |      Return self>=value.\n",
      " |\n",
      " |  __getattribute__(self, name, /)\n",
      " |      Return getattr(self, name).\n",
      " |\n",
      " |  __gt__(self, value, /)\n",
      " |      Return self>value.\n",
      " |\n",
      " |  __iand__(self, value, /)\n",
      " |      Return self&=value.\n",
      " |\n",
      " |  __init__(self, /, *args, **kwargs)\n",
      " |      Initialize self.  See help(type(self)) for accurate signature.\n",
      " |\n",
      " |  __ior__(self, value, /)\n",
      " |      Return self|=value.\n",
      " |\n",
      " |  __isub__(self, value, /)\n",
      " |      Return self-=value.\n",
      " |\n",
      " |  __iter__(self, /)\n",
      " |      Implement iter(self).\n",
      " |\n",
      " |  __ixor__(self, value, /)\n",
      " |      Return self^=value.\n",
      " |\n",
      " |  __le__(self, value, /)\n",
      " |      Return self<=value.\n",
      " |\n",
      " |  __len__(self, /)\n",
      " |      Return len(self).\n",
      " |\n",
      " |  __lt__(self, value, /)\n",
      " |      Return self<value.\n",
      " |\n",
      " |  __ne__(self, value, /)\n",
      " |      Return self!=value.\n",
      " |\n",
      " |  __or__(self, value, /)\n",
      " |      Return self|value.\n",
      " |\n",
      " |  __rand__(self, value, /)\n",
      " |      Return value&self.\n",
      " |\n",
      " |  __reduce__(...)\n",
      " |      Return state information for pickling.\n",
      " |\n",
      " |  __repr__(self, /)\n",
      " |      Return repr(self).\n",
      " |\n",
      " |  __ror__(self, value, /)\n",
      " |      Return value|self.\n",
      " |\n",
      " |  __rsub__(self, value, /)\n",
      " |      Return value-self.\n",
      " |\n",
      " |  __rxor__(self, value, /)\n",
      " |      Return value^self.\n",
      " |\n",
      " |  __sizeof__(...)\n",
      " |      S.__sizeof__() -> size of S in memory, in bytes\n",
      " |\n",
      " |  __sub__(self, value, /)\n",
      " |      Return self-value.\n",
      " |\n",
      " |  __xor__(self, value, /)\n",
      " |      Return self^value.\n",
      " |\n",
      " |  add(...)\n",
      " |      Add an element to a set.\n",
      " |\n",
      " |      This has no effect if the element is already present.\n",
      " |\n",
      " |  clear(...)\n",
      " |      Remove all elements from this set.\n",
      " |\n",
      " |  copy(...)\n",
      " |      Return a shallow copy of a set.\n",
      " |\n",
      " |  difference(...)\n",
      " |      Return the difference of two or more sets as a new set.\n",
      " |\n",
      " |      (i.e. all elements that are in this set but not the others.)\n",
      " |\n",
      " |  difference_update(...)\n",
      " |      Remove all elements of another set from this set.\n",
      " |\n",
      " |  discard(...)\n",
      " |      Remove an element from a set if it is a member.\n",
      " |\n",
      " |      Unlike set.remove(), the discard() method does not raise\n",
      " |      an exception when an element is missing from the set.\n",
      " |\n",
      " |  intersection(...)\n",
      " |      Return the intersection of two sets as a new set.\n",
      " |\n",
      " |      (i.e. all elements that are in both sets.)\n",
      " |\n",
      " |  intersection_update(...)\n",
      " |      Update a set with the intersection of itself and another.\n",
      " |\n",
      " |  isdisjoint(...)\n",
      " |      Return True if two sets have a null intersection.\n",
      " |\n",
      " |  issubset(self, other, /)\n",
      " |      Test whether every element in the set is in other.\n",
      " |\n",
      " |  issuperset(self, other, /)\n",
      " |      Test whether every element in other is in the set.\n",
      " |\n",
      " |  pop(...)\n",
      " |      Remove and return an arbitrary set element.\n",
      " |      Raises KeyError if the set is empty.\n",
      " |\n",
      " |  remove(...)\n",
      " |      Remove an element from a set; it must be a member.\n",
      " |\n",
      " |      If the element is not a member, raise a KeyError.\n",
      " |\n",
      " |  symmetric_difference(...)\n",
      " |      Return the symmetric difference of two sets as a new set.\n",
      " |\n",
      " |      (i.e. all elements that are in exactly one of the sets.)\n",
      " |\n",
      " |  symmetric_difference_update(...)\n",
      " |      Update a set with the symmetric difference of itself and another.\n",
      " |\n",
      " |  union(...)\n",
      " |      Return the union of sets as a new set.\n",
      " |\n",
      " |      (i.e. all elements that are in either set.)\n",
      " |\n",
      " |  update(...)\n",
      " |      Update a set with the union of itself and others.\n",
      " |\n",
      " |  ----------------------------------------------------------------------\n",
      " |  Class methods defined here:\n",
      " |\n",
      " |  __class_getitem__(...)\n",
      " |      See PEP 585\n",
      " |\n",
      " |  ----------------------------------------------------------------------\n",
      " |  Static methods defined here:\n",
      " |\n",
      " |  __new__(*args, **kwargs)\n",
      " |      Create and return a new object.  See help(type) for accurate signature.\n",
      " |\n",
      " |  ----------------------------------------------------------------------\n",
      " |  Data and other attributes defined here:\n",
      " |\n",
      " |  __hash__ = None\n",
      "\n"
     ]
    },
    {
     "name": "stdin",
     "output_type": "stream",
     "text": [
      "help>  q\n"
     ]
    },
    {
     "name": "stdout",
     "output_type": "stream",
     "text": [
      "\n",
      "You are now leaving help and returning to the Python interpreter.\n",
      "If you want to ask for help on a particular object directly from the\n",
      "interpreter, you can type \"help(object)\".  Executing \"help('string')\"\n",
      "has the same effect as typing a particular string at the help> prompt.\n"
     ]
    }
   ],
   "source": [
    "help() # to open help prompt"
   ]
  },
  {
   "cell_type": "markdown",
   "id": "3b39c2db-605d-4f03-8748-2d4fc99093af",
   "metadata": {},
   "source": [
    "# number system conversion\n",
    "            -> binary number system (base value is 2)\n",
    "            -> decimal number system (base value is 10)\n",
    "            -> hexadicimal number system (base value is 6)\n",
    "            -> octal number system (base value is 8)\n",
    "            "
   ]
  },
  {
   "cell_type": "code",
   "execution_count": 5,
   "id": "ac5fbaf7-f989-445d-a633-615da1bd216b",
   "metadata": {},
   "outputs": [
    {
     "data": {
      "text/plain": [
       "15"
      ]
     },
     "execution_count": 5,
     "metadata": {},
     "output_type": "execute_result"
    }
   ],
   "source": [
    "15 # decimal"
   ]
  },
  {
   "cell_type": "code",
   "execution_count": 7,
   "id": "c08397eb-798f-4555-bac2-e88ed5a8d2ea",
   "metadata": {},
   "outputs": [
    {
     "data": {
      "text/plain": [
       "'0b1111'"
      ]
     },
     "execution_count": 7,
     "metadata": {},
     "output_type": "execute_result"
    }
   ],
   "source": [
    "bin(15) #convert decimal to binary (after 0b is the binary for 15, 0b means binary)\n",
    "#0O for octal, 0X for hexadecimal and decimal"
   ]
  },
  {
   "cell_type": "code",
   "execution_count": 11,
   "id": "a967e375-081e-4170-bdda-d7bf453fe871",
   "metadata": {},
   "outputs": [
    {
     "data": {
      "text/plain": [
       "'0b11001'"
      ]
     },
     "execution_count": 11,
     "metadata": {},
     "output_type": "execute_result"
    }
   ],
   "source": [
    "bin(25)"
   ]
  },
  {
   "cell_type": "code",
   "execution_count": 15,
   "id": "854812b2-1540-4b33-bd4a-4d448b2e77ab",
   "metadata": {},
   "outputs": [
    {
     "data": {
      "text/plain": [
       "25"
      ]
     },
     "execution_count": 15,
     "metadata": {},
     "output_type": "execute_result"
    }
   ],
   "source": [
    "int(0b11001) # converting binary 11001 to decimal -> 0b is must to add before to specify that the given number is binary"
   ]
  },
  {
   "cell_type": "code",
   "execution_count": 17,
   "id": "5c3326a2-e4ec-402b-8a7b-906ef8ca7acc",
   "metadata": {},
   "outputs": [
    {
     "data": {
      "text/plain": [
       "15"
      ]
     },
     "execution_count": 17,
     "metadata": {},
     "output_type": "execute_result"
    }
   ],
   "source": [
    "0b1111 # conversion of binary to integar(decimal)"
   ]
  },
  {
   "cell_type": "code",
   "execution_count": 19,
   "id": "41db1f54-e3b2-468b-b120-03deab570dc6",
   "metadata": {},
   "outputs": [
    {
     "data": {
      "text/plain": [
       "'0o17'"
      ]
     },
     "execution_count": 19,
     "metadata": {},
     "output_type": "execute_result"
    }
   ],
   "source": [
    "oct(15) # conversio of integer 15 to octal\n",
    "#0o means octal(octal has 8 values)"
   ]
  },
  {
   "cell_type": "code",
   "execution_count": 23,
   "id": "902ac92b-e090-4ec5-b61e-b4dfb27c5719",
   "metadata": {},
   "outputs": [
    {
     "data": {
      "text/plain": [
       "'0xf'"
      ]
     },
     "execution_count": 23,
     "metadata": {},
     "output_type": "execute_result"
    }
   ],
   "source": [
    "hex(15)\n",
    "# 0x means hexadecimal (hexadecimal has 16 values)"
   ]
  },
  {
   "cell_type": "markdown",
   "id": "cd747b89-69cc-4a7c-b702-1e2c4c05cc55",
   "metadata": {
    "scrolled": true
   },
   "source": [
    "# swap 2 - variables in python"
   ]
  },
  {
   "cell_type": "code",
   "execution_count": 11,
   "id": "deb2b382-8c8e-4b5a-a42f-ee0f5b64a0ec",
   "metadata": {},
   "outputs": [],
   "source": [
    "a = 5\n",
    "b = 6"
   ]
  },
  {
   "cell_type": "code",
   "execution_count": 13,
   "id": "d0fcd007-9bb3-434c-935e-edeb7a64607e",
   "metadata": {},
   "outputs": [],
   "source": [
    "temp = a\n",
    "a = b\n",
    "b = temp\n",
    "# temp variable is to store one value temporarily"
   ]
  },
  {
   "cell_type": "code",
   "execution_count": 15,
   "id": "cb93c321-2cba-4d77-9836-be81c8c9ffc3",
   "metadata": {},
   "outputs": [
    {
     "data": {
      "text/plain": [
       "6"
      ]
     },
     "execution_count": 15,
     "metadata": {},
     "output_type": "execute_result"
    }
   ],
   "source": [
    "a"
   ]
  },
  {
   "cell_type": "code",
   "execution_count": 17,
   "id": "94f6dea4-530d-4a62-b6f4-ea1d94baa270",
   "metadata": {},
   "outputs": [
    {
     "data": {
      "text/plain": [
       "5"
      ]
     },
     "execution_count": 17,
     "metadata": {},
     "output_type": "execute_result"
    }
   ],
   "source": [
    "b"
   ]
  },
  {
   "cell_type": "code",
   "execution_count": 39,
   "id": "7c974333-75be-487a-b248-0d8badf29b12",
   "metadata": {},
   "outputs": [],
   "source": [
    "a = 5\n",
    "b = 6"
   ]
  },
  {
   "cell_type": "code",
   "execution_count": 41,
   "id": "b7c9310f-3db9-4ea9-87ce-60ba9464b3cc",
   "metadata": {},
   "outputs": [],
   "source": [
    "# swap variable formula without using temp\n",
    "a = a + b # 5 + 6 = 11\n",
    "b = a - b # 11 - 6 = 5\n",
    "a = a - b # 11 - 5 = 6"
   ]
  },
  {
   "cell_type": "code",
   "execution_count": 43,
   "id": "ffa47bf6-eda1-41fe-b198-8d5f01c34d99",
   "metadata": {},
   "outputs": [
    {
     "data": {
      "text/plain": [
       "6"
      ]
     },
     "execution_count": 43,
     "metadata": {},
     "output_type": "execute_result"
    }
   ],
   "source": [
    "a"
   ]
  },
  {
   "cell_type": "code",
   "execution_count": 45,
   "id": "0a8d3337-8e16-429b-8ca9-99bcdc6fd698",
   "metadata": {},
   "outputs": [
    {
     "data": {
      "text/plain": [
       "5"
      ]
     },
     "execution_count": 45,
     "metadata": {},
     "output_type": "execute_result"
    }
   ],
   "source": [
    "b"
   ]
  },
  {
   "cell_type": "code",
   "execution_count": 47,
   "id": "6cfde411-8263-40c3-a97e-5158ec742a74",
   "metadata": {},
   "outputs": [],
   "source": [
    "x = 3\n",
    "y = 5"
   ]
  },
  {
   "cell_type": "code",
   "execution_count": 49,
   "id": "84787231-e7b3-4742-bd13-e4a1a12cedab",
   "metadata": {},
   "outputs": [],
   "source": [
    "x, y = y, x # doubt_ how it works?"
   ]
  },
  {
   "cell_type": "code",
   "execution_count": 51,
   "id": "9db5517d-ce82-449d-b8f9-76a2dfaa71de",
   "metadata": {},
   "outputs": [
    {
     "data": {
      "text/plain": [
       "5"
      ]
     },
     "execution_count": 51,
     "metadata": {},
     "output_type": "execute_result"
    }
   ],
   "source": [
    "x"
   ]
  },
  {
   "cell_type": "code",
   "execution_count": 53,
   "id": "8ccfc45b-5287-4b12-bace-ba91ec31baca",
   "metadata": {},
   "outputs": [
    {
     "data": {
      "text/plain": [
       "3"
      ]
     },
     "execution_count": 53,
     "metadata": {},
     "output_type": "execute_result"
    }
   ],
   "source": [
    "y"
   ]
  },
  {
   "cell_type": "code",
   "execution_count": null,
   "id": "b0e7072d-1e93-478f-bf6d-40a6afca67ff",
   "metadata": {},
   "outputs": [],
   "source": []
  },
  {
   "cell_type": "markdown",
   "id": "520fa433-bc1c-409e-a04f-a927b2f1fd84",
   "metadata": {},
   "source": [
    "# Install pycharm"
   ]
  },
  {
   "cell_type": "code",
   "execution_count": null,
   "id": "4fcb2d4f-248a-4194-a784-82aa3778fe74",
   "metadata": {},
   "outputs": [],
   "source": []
  },
  {
   "cell_type": "markdown",
   "id": "c26d6bfa-9da4-4aed-b145-f569966b8b17",
   "metadata": {
    "jp-MarkdownHeadingCollapsed": true
   },
   "source": [
    "# 17 march class 18"
   ]
  },
  {
   "cell_type": "markdown",
   "id": "d6dcfe0b-1f19-419e-a9d2-9b0455d1a34a",
   "metadata": {},
   "source": [
    "# BITWISE operator\n",
    "    -> completment(~)\n",
    "    -> and(&)\n",
    "    -> or(|)\n",
    "    -> xor(^)\n",
    "    -> left shift(<<)\n",
    "    -> right shift(>>)"
   ]
  },
  {
   "cell_type": "code",
   "execution_count": null,
   "id": "6c0cd1b8-0849-4c24-86fe-642bff2e2c78",
   "metadata": {},
   "outputs": [],
   "source": []
  },
  {
   "cell_type": "code",
   "execution_count": null,
   "id": "1223ffbb-3dde-482e-9b66-eee60c057065",
   "metadata": {},
   "outputs": [],
   "source": []
  },
  {
   "cell_type": "code",
   "execution_count": null,
   "id": "d8cd2f54-286b-4036-b4e7-433941711334",
   "metadata": {},
   "outputs": [],
   "source": []
  },
  {
   "cell_type": "code",
   "execution_count": null,
   "id": "c5c14705-1d68-4e99-9299-c1ad9df9bf70",
   "metadata": {},
   "outputs": [],
   "source": []
  },
  {
   "cell_type": "code",
   "execution_count": null,
   "id": "042b3515-6e31-418d-8a3a-f6c8a2f434e2",
   "metadata": {},
   "outputs": [],
   "source": []
  },
  {
   "cell_type": "code",
   "execution_count": null,
   "id": "a39d8c2a-ba80-4eb4-aeb5-66a0bf0d9082",
   "metadata": {},
   "outputs": [],
   "source": []
  },
  {
   "cell_type": "code",
   "execution_count": null,
   "id": "7fda2478-9dc1-4524-8193-223dd6a051c1",
   "metadata": {},
   "outputs": [],
   "source": []
  },
  {
   "cell_type": "code",
   "execution_count": null,
   "id": "7cd3c7b8-d493-4a8f-9326-74ed5489c91c",
   "metadata": {},
   "outputs": [],
   "source": []
  },
  {
   "cell_type": "code",
   "execution_count": null,
   "id": "5038a49d-4f34-4af4-bd63-43f6cc29027c",
   "metadata": {},
   "outputs": [],
   "source": []
  },
  {
   "cell_type": "code",
   "execution_count": null,
   "id": "0ed99717-a2e6-46f8-85b4-e3b5e7dc8249",
   "metadata": {},
   "outputs": [],
   "source": []
  },
  {
   "cell_type": "code",
   "execution_count": null,
   "id": "1e12b08c-e9e0-4001-aded-3a00538c879d",
   "metadata": {},
   "outputs": [],
   "source": []
  },
  {
   "cell_type": "code",
   "execution_count": null,
   "id": "5a9adccd-7c2a-4dab-9cca-fb84cd129493",
   "metadata": {},
   "outputs": [],
   "source": []
  }
 ],
 "metadata": {
  "kernelspec": {
   "display_name": "Python [conda env:base] *",
   "language": "python",
   "name": "conda-base-py"
  },
  "language_info": {
   "codemirror_mode": {
    "name": "ipython",
    "version": 3
   },
   "file_extension": ".py",
   "mimetype": "text/x-python",
   "name": "python",
   "nbconvert_exporter": "python",
   "pygments_lexer": "ipython3",
   "version": "3.12.7"
  }
 },
 "nbformat": 4,
 "nbformat_minor": 5
}
