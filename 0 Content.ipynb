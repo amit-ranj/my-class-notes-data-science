{
 "cells": [
  {
   "cell_type": "markdown",
   "id": "aee36f4a-b351-4261-8c98-e764f0912e47",
   "metadata": {},
   "source": [
    "# Things to follow:-\n",
    "\n",
    "for python and other modules\n",
    "- geeksforgeeks\n",
    "- hackerrank\n",
    "- leetcode\n",
    "\n",
    "for sql\n",
    "- w3school\n",
    "- geeksgorgeeks\n",
    "- hackerrank\n",
    "- leetcode\n"
   ]
  },
  {
   "cell_type": "markdown",
   "id": "d7063c31-90a7-4c84-8c12-8b30a654228e",
   "metadata": {},
   "source": [
    "# 25 Feb class 4\n",
    "\n",
    "# Basic python \n",
    "\n",
    "- Variable\n",
    "\n",
    "**Refer note 1 Basic python**"
   ]
  },
  {
   "cell_type": "markdown",
   "id": "99c01e4e-50d1-4231-8c46-660c1b9be200",
   "metadata": {},
   "source": [
    "# 26 Feb class 5\n",
    "\n",
    "# Basic python \n",
    "\n",
    "- Variable\n",
    "- class\n",
    "- keywords\n",
    "- write a program and execute\n",
    "\n",
    "**Refer note 1 Basic python**"
   ]
  },
  {
   "cell_type": "markdown",
   "id": "70a19bc0-4b48-4c24-84b9-313de285028c",
   "metadata": {},
   "source": [
    "# 27 Feb class 6\n",
    "\n",
    "# Basic python \n",
    "\n",
    "- data types\n",
    "- indexing\n",
    "- slicing\n",
    "- string operations\n",
    "- escape sequence\n",
    "\n",
    "**Refer note 1 Basic python**"
   ]
  },
  {
   "cell_type": "markdown",
   "id": "6da0b7f5-4542-41f8-af51-19c6786bc73b",
   "metadata": {},
   "source": [
    "# 28 Feb class 7\n",
    "\n",
    "# Basic python \n",
    "\n",
    "- function argument\n",
    "- type casting\n",
    "- printing result with string (format method, end statement, seprator)\n",
    "- complex data types\n",
    "\n",
    "**Refer note 1 Basic python**"
   ]
  },
  {
   "cell_type": "markdown",
   "id": "ffdaf223-62a4-4c0c-911b-ca6c00f5b485",
   "metadata": {},
   "source": [
    "# 1 March class 8\n",
    "\n",
    "# Basic python \n",
    "\n",
    "- type casting (boolean and string)\n",
    "- operators -> (bitwise operators not covered)\n",
    "- github creation\n",
    "\n",
    "**Refer note 1 Basic python**"
   ]
  },
  {
   "cell_type": "markdown",
   "id": "ff19b248-6321-473b-a1f0-f8cfbb59afba",
   "metadata": {},
   "source": [
    "# 3 March class 9\n",
    "\n",
    "# Basic python \n",
    "\n",
    "- matrix\n",
    "- datastructure\n",
    "- list[]\n",
    "- id()\n",
    "- del\n",
    "- len()\n",
    "- list slicing\n",
    "\n",
    "**Refer note 1 Basic python**"
   ]
  },
  {
   "cell_type": "markdown",
   "id": "e25db64e-598c-41b1-8880-e9d7d7b1f614",
   "metadata": {},
   "source": [
    "# 4 March class 10\n",
    "\n",
    "# Basic python \n",
    "\n",
    "- functions related to list[]\n",
    "\n",
    "**Refer note 1 Basic python**\n",
    "  "
   ]
  },
  {
   "cell_type": "markdown",
   "id": "275b5527-9d89-4f61-8631-6ac4034055e3",
   "metadata": {},
   "source": [
    "# 5 March class 11\n",
    "\n",
    "# Basic python \n",
    "\n",
    "- functions related to list[]\n",
    "\n",
    "\n",
    "**Refer note 1 Basic python**"
   ]
  },
  {
   "cell_type": "markdown",
   "id": "febe964d-0f56-4948-ae8f-ef06eb3db997",
   "metadata": {},
   "source": [
    "# 6 March class 12\n",
    "\n",
    "# Basic python \n",
    "\n",
    "- functions related to tuple()\n",
    "\n",
    "**Refer note 1 Basic python**  "
   ]
  },
  {
   "cell_type": "markdown",
   "id": "114884d1-426e-495e-abe3-0a35125b4a3a",
   "metadata": {},
   "source": [
    "# 7 March class 13\n",
    "\n",
    "# Basic python \n",
    "\n",
    "- functions related to set{}\n",
    "- set operations\n",
    "\n",
    "**Refer note 1 Basic python**"
   ]
  },
  {
   "cell_type": "markdown",
   "id": "16835d6b-7d4d-448c-ae5a-fa8aa927f6c7",
   "metadata": {},
   "source": [
    "# 8 March\n",
    "\n",
    "# Weekly Test\n",
    "\n",
    "-   variables\n",
    "-   keywords\n",
    "-   strings\n",
    "\n",
    "**Refer test folder**"
   ]
  },
  {
   "cell_type": "markdown",
   "id": "34926778-6cd5-40bc-a037-15a96d52a135",
   "metadata": {},
   "source": [
    "# 10 March class 14\n",
    "\n",
    "# Basic python \n",
    "\n",
    "- functions related to set{}\n",
    "- functions related to dict{:}\n",
    "- range() function\n",
    "- string questions\n",
    "\n",
    "**Refer note 1 Basic python**"
   ]
  },
  {
   "cell_type": "markdown",
   "id": "0c08846c-f6d3-4913-ad50-e670b7cc2913",
   "metadata": {},
   "source": [
    "# 11 March class 15\n",
    "\n",
    "# NUMPY\n",
    "\n",
    "- vs code installation\n",
    "- numpy intro\n",
    "- array creation\n",
    "\n",
    "**Refer note 2 Numpy notebook**"
   ]
  },
  {
   "cell_type": "markdown",
   "id": "28f227f4-2e48-4476-b76a-73d3a61b5d08",
   "metadata": {},
   "source": [
    "# 12 March class 16\n",
    "\n",
    "# NUMPY\n",
    "\n",
    "- module and package architect\n",
    "- arange()\n",
    "- zeros() and ones()\n",
    "- parameter tuning\n",
    "- hyperparameter (aka finetuning)\n",
    "- random.rand -> random number generation\n",
    "\n",
    "**Refer note 2 Numpy notebook**"
   ]
  },
  {
   "cell_type": "markdown",
   "id": "de6bd79d-d943-46bb-9711-aa8c17b2fe6b",
   "metadata": {},
   "source": [
    "# 13 March class 17\n",
    "\n",
    "# NUMPY\n",
    "\n",
    "- slicing\n",
    "- matrix (or array) manipulation\n",
    "- indexing in array\n",
    "- masking or filters\n",
    "- image processing\n",
    "**Refer note 2.1 cv for gen ai practicle 1 for image processing and computer vision**\n",
    "\n",
    "**Refer note 2 Numpy notebook**"
   ]
  },
  {
   "cell_type": "markdown",
   "id": "389b3177-a22b-4b43-a749-74ab04620f3f",
   "metadata": {},
   "source": [
    "# 14 March class 18\n",
    "\n",
    "# Basic python\n",
    "\n",
    "- number system\n",
    "- pycharm\n",
    "- help()\n",
    "- swap two variables\n",
    "\n",
    "**Refer note 1 Basic python**  "
   ]
  },
  {
   "cell_type": "markdown",
   "id": "882adeac-fb5d-427f-8a56-b24659ac0117",
   "metadata": {},
   "source": [
    "# 17 March class 19\n",
    "\n",
    "# Basic python\n",
    "\n",
    "- BITWISE OPERATORS\n",
    "- math module\n",
    "- input()\n",
    "- eval()\n",
    "- cli (command line interpreter)\n",
    "\n",
    "**Refer note 1 Basic python**"
   ]
  },
  {
   "cell_type": "markdown",
   "id": "58f01870-a58f-4a91-998d-1b7dad324c87",
   "metadata": {},
   "source": [
    "# 18 March class 20\n",
    "\n",
    "# Matplotlib\n",
    "\n",
    "- matplotlib intro\n",
    "- Project -> IPL data analysis\n",
    "- Numpy Interview questions and answer\n",
    "\n",
    "**Refer note 3 matplotlib intro**"
   ]
  },
  {
   "cell_type": "markdown",
   "id": "3d4f80cd-81a4-4137-a423-db681ea463dc",
   "metadata": {},
   "source": [
    "# 19 March class 21\n",
    "\n",
    "# Pandas\n",
    "\n",
    "- Pandas introduction\n",
    "- python input questions and answers\n",
    "- worked on sample store data to understand statistical data\n",
    "\n",
    "**Refer note 4 Pandas**"
   ]
  },
  {
   "cell_type": "markdown",
   "id": "d864f68c-57a6-41b3-a1e1-5c64e9d2f812",
   "metadata": {},
   "source": [
    "# 20 March class 22\n",
    "\n",
    "# Pandas\n",
    "\n",
    "- project -> country GDP analysis (**Refer note 4.1 Project Country GDP analysis**)\n",
    "- describe() -> descriptive statistic for numerical and categorical data\n",
    "\n",
    "\n",
    "**Refer note 4 Pandas**"
   ]
  },
  {
   "cell_type": "markdown",
   "id": "b1ea085e-ab29-44d6-86a2-f62c9b226689",
   "metadata": {},
   "source": [
    "# 21 March class 23\n",
    "\n",
    "# Pandas\n",
    "\n",
    "- univariant analysis, bivariant analysis, multivariant analysis\n",
    "- different ploting functions (distplot, displot, boxplot, lmplot)\n",
    "- outlier (aka anomaly detection)\n",
    "- add/drop columns\n",
    "- Seaborn introduction\n",
    "- gcf (get current figure) & gca (get current axis)\n",
    "\n",
    "**Refer note 4.1 Project Country GDP analysis**\n"
   ]
  },
  {
   "cell_type": "markdown",
   "id": "dda3f1ae-83e9-4b4f-97d9-4556c8e5df72",
   "metadata": {},
   "source": [
    "# 22 March class 24\n",
    "\n",
    "# Advance Python\n",
    "\n",
    "- conditional statement\n",
    "- if, elif, else, nested if\n",
    "\n",
    "**Refer note 1 Basic python** "
   ]
  },
  {
   "cell_type": "markdown",
   "id": "3d99b2dd-c59c-47ab-99f2-df947bf8dd82",
   "metadata": {},
   "source": [
    "# 24 March class 25\n",
    "\n",
    "# Kaggle\n",
    "\n",
    "- kaggle introduction\n",
    "- Project -> IMDB movie data analysis\n",
    "- raw data  to clean data (data cleaning)\n",
    "- panda DataFrame - merging, aggreagation and filter\n",
    "- spliting one column into multiple columns\n",
    "\n",
    "**Refer note 5 Kaggle IMDB DATA ANALYSIS project**"
   ]
  },
  {
   "cell_type": "markdown",
   "id": "6760b70a-ed87-4179-bbae-272037f9a2be",
   "metadata": {},
   "source": [
    "# 25 March class 26\n",
    "\n",
    "# EDA - Exploratory Data Analysis\n",
    "- EDA techniques\n",
    "- variable identification\n",
    "\n",
    "**Refer note 6 EDA**"
   ]
  },
  {
   "cell_type": "markdown",
   "id": "cd30efb6-78cb-4247-9963-868628658962",
   "metadata": {},
   "source": [
    "# 26 March class 27\n",
    "\n",
    "# EDA - Exploratory Data Analysis\n",
    "- EDA techniques\n",
    "- variable identification\n",
    "- univariant analysis\n",
    "- bivariant analysis(correlation)\n",
    "- outlier treatment\n",
    "- missing value treatment\n",
    "- variable transformation\n",
    "- variable creation\n",
    "\n",
    "**Refer note 6 EDA**"
   ]
  },
  {
   "cell_type": "markdown",
   "id": "7bbd4e31-787a-4a95-822c-d11aa6a7c67b",
   "metadata": {},
   "source": [
    "# 27 March class 28\n",
    "\n",
    "# EDA Practical\n",
    "- data cleaning\n",
    "- missing value treatment\n",
    "- univariant analysis\n",
    "- bivariant analysis\n",
    "- dummy variable creation (imputation technique 1)\n",
    "\n",
    "**Refer note 6.1 EDA practical**"
   ]
  },
  {
   "cell_type": "markdown",
   "id": "e8ac3c03-2b95-49fb-bde9-209fe501e3ad",
   "metadata": {},
   "source": [
    "# 28 March class 29\n",
    "\n",
    "# Seaborn Practical\n",
    "\n",
    "**Refer note 7 Seaborn Practical**"
   ]
  },
  {
   "cell_type": "markdown",
   "id": "71918ce2-7183-471d-87e7-7e36628237fc",
   "metadata": {},
   "source": [
    "# 1 April class 30\n",
    "\n",
    "- streamlit app using cmd & vs code\n",
    "- search on google and read streamlit github\n",
    "- try to build some apps using it\n",
    "\n",
    "**use internet**\n",
    "\n",
    "- search for ollama and read about it\n",
    "- installed ollama framework to access llms locally\n",
    "- type 'ollama' in cmd to view some commands\n",
    "- \"ollama pull mistral\" to bring mistral ai to computer\n",
    "- ollama run mistral - run mistral in cmd\n",
    "- ctrl + z to exit mistral\n",
    "- \"ollama rm mistral to remove it\n",
    "- exit to exit\n",
    "\n",
    "**Refer note 7 seaborn Practical**\n",
    "\n",
    "- loops in python (while, for)\n",
    "\n",
    "**Refer note 1 Basic python**"
   ]
  },
  {
   "cell_type": "markdown",
   "id": "4d0a50fc-dc43-47e8-a8f7-d6c399c37e5a",
   "metadata": {},
   "source": [
    "# 2 April class 31\n",
    "\n",
    "- for else loop\n",
    "\n",
    "**Refer note 1 Basic python**\n",
    "\n",
    "- heart disease analysis\n",
    "\n",
    "**Refer note 8 heart disease analysis**"
   ]
  },
  {
   "cell_type": "markdown",
   "id": "8ef1e10c-9cd2-4e39-bae0-20c3bc0d4753",
   "metadata": {},
   "source": [
    "# 3 April class 32\n",
    "\n",
    "- EDA resume project\n",
    "  - open cmd type ollama to run ollama\n",
    "  - type ollama pull mistral to download mistral\n",
    "  - ollama run mistral to run mistral\n",
    "  - type prompt to generate a reply form mistral\n",
    "  - presst ctrl + z to exit mistral\n",
    "\n",
    "**Refer '1 eda project' folder in vs code**"
   ]
  },
  {
   "cell_type": "markdown",
   "id": "c343e7c6-5673-4181-9ac1-71e21e104a18",
   "metadata": {},
   "source": [
    "# 4 April class 33\n",
    "\n",
    "- sql(structured query language)\n",
    "\n",
    "**Refer PPT in folder**"
   ]
  },
  {
   "cell_type": "markdown",
   "id": "6d1a8ab9-6c44-4146-b82e-387f4551306a",
   "metadata": {},
   "source": [
    "# 5 April Class 34\n",
    "\n",
    "- SQL\n",
    "- installing SQL\n",
    "\n",
    "**Refer SQL Software**"
   ]
  },
  {
   "cell_type": "markdown",
   "id": "9e8322a2-6960-40cf-8bdb-c1edc2f0e178",
   "metadata": {},
   "source": [
    "# 7 April Class 35\n",
    "\n",
    "- SQl\n",
    "- Working on SQL\n",
    "\n",
    "**Refer SQL workbench**"
   ]
  },
  {
   "cell_type": "markdown",
   "id": "76cbdbb1-5ec8-4e3f-bf35-44b628ed9b44",
   "metadata": {},
   "source": [
    "# 8 April Class 36\n",
    "\n",
    "- SQL\n",
    "\n",
    "**Refer SQL workbench**"
   ]
  },
  {
   "cell_type": "markdown",
   "id": "532cb3b7-85de-43e8-938b-ba24d0dd7635",
   "metadata": {},
   "source": [
    "# 9 April Class 37\n",
    "\n",
    "- SQL for data science and data analytics\n",
    "\n",
    "**Refer SQL workbench**"
   ]
  },
  {
   "cell_type": "markdown",
   "id": "0cac1ffc-d031-4ca7-a162-69cfdbab70cb",
   "metadata": {},
   "source": [
    "# 10 April class 38"
   ]
  },
  {
   "cell_type": "markdown",
   "id": "2b359c04-5c15-4c10-a240-8087d8d3a020",
   "metadata": {},
   "source": [
    "# 11 April class 39"
   ]
  },
  {
   "cell_type": "markdown",
   "id": "1af41eb2-a9a6-450b-bf8f-b5537bf0d875",
   "metadata": {},
   "source": [
    "# 12 April class 40"
   ]
  },
  {
   "cell_type": "markdown",
   "id": "2253644c-0ee9-4191-9b59-4b12d9af9167",
   "metadata": {},
   "source": [
    "# 13 April class 41"
   ]
  }
 ],
 "metadata": {
  "kernelspec": {
   "display_name": "Python 3 (ipykernel)",
   "language": "python",
   "name": "python3"
  },
  "language_info": {
   "codemirror_mode": {
    "name": "ipython",
    "version": 3
   },
   "file_extension": ".py",
   "mimetype": "text/x-python",
   "name": "python",
   "nbconvert_exporter": "python",
   "pygments_lexer": "ipython3",
   "version": "3.12.7"
  }
 },
 "nbformat": 4,
 "nbformat_minor": 5
}
